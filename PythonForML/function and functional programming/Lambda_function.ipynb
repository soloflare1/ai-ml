{
 "cells": [
  {
   "cell_type": "code",
   "execution_count": null,
   "id": "f35453d7",
   "metadata": {},
   "outputs": [],
   "source": [
    "\"\"\"\n",
    "lamdaa function :\n",
    "special function\n",
    "in line\n",
    "anonymous\n",
    "on time use\n",
    "\n",
    "so why we use it?\n",
    "\n",
    "map,filter -> function:\n",
    "    we use function which is \n",
    "    on to go \n",
    "    one Time \n",
    "    inline\n",
    "\"\"\"\n",
    "\n",
    "\n",
    "# lamda parameter : expression\n",
    "# parameter -> 1 or more"
   ]
  },
  {
   "cell_type": "markdown",
   "id": "1483916f",
   "metadata": {},
   "source": [
    "### lambda function"
   ]
  },
  {
   "cell_type": "code",
   "execution_count": null,
   "id": "738197ed",
   "metadata": {},
   "outputs": [
    {
     "name": "stdout",
     "output_type": "stream",
     "text": [
      "13\n",
      "13\n"
     ]
    }
   ],
   "source": [
    "def squ_add1(x,y):\n",
    "    return x**2 + y**2\n",
    "print(squ_add2(2,3))\n",
    "\n",
    "# similarly\n",
    "squ_add2 = lambda x,y : x**2 + y**2   # var 1/more, but exp only 1\n",
    "print(squ_add2(2,3))"
   ]
  },
  {
   "cell_type": "code",
   "execution_count": 9,
   "id": "5ee547cc",
   "metadata": {},
   "outputs": [
    {
     "name": "stdout",
     "output_type": "stream",
     "text": [
      "True\n"
     ]
    }
   ],
   "source": [
    "if_even = lambda x : x%2==0   # depend of value it will return int,bool etc\n",
    "\n",
    "print(if_even(220))  \n",
    "\n"
   ]
  }
 ],
 "metadata": {
  "kernelspec": {
   "display_name": "Python 3",
   "language": "python",
   "name": "python3"
  },
  "language_info": {
   "codemirror_mode": {
    "name": "ipython",
    "version": 3
   },
   "file_extension": ".py",
   "mimetype": "text/x-python",
   "name": "python",
   "nbconvert_exporter": "python",
   "pygments_lexer": "ipython3",
   "version": "3.13.7"
  }
 },
 "nbformat": 4,
 "nbformat_minor": 5
}
