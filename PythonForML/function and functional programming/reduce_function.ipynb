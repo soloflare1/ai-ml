{
 "cells": [
  {
   "cell_type": "code",
   "execution_count": null,
   "id": "2e63356e",
   "metadata": {},
   "outputs": [],
   "source": [
    "# Reduce ->\n",
    "\n",
    "# functools\n",
    "# from iterable by define logic it can give result"
   ]
  },
  {
   "cell_type": "code",
   "execution_count": null,
   "id": "eb6675d4",
   "metadata": {},
   "outputs": [
    {
     "name": "stdout",
     "output_type": "stream",
     "text": [
      "15\n",
      "5\n"
     ]
    }
   ],
   "source": [
    "from functools import reduce\n",
    "lst = [1,2,3,4,5]\n",
    "\n",
    "sum = reduce(lambda x,y : x + y, lst)\n",
    "print(sum)\n",
    "# 0+1-> 1+2, 0 theke star hobe\n",
    "\n",
    "\n",
    "mx = reduce(lambda x,y :x if x > y else y, lst)\n",
    "print(mx)\n",
    "\n",
    "\n",
    "\"\"\"\n",
    "  start from 0\n",
    "  0 !> 1 -> 1\n",
    "  1 > 2 -> 2\n",
    "  ...  \n",
    "\"\"\""
   ]
  },
  {
   "cell_type": "code",
   "execution_count": null,
   "id": "431b9e7d",
   "metadata": {},
   "outputs": [],
   "source": []
  }
 ],
 "metadata": {
  "kernelspec": {
   "display_name": "Python 3",
   "language": "python",
   "name": "python3"
  },
  "language_info": {
   "codemirror_mode": {
    "name": "ipython",
    "version": 3
   },
   "file_extension": ".py",
   "mimetype": "text/x-python",
   "name": "python",
   "nbconvert_exporter": "python",
   "pygments_lexer": "ipython3",
   "version": "3.13.7"
  }
 },
 "nbformat": 4,
 "nbformat_minor": 5
}
