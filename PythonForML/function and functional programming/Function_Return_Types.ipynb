{
 "cells": [
  {
   "cell_type": "code",
   "execution_count": 1,
   "id": "82ec2327",
   "metadata": {},
   "outputs": [
    {
     "data": {
      "text/plain": [
       "int"
      ]
     },
     "execution_count": 1,
     "metadata": {},
     "output_type": "execute_result"
    }
   ],
   "source": [
    "def give_predicction():\n",
    "    return 10\n",
    "\n",
    "type(give_predicction())"
   ]
  },
  {
   "cell_type": "code",
   "execution_count": 2,
   "id": "7fec79da",
   "metadata": {},
   "outputs": [
    {
     "data": {
      "text/plain": [
       "float"
      ]
     },
     "execution_count": 2,
     "metadata": {},
     "output_type": "execute_result"
    }
   ],
   "source": [
    "def give_predicction():\n",
    "    return 10.766\n",
    "\n",
    "type(give_predicction())"
   ]
  },
  {
   "cell_type": "code",
   "execution_count": 4,
   "id": "55bb395b",
   "metadata": {},
   "outputs": [
    {
     "name": "stdout",
     "output_type": "stream",
     "text": [
      "(10, 20)\n"
     ]
    }
   ],
   "source": [
    "def give_predicction():\n",
    "    return 10,20\n",
    "\n",
    "type(give_predicction())\n",
    "print(give_predicction())"
   ]
  },
  {
   "cell_type": "code",
   "execution_count": 7,
   "id": "47cc941d",
   "metadata": {},
   "outputs": [
    {
     "name": "stdout",
     "output_type": "stream",
     "text": [
      "(10, 20)\n"
     ]
    }
   ],
   "source": [
    "#  unpacking\n",
    "def give_predicction(a,b):\n",
    "    return a,b\n",
    "\n",
    "x,y = give_predicction(10,20)\n",
    "print(give_predicction(10,20))"
   ]
  },
  {
   "cell_type": "code",
   "execution_count": null,
   "id": "1a4dc8aa",
   "metadata": {},
   "outputs": [
    {
     "name": "stdout",
     "output_type": "stream",
     "text": [
      "[10, 20, 30] [20, 30, 40]\n"
     ]
    }
   ],
   "source": [
    "# list return\n",
    "def give_predicction():\n",
    "    \n",
    "    a=[10,20,30]\n",
    "    b=[20,30,40]\n",
    "    \n",
    "    return a,b\n",
    "\n",
    "# unpacking\n",
    "x,y = give_predicction()\n",
    "print(x,y)"
   ]
  },
  {
   "cell_type": "code",
   "execution_count": 15,
   "id": "954019e9",
   "metadata": {},
   "outputs": [
    {
     "name": "stdout",
     "output_type": "stream",
     "text": [
      "{10, 20, 30}\n",
      "10\n",
      "20\n",
      "30\n"
     ]
    }
   ],
   "source": [
    "# set return\n",
    "def give_predicction():\n",
    "    \n",
    "    a={10,20,30}\n",
    "    return a\n",
    "\n",
    "# unpacking\n",
    "type(give_predicction())\n",
    "\n",
    "x = give_predicction()\n",
    "print(x)\n",
    "\n",
    "for i in x:\n",
    "    print(i)\n",
    "\n",
    "# now can perform any set operations"
   ]
  },
  {
   "cell_type": "code",
   "execution_count": null,
   "id": "e3f9e0ad",
   "metadata": {},
   "outputs": [
    {
     "data": {
      "text/plain": [
       "tuple"
      ]
     },
     "execution_count": 13,
     "metadata": {},
     "output_type": "execute_result"
    }
   ],
   "source": [
    "# muli set covert to tuple\n",
    "def give_predicction():\n",
    "    \n",
    "    a={10,20,30}\n",
    "    b={10,20,30}\n",
    "    return a,b\n",
    "\n",
    "# unpacking\n",
    "type(give_predicction())\n",
    "\n",
    "# now can perform any set operations"
   ]
  },
  {
   "cell_type": "code",
   "execution_count": 16,
   "id": "f5e4e753",
   "metadata": {},
   "outputs": [
    {
     "name": "stdout",
     "output_type": "stream",
     "text": [
      "{'name': 'soloflare', 'id': 5, 'course': ['cs', 'ai/ml']}\n",
      "name\n",
      "id\n",
      "course\n"
     ]
    }
   ],
   "source": [
    "# dic return\n",
    "def give_predicction():\n",
    "    \n",
    "    student = {\n",
    "    \"name\" : \"soloflare\",\n",
    "    \"id\" : 5,\n",
    "    \"course\" : [\"cs\",\"ai/ml\"]\n",
    "     }\n",
    "\n",
    "    return student\n",
    "\n",
    "# unpacking\n",
    "type(give_predicction())\n",
    "\n",
    "x = give_predicction()\n",
    "print(x)\n",
    "\n",
    "for i in x:\n",
    "    print(i)\n",
    "\n",
    "# now can perform any set operations"
   ]
  },
  {
   "cell_type": "code",
   "execution_count": 20,
   "id": "93a56702",
   "metadata": {},
   "outputs": [
    {
     "name": "stdout",
     "output_type": "stream",
     "text": [
      "(({'name': 'soloflare', 'id': 5, 'course': ['cs', 'ai/ml']},), {'name': 'soloflare', 'id': 5, 'course': ['cs', 'ai/ml']})\n",
      "({'name': 'soloflare', 'id': 5, 'course': ['cs', 'ai/ml']},)\n",
      "{'name': 'soloflare', 'id': 5, 'course': ['cs', 'ai/ml']}\n"
     ]
    }
   ],
   "source": [
    "# multi dic convert to tuple\n",
    "def give_predicction():\n",
    "    \n",
    "    student1 = {\n",
    "    \"name\" : \"soloflare\",\n",
    "    \"id\" : 5,\n",
    "    \"course\" : [\"cs\",\"ai/ml\"]\n",
    "     },\n",
    "    student2 = {\n",
    "    \"name\" : \"soloflare\",\n",
    "    \"id\" : 5,\n",
    "    \"course\" : [\"cs\",\"ai/ml\"]\n",
    "     }\n",
    "\n",
    "    return student1,student2\n",
    "\n",
    "# unpacking\n",
    "type(give_predicction())\n",
    "\n",
    "x = give_predicction()\n",
    "print(x)\n",
    "\n",
    "for i in x:\n",
    "    print(i)\n",
    "\n",
    "# now can perform any set operations"
   ]
  }
 ],
 "metadata": {
  "kernelspec": {
   "display_name": "Python 3",
   "language": "python",
   "name": "python3"
  },
  "language_info": {
   "codemirror_mode": {
    "name": "ipython",
    "version": 3
   },
   "file_extension": ".py",
   "mimetype": "text/x-python",
   "name": "python",
   "nbconvert_exporter": "python",
   "pygments_lexer": "ipython3",
   "version": "3.13.7"
  }
 },
 "nbformat": 4,
 "nbformat_minor": 5
}
