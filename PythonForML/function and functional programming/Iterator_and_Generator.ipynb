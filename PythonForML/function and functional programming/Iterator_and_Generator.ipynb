{
 "cells": [
  {
   "cell_type": "markdown",
   "id": "34d51d9b",
   "metadata": {},
   "source": [
    "### iterator"
   ]
  },
  {
   "cell_type": "code",
   "execution_count": null,
   "id": "bd6f3628",
   "metadata": {},
   "outputs": [
    {
     "name": "stdout",
     "output_type": "stream",
     "text": [
      "{50, 20, 40, 10, 30}\n",
      "<set_iterator object at 0x000001F9FCFD5200>\n",
      "<class 'set'>\n",
      "50\n",
      "20\n",
      "40\n",
      "10\n",
      "30\n",
      "50\n",
      "20\n",
      "40\n",
      "10\n",
      "30\n"
     ]
    }
   ],
   "source": [
    "\n",
    "\n",
    "s = {10,20,30,40,50}\n",
    "print(s)\n",
    "\n",
    "s_iter = iter(s)\n",
    "print(s_iter)\n",
    "print(type(s))\n",
    "\n",
    "\n",
    "# same \n",
    "print(next(s_iter))\n",
    "print(next(s_iter))\n",
    "print(next(s_iter))\n",
    "print(next(s_iter))\n",
    "print(next(s_iter))\n",
    "# print(next(s_iter))  StopIteration  ,as all element done\n",
    "\n",
    "# same\n",
    "for i in s:\n",
    "    print(i)"
   ]
  },
  {
   "cell_type": "markdown",
   "id": "e6642b34",
   "metadata": {},
   "source": [
    "### Generator"
   ]
  },
  {
   "cell_type": "code",
   "execution_count": null,
   "id": "898267db",
   "metadata": {},
   "outputs": [],
   "source": [
    "# code run -> secondary mem -> main mem (RAM) \n",
    "\n",
    "# suppose\n",
    "# RAM -> 4GB\n",
    "# Data_set = 10GB\n",
    "# data_set -> RAM -> crash\n",
    "\n",
    "# But if we run 1GB respectively then it will run fast\n",
    "# in this situation generator help us"
   ]
  },
  {
   "cell_type": "code",
   "execution_count": null,
   "id": "62b052d6",
   "metadata": {},
   "outputs": [
    {
     "name": "stdout",
     "output_type": "stream",
     "text": [
      "[0, 1, 2, 3, 4, 5, 6, 7, 8, 9, 10, 11, 12, 13, 14, 15, 16, 17, 18, 19, 20, 21, 22, 23, 24, 25, 26, 27, 28, 29, 30, 31, 32, 33, 34, 35, 36, 37, 38, 39, 40, 41, 42, 43, 44, 45, 46, 47, 48, 49, 50, 51, 52, 53, 54, 55, 56, 57, 58, 59, 60, 61, 62, 63, 64, 65, 66, 67, 68, 69, 70, 71, 72, 73, 74, 75, 76, 77, 78, 79, 80, 81, 82, 83, 84, 85, 86, 87, 88, 89, 90, 91, 92, 93, 94, 95, 96, 97, 98, 99, 100, 101, 102, 103, 104, 105, 106, 107, 108, 109, 110, 111, 112, 113, 114, 115, 116, 117, 118, 119, 120, 121, 122, 123, 124, 125, 126, 127, 128, 129, 130, 131, 132, 133, 134, 135, 136, 137, 138, 139, 140, 141, 142, 143, 144, 145, 146, 147, 148, 149, 150, 151, 152, 153, 154, 155, 156, 157, 158, 159, 160, 161, 162, 163, 164, 165, 166, 167, 168, 169, 170, 171, 172, 173, 174, 175, 176, 177, 178, 179, 180, 181, 182, 183, 184, 185, 186, 187, 188, 189, 190, 191, 192, 193, 194, 195, 196, 197, 198, 199, 200, 201, 202, 203, 204, 205, 206, 207, 208, 209, 210, 211, 212, 213, 214, 215, 216, 217, 218, 219, 220, 221, 222, 223, 224, 225, 226, 227, 228, 229, 230, 231, 232, 233, 234, 235, 236, 237, 238, 239, 240, 241, 242, 243, 244, 245, 246, 247, 248, 249, 250, 251, 252, 253, 254, 255, 256, 257, 258, 259, 260, 261, 262, 263, 264, 265, 266, 267, 268, 269, 270, 271, 272, 273, 274, 275, 276, 277, 278, 279, 280, 281, 282, 283, 284, 285, 286, 287, 288, 289, 290, 291, 292, 293, 294, 295, 296, 297, 298, 299, 300, 301, 302, 303, 304, 305, 306, 307, 308, 309, 310, 311, 312, 313, 314, 315, 316, 317, 318, 319, 320, 321, 322, 323, 324, 325, 326, 327, 328, 329, 330, 331, 332, 333, 334, 335, 336, 337, 338, 339, 340, 341, 342, 343, 344, 345, 346, 347, 348, 349, 350, 351, 352, 353, 354, 355, 356, 357, 358, 359, 360, 361, 362, 363, 364, 365, 366, 367, 368, 369, 370, 371, 372, 373, 374, 375, 376, 377, 378, 379, 380, 381, 382, 383, 384, 385, 386, 387, 388, 389, 390, 391, 392, 393, 394, 395, 396, 397, 398, 399, 400, 401, 402, 403, 404, 405, 406, 407, 408, 409, 410, 411, 412, 413, 414, 415, 416, 417, 418, 419, 420, 421, 422, 423, 424, 425, 426, 427, 428, 429, 430, 431, 432, 433, 434, 435, 436, 437, 438, 439, 440, 441, 442, 443, 444, 445, 446, 447, 448, 449, 450, 451, 452, 453, 454, 455, 456, 457, 458, 459, 460, 461, 462, 463, 464, 465, 466, 467, 468, 469, 470, 471, 472, 473, 474, 475, 476, 477, 478, 479, 480, 481, 482, 483, 484, 485, 486, 487, 488, 489, 490, 491, 492, 493, 494, 495, 496, 497, 498, 499]\n",
      "<generator object data_loader at 0x000001F9FCF98C70>\n",
      "[0, 1, 2, 3, 4, 5, 6, 7, 8, 9]\n",
      "[10, 11, 12, 13, 14, 15, 16, 17, 18, 19]\n"
     ]
    }
   ],
   "source": [
    "lst = [ i for i in range(500) ]   #external dataset\n",
    "\n",
    "print(lst)\n",
    "\n",
    "\n",
    "# 5 size er chunk hisebe load korche\n",
    "# in big daata set we load data chunk by chunk,so it will run fast\n",
    "# & don't crash\n",
    "\n",
    "def data_loader(chunk_size, lst):\n",
    "    for i in range(0,len(lst),chunk_size):\n",
    "        yield lst[ i: i + chunk_size ]\n",
    "        \n",
    "        \n",
    "x = data_loader(10, lst)\n",
    "print(x)\n",
    "print(next(x))  #[0, 1, 2, 3, 4], first 5ta dibe\n",
    "print(next(x))"
   ]
  },
  {
   "cell_type": "code",
   "execution_count": 31,
   "id": "22ce35c2",
   "metadata": {},
   "outputs": [
    {
     "name": "stdout",
     "output_type": "stream",
     "text": [
      "<generator object loader at 0x000001F9FCF1D7E0>\n",
      "[0, 4, 16, 36, 64]\n",
      "[4, 16, 36, 64, 100]\n"
     ]
    }
   ],
   "source": [
    "lst = [ i*i for i in range(100) if i%2 == 0]\n",
    "# print(lst)\n",
    "\n",
    "\n",
    "def loader(chunk_size, lst):\n",
    "    for i in range(len(lst)):\n",
    "        yield lst[i:i+chunk_size]    \n",
    "        \n",
    "x=loader(5,lst)\n",
    "# print(x, type(x))   ,as we use yield so its now generator\n",
    "\n",
    "print(x)  # <generator object loader at 0x000001F9FCF1F140>\n",
    "print(next(x))   # generator create a iter \n",
    "print(next(x))"
   ]
  },
  {
   "cell_type": "code",
   "execution_count": null,
   "id": "9efdd0e9",
   "metadata": {},
   "outputs": [
    {
     "name": "stdout",
     "output_type": "stream",
     "text": [
      "(10, 20, 30, 40, 59)\n",
      "None\n"
     ]
    }
   ],
   "source": [
    "\n",
    "def sqr_add(*args):\n",
    "    print(args)\n",
    "\n",
    "ans = sqr_add(10,20,30,40,59)\n",
    "print(ans)\n",
    "\n",
    "# output\n",
    "# (10, 20, 30, 40, 59) as tuple\n",
    "# None,as we do not return anything"
   ]
  },
  {
   "cell_type": "code",
   "execution_count": null,
   "id": "c8f95cbe",
   "metadata": {},
   "outputs": [],
   "source": []
  },
  {
   "cell_type": "code",
   "execution_count": 36,
   "id": "5c847c95",
   "metadata": {},
   "outputs": [
    {
     "name": "stdout",
     "output_type": "stream",
     "text": [
      "<generator object loader at 0x000001F9FD1585E0>\n",
      "[0, 4, 16, 36, 64]\n",
      "[100, 144, 196, 256, 324]\n",
      "[400, 484, 576, 676, 784]\n"
     ]
    }
   ],
   "source": [
    "lst = [ i*i for i in range(100) if i%2 == 0]\n",
    "# print(lst)\n",
    "\n",
    "\n",
    "def loader(chunk_size, lst):\n",
    "    for i in range(0,len(lst),chunk_size):\n",
    "        yield lst[i:i+chunk_size]    \n",
    "        \n",
    "x=loader(5,lst)\n",
    "# print(x, type(x))   ,as we use yield so its now generator\n",
    "\n",
    "print(x)  # <generator object loader at 0x000001F9FCF1F140>\n",
    "print(next(x))   # generator create a iter \n",
    "print(next(x))\n",
    "print(next(x))"
   ]
  }
 ],
 "metadata": {
  "kernelspec": {
   "display_name": "Python 3",
   "language": "python",
   "name": "python3"
  },
  "language_info": {
   "codemirror_mode": {
    "name": "ipython",
    "version": 3
   },
   "file_extension": ".py",
   "mimetype": "text/x-python",
   "name": "python",
   "nbconvert_exporter": "python",
   "pygments_lexer": "ipython3",
   "version": "3.13.7"
  }
 },
 "nbformat": 4,
 "nbformat_minor": 5
}
