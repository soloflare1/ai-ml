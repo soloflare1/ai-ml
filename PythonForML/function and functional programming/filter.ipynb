{
 "cells": [
  {
   "cell_type": "code",
   "execution_count": 3,
   "id": "afbf61ff",
   "metadata": {},
   "outputs": [
    {
     "name": "stdout",
     "output_type": "stream",
     "text": [
      "[0, 1, 2, 3, 4, 5, 6, 7, 8, 9, 10, 11, 12, 13, 14, 15, 16, 17, 18, 19, 20, 21, 22, 23, 24, 25, 26, 27, 28, 29, 30, 31, 32, 33, 34, 35, 36, 37, 38, 39, 40, 41, 42, 43, 44, 45, 46, 47, 48, 49, 50, 51, 52, 53, 54, 55, 56, 57, 58, 59, 60, 61, 62, 63, 64, 65, 66, 67, 68, 69, 70, 71, 72, 73, 74, 75, 76, 77, 78, 79, 80, 81, 82, 83, 84, 85, 86, 87, 88, 89, 90, 91, 92, 93, 94, 95, 96, 97, 98, 99]\n",
      "[0, 2, 4, 6, 8, 10, 12, 14, 16, 18, 20, 22, 24, 26, 28, 30, 32, 34, 36, 38, 40, 42, 44, 46, 48, 50, 52, 54, 56, 58, 60, 62, 64, 66, 68, 70, 72, 74, 76, 78, 80, 82, 84, 86, 88, 90, 92, 94, 96, 98]\n"
     ]
    }
   ],
   "source": [
    "num = [x for x in range(100)]\n",
    "print(num)\n",
    "\n",
    "# filter(bool return function, iterable)\n",
    "\n",
    "even = list(filter(lambda x : x % 2 == 0, num))\n",
    "print(even)"
   ]
  },
  {
   "cell_type": "code",
   "execution_count": 4,
   "id": "70d1904a",
   "metadata": {},
   "outputs": [
    {
     "name": "stdout",
     "output_type": "stream",
     "text": [
      "[51, 52, 53, 54, 55, 56, 57, 58, 59, 60, 61, 62, 63, 64, 65, 66, 67, 68, 69, 70, 71, 72, 73, 74, 75, 76, 77, 78, 79, 80, 81, 82, 83, 84, 85, 86, 87, 88, 89, 90, 91, 92, 93, 94, 95, 96, 97, 98, 99]\n"
     ]
    }
   ],
   "source": [
    "num = [x for x in range(100)]\n",
    "\n",
    "fifty_upper = list(filter(lambda x : x > 50, num))\n",
    "\n",
    "print(fifty_upper)"
   ]
  },
  {
   "cell_type": "code",
   "execution_count": 5,
   "id": "1f645911",
   "metadata": {},
   "outputs": [
    {
     "name": "stdout",
     "output_type": "stream",
     "text": [
      "[1, ' ', 'Naba', 'Hello', [1, 2, 3]]\n"
     ]
    }
   ],
   "source": [
    "data = [0,1,' ', 'Naba', [], {}, 'Hello',[1,2,3]]\n",
    "\n",
    "cleaned_data = list(filter(None,data))\n",
    "\n",
    "print(cleaned_data)"
   ]
  },
  {
   "cell_type": "code",
   "execution_count": null,
   "id": "88aafb6c",
   "metadata": {},
   "outputs": [
    {
     "name": "stdout",
     "output_type": "stream",
     "text": [
      "H E L L O   W O R L D ,   W E L C O M E   T O   T H E   A G E   O F   A L\n",
      "['E', 'O', 'O', 'E', 'O', 'E', 'O', 'E', 'A', 'E', 'O', 'A']\n"
     ]
    }
   ],
   "source": [
    "\n",
    "text = \"hello world, welcome to the age of AL\"\n",
    "\n",
    "text1 = list(map(str.upper, text))\n",
    "\n",
    "text2 = \" \".join(text1)  # join by space ' '\n",
    "print(text2)\n",
    "vowel = list(filter(lambda x : x in 'AEIOU', text2))\n",
    "print(vowel)\n",
    "# without convertng list it will give obj\n",
    "\n",
    "# now we can also join "
   ]
  },
  {
   "cell_type": "code",
   "execution_count": 9,
   "id": "b93bbdcd",
   "metadata": {},
   "outputs": [
    {
     "name": "stdout",
     "output_type": "stream",
     "text": [
      "['ccc', 'ddd']\n"
     ]
    }
   ],
   "source": [
    "fruits = ['aa', 'bb', 'ccc','ddd']\n",
    "\n",
    "filtering = list(filter(lambda x : len(x) > 2, fruits))\n",
    "print(filtering)"
   ]
  },
  {
   "cell_type": "code",
   "execution_count": null,
   "id": "a0c57f88",
   "metadata": {},
   "outputs": [],
   "source": []
  }
 ],
 "metadata": {
  "kernelspec": {
   "display_name": "Python 3",
   "language": "python",
   "name": "python3"
  },
  "language_info": {
   "codemirror_mode": {
    "name": "ipython",
    "version": 3
   },
   "file_extension": ".py",
   "mimetype": "text/x-python",
   "name": "python",
   "nbconvert_exporter": "python",
   "pygments_lexer": "ipython3",
   "version": "3.13.7"
  }
 },
 "nbformat": 4,
 "nbformat_minor": 5
}
