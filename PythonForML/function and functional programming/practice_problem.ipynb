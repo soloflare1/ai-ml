{
 "cells": [
  {
   "cell_type": "code",
   "execution_count": null,
   "id": "5650a277",
   "metadata": {},
   "outputs": [
    {
     "name": "stdout",
     "output_type": "stream",
     "text": [
      "[3, 4, 1, 2]\n",
      "3 4 1 2 "
     ]
    }
   ],
   "source": [
    "# https://codeforces.com/group/MWSDmqGsZm/contest/223205/problem/G [ Do it using lambda function ] \n",
    "# https://codeforces.com/group/MWSDmqGsZm/contest/223205/problem/J [ using reduce] \n",
    "# https://codeforces.com/group/MWSDmqGsZm/contest/223205/problem/L \n",
    "\n",
    "\n",
    "# Given two arrays A\n",
    "#  and B\n",
    "#  of size N\n",
    "# . Print a new array C\n",
    "#  that holds the concatenation of array B\n",
    "#  followed by array A\n",
    "# .\n",
    "\n",
    "# Note: Solve this problem using function.\n",
    "n=int(input())\n",
    "\n",
    "l1 = list(map(int,input().split()))\n",
    "l2 = list(map(int,input().split()))\n",
    "\n",
    "for i in range(n):\n",
    "    l2.append(l1[i])\n",
    "    \n",
    "# print(l2) \n",
    "\n",
    "# unpacking from list\n",
    "for i in l2:\n",
    "    print(i, end=\" \")\n",
    "    \n"
   ]
  },
  {
   "cell_type": "code",
   "execution_count": null,
   "id": "3f40da16",
   "metadata": {},
   "outputs": [
    {
     "name": "stdout",
     "output_type": "stream",
     "text": [
      "2.500000\n"
     ]
    }
   ],
   "source": [
    "# Given an array A\n",
    "#  of size N\n",
    "# . Print the average(mean) of the array numbers.\n",
    "\n",
    "# Note: Solve this problem using function.\n",
    "# Print the average(mean) of the array with 6 digits after the decimal point.\n",
    "\n",
    "n=int(input())\n",
    "\n",
    "l = list(map(float,input().split()))\n",
    "\n",
    "sum = 0\n",
    "for i in l:\n",
    "    sum += i\n",
    "    \n",
    "# print(sum/n)\n",
    "print(f\"{sum/n:.6f}\")"
   ]
  },
  {
   "cell_type": "code",
   "execution_count": null,
   "id": "b7a0c471",
   "metadata": {},
   "outputs": [],
   "source": [
    "# Given an array A of size N. Print the minimum and the maximum number in the array.\n",
    "\n",
    "# Note: Solve this problem using function.\n",
    "# Print the minimum and the maximum number separated by a space.\n",
    "\n"
   ]
  }
 ],
 "metadata": {
  "kernelspec": {
   "display_name": "Python 3",
   "language": "python",
   "name": "python3"
  },
  "language_info": {
   "codemirror_mode": {
    "name": "ipython",
    "version": 3
   },
   "file_extension": ".py",
   "mimetype": "text/x-python",
   "name": "python",
   "nbconvert_exporter": "python",
   "pygments_lexer": "ipython3",
   "version": "3.13.7"
  }
 },
 "nbformat": 4,
 "nbformat_minor": 5
}
