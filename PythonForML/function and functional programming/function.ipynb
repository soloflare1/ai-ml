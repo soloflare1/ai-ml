{
 "cells": [
  {
   "cell_type": "code",
   "execution_count": null,
   "id": "0781892d",
   "metadata": {},
   "outputs": [
    {
     "name": "stdout",
     "output_type": "stream",
     "text": [
      "Hi\n",
      "Hi,  Naba\n"
     ]
    }
   ],
   "source": [
    "def greet():\n",
    "    print(\"Hi\")\n",
    "    \n",
    "greet()\n",
    "\n",
    "# argument passing\n",
    "def greet1(user):\n",
    "    print(\"Hi,\", user)\n",
    "    \n",
    "# greet1()  error\n",
    "greet1(\"Naba\")\n",
    "\n",
    "\n",
    "# with default value\n",
    "def greet2(user=\"Nosratee\"):\n",
    "    print(\"Hi,\", user)\n",
    "\n",
    "greet2()\n",
    "greet2(\"Naba\")"
   ]
  },
  {
   "cell_type": "code",
   "execution_count": null,
   "id": "c082bcb7",
   "metadata": {},
   "outputs": [
    {
     "name": "stdout",
     "output_type": "stream",
     "text": [
      "10  20 30\n",
      "540\n"
     ]
    }
   ],
   "source": [
    "# positional arg\n",
    "def sqr_add(a,b,c):\n",
    "    print(f\"{a}  {b} {c}\")   #10  20 30,\n",
    "    a=a**2\n",
    "    b=b**2\n",
    "    return a+b+c\n",
    "\n",
    "ans=sqr_add(10,20,30) + 10\n",
    "print(ans)"
   ]
  },
  {
   "cell_type": "code",
   "execution_count": 7,
   "id": "51003c11",
   "metadata": {},
   "outputs": [
    {
     "name": "stdout",
     "output_type": "stream",
     "text": [
      "30  10 20\n",
      "1030\n"
     ]
    }
   ],
   "source": [
    "# keyword arguments\n",
    "def sqr_add(a,b,c):\n",
    "    print(f\"{a}  {b} {c}\")   #10  20 30,positional arg\n",
    "    a=a**2\n",
    "    b=b**2\n",
    "    return a+b+c\n",
    "\n",
    "ans=sqr_add(b=10,c=20,a=30) + 10\n",
    "print(ans)"
   ]
  },
  {
   "cell_type": "markdown",
   "id": "9bab482a",
   "metadata": {},
   "source": [
    "## Args"
   ]
  },
  {
   "cell_type": "code",
   "execution_count": null,
   "id": "fdf35725",
   "metadata": {},
   "outputs": [
    {
     "name": "stdout",
     "output_type": "stream",
     "text": [
      "(10, 20, 30, 40, 59)\n",
      "None\n"
     ]
    }
   ],
   "source": [
    "\n",
    "def sqr_add(*args):\n",
    "    print(args)\n",
    "\n",
    "ans = sqr_add(10,20,30,40,59)\n",
    "print(ans)\n",
    "\n",
    "# output\n",
    "# (10, 20, 30, 40, 59) as tuple\n",
    "# None,as we do not return anything"
   ]
  },
  {
   "cell_type": "code",
   "execution_count": 12,
   "id": "f2889db8",
   "metadata": {},
   "outputs": [
    {
     "name": "stdout",
     "output_type": "stream",
     "text": [
      "10\n",
      "20\n",
      "30\n",
      "40\n",
      "59\n",
      "None\n"
     ]
    }
   ],
   "source": [
    "def sqr_add(*args):\n",
    "    for i in args:\n",
    "        print(i)\n",
    "\n",
    "ans = sqr_add(10,20,30,40,59)\n",
    "print(ans)"
   ]
  },
  {
   "cell_type": "code",
   "execution_count": 13,
   "id": "63daa29f",
   "metadata": {},
   "outputs": [
    {
     "name": "stdout",
     "output_type": "stream",
     "text": [
      "6481\n"
     ]
    }
   ],
   "source": [
    "def sqr_add(*args):\n",
    "    sum=0\n",
    "    for i in args:\n",
    "        sum+=i**2\n",
    "        # print(i)\n",
    "    return sum\n",
    "\n",
    "ans = sqr_add(10,20,30,40,59)\n",
    "print(ans)"
   ]
  },
  {
   "cell_type": "markdown",
   "id": "62474e42",
   "metadata": {},
   "source": [
    "## keyword args"
   ]
  },
  {
   "cell_type": "code",
   "execution_count": 20,
   "id": "e4e02bd5",
   "metadata": {},
   "outputs": [
    {
     "name": "stdout",
     "output_type": "stream",
     "text": [
      "{'name': 'soloflare', 'id': 5, 'marks': 90}\n"
     ]
    }
   ],
   "source": [
    "def student(**kwargs):\n",
    "        print(kwargs)\n",
    "\n",
    "student(name = \"soloflare\",id = 5,marks=90)\n"
   ]
  },
  {
   "cell_type": "code",
   "execution_count": 23,
   "id": "e4aeb0e1",
   "metadata": {},
   "outputs": [
    {
     "name": "stdout",
     "output_type": "stream",
     "text": [
      "name : soloflare\n",
      "id : 5\n",
      "marks : 90\n"
     ]
    }
   ],
   "source": [
    "def student(**kwargs):\n",
    "    for key,val in kwargs.items():\n",
    "        print(f\"{key} : {val}\")\n",
    "\n",
    "student(name = \"soloflare\",id = 5,marks=90)\n"
   ]
  },
  {
   "cell_type": "code",
   "execution_count": null,
   "id": "1479a035",
   "metadata": {},
   "outputs": [],
   "source": []
  }
 ],
 "metadata": {
  "kernelspec": {
   "display_name": "Python 3",
   "language": "python",
   "name": "python3"
  },
  "language_info": {
   "codemirror_mode": {
    "name": "ipython",
    "version": 3
   },
   "file_extension": ".py",
   "mimetype": "text/x-python",
   "name": "python",
   "nbconvert_exporter": "python",
   "pygments_lexer": "ipython3",
   "version": "3.13.7"
  }
 },
 "nbformat": 4,
 "nbformat_minor": 5
}
