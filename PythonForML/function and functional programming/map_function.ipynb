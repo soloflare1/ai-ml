{
 "cells": [
  {
   "cell_type": "code",
   "execution_count": null,
   "id": "b336935e",
   "metadata": {},
   "outputs": [],
   "source": [
    "# map-> per value te specific function apply korte pare"
   ]
  },
  {
   "cell_type": "code",
   "execution_count": null,
   "id": "655d2113",
   "metadata": {},
   "outputs": [
    {
     "name": "stdout",
     "output_type": "stream",
     "text": [
      "4\n",
      "[1, 4, 9, 16, 25]\n"
     ]
    }
   ],
   "source": [
    "lst = [1,2,3,4,5]\n",
    "\n",
    "def sqr_f(a):\n",
    "    return a**2\n",
    "\n",
    "x = sqr_f(2)\n",
    "print(x)\n",
    "\n",
    "l=list(map(sqr_f, lst))\n",
    "print(l)\n",
    "# also possible in set etc\n",
    "\n"
   ]
  },
  {
   "cell_type": "code",
   "execution_count": null,
   "id": "9f4ef371",
   "metadata": {},
   "outputs": [
    {
     "name": "stdout",
     "output_type": "stream",
     "text": [
      "['H', 'E', 'L', 'L', 'O', ' ', 'W', 'O', 'R', 'L', 'D', ',', ' ', 'W', 'E', 'L', 'C', 'O', 'M', 'E', ' ', 'T', 'O', ' ', 'T', 'H', 'E', ' ', 'A', 'G', 'E', ' ', 'O', 'F', ' ', 'A', 'L']\n",
      "H E L L O   W O R L D ,   W E L C O M E   T O   T H E   A G E   O F   A L\n"
     ]
    }
   ],
   "source": [
    "# convert capital per word\n",
    "\n",
    "text = \"hello world, welcome to the age of AL\"\n",
    "\n",
    "text1 = list(map(str.upper, text))\n",
    "\n",
    "print(text1)\n",
    "\n",
    "text2 = \" \".join(text1)  # join by space ' '\n",
    "print(text2)"
   ]
  },
  {
   "cell_type": "markdown",
   "id": "919a64d4",
   "metadata": {},
   "source": [
    "# map with lambda"
   ]
  },
  {
   "cell_type": "code",
   "execution_count": 9,
   "id": "5b554f01",
   "metadata": {},
   "outputs": [
    {
     "name": "stdout",
     "output_type": "stream",
     "text": [
      "[1, 4, 9, 16, 25]\n"
     ]
    }
   ],
   "source": [
    "lst = [1,2,3,4,5]\n",
    "\n",
    "# def sqr_f(a):\n",
    "#     return a**2\n",
    "\n",
    "# l = list(map(sqr_f, lst))\n",
    "\n",
    "l = list(map(lambda x : x**2, lst))\n",
    "print(l)\n",
    "\n",
    "\n"
   ]
  },
  {
   "cell_type": "code",
   "execution_count": 11,
   "id": "c0a00a6d",
   "metadata": {},
   "outputs": [
    {
     "name": "stdout",
     "output_type": "stream",
     "text": [
      "[1, 4, 3, 16, 5]\n"
     ]
    }
   ],
   "source": [
    "lst = [1,2,3,4,5]\n",
    "\n",
    "l = list(map(lambda x : x**2 if x%2==0 else x, lst))\n",
    "print(l)\n"
   ]
  }
 ],
 "metadata": {
  "kernelspec": {
   "display_name": "Python 3",
   "language": "python",
   "name": "python3"
  },
  "language_info": {
   "codemirror_mode": {
    "name": "ipython",
    "version": 3
   },
   "file_extension": ".py",
   "mimetype": "text/x-python",
   "name": "python",
   "nbconvert_exporter": "python",
   "pygments_lexer": "ipython3",
   "version": "3.13.7"
  }
 },
 "nbformat": 4,
 "nbformat_minor": 5
}
