{
 "cells": [
  {
   "cell_type": "code",
   "execution_count": 2,
   "id": "25727344",
   "metadata": {},
   "outputs": [
    {
     "name": "stdout",
     "output_type": "stream",
     "text": [
      "[1 2 3 4]\n",
      "\n",
      "[[1 2 3 4]\n",
      " [5 6 7 8]]\n"
     ]
    }
   ],
   "source": [
    "import numpy as np\n",
    "\n",
    "a1 = np.array([1,2,3,4])\n",
    "a2 = np.array([\n",
    "    [1,2,3,4],\n",
    "    [5,6,7,8]\n",
    "])\n",
    "\n",
    "print(a1)\n",
    "print()\n",
    "print(a2)"
   ]
  },
  {
   "cell_type": "markdown",
   "id": "88af9308",
   "metadata": {},
   "source": [
    "## indexing"
   ]
  },
  {
   "cell_type": "code",
   "execution_count": 8,
   "id": "2f5ded63",
   "metadata": {},
   "outputs": [
    {
     "name": "stdout",
     "output_type": "stream",
     "text": [
      "2\n",
      "100\n",
      "\n",
      "3\n",
      "355\n"
     ]
    }
   ],
   "source": [
    "print(a1[1])\n",
    "\n",
    "a1[3] = 100\n",
    "print(a1[3])\n",
    "print()\n",
    "\n",
    "print(a2[0][2])\n",
    "a2[0][2] = 355\n",
    "print(a2[0][2])"
   ]
  },
  {
   "cell_type": "markdown",
   "id": "e5f69e3e",
   "metadata": {},
   "source": [
    "## slicing"
   ]
  },
  {
   "cell_type": "code",
   "execution_count": null,
   "id": "163ed139",
   "metadata": {},
   "outputs": [
    {
     "name": "stdout",
     "output_type": "stream",
     "text": [
      "[  2   3 100]\n"
     ]
    }
   ],
   "source": [
    "# 1d - arr[start:end:step]\n",
    "ar = a1[1:4]\n",
    "print(ar)"
   ]
  },
  {
   "cell_type": "code",
   "execution_count": null,
   "id": "b6cc8d84",
   "metadata": {},
   "outputs": [
    {
     "name": "stdout",
     "output_type": "stream",
     "text": [
      "[[  1   2 355   4]\n",
      " [  5   6   7   8]]\n",
      "\n",
      "[[  1   2 355   4]]\n",
      "\n",
      "[[5 6 7 8]]\n",
      "[[1]\n",
      " [5]]\n",
      "\n",
      "[]\n",
      "\n",
      "[[1 2]\n",
      " [5 6]]\n",
      "\n",
      "[[1 2]\n",
      " [5 6]]\n",
      "\n",
      "[2 6]\n"
     ]
    }
   ],
   "source": [
    "# 2d - arr[row_start: row_end :step, col_start: col_end :step]\n",
    "print(a2)\n",
    "print()\n",
    "\n",
    "# getting a row\n",
    "row_0 = a2[0:1,]\n",
    "row_1= a2[1:,]\n",
    "\n",
    "print(row_0)\n",
    "print()\n",
    "print(row_1)\n",
    "\n",
    "# getting a col\n",
    "col_0 = a2[::, 0:1]\n",
    "col_1= a2[::, 1:1]\n",
    "\n",
    "print(col_0)\n",
    "print()\n",
    "print(col_1)\n",
    "print()\n",
    "\n",
    "# getting a portion\n",
    "x = a2[0:2, 0:2]\n",
    "print(x)\n",
    "print()\n",
    "# same\n",
    "x = a2[::, 0:2]\n",
    "print(x)\n",
    "print()\n",
    "\n",
    "# col 1 full\n",
    "x = a2[:, 1]\n",
    "print(x)\n",
    "\n"
   ]
  }
 ],
 "metadata": {
  "kernelspec": {
   "display_name": "base",
   "language": "python",
   "name": "python3"
  },
  "language_info": {
   "codemirror_mode": {
    "name": "ipython",
    "version": 3
   },
   "file_extension": ".py",
   "mimetype": "text/x-python",
   "name": "python",
   "nbconvert_exporter": "python",
   "pygments_lexer": "ipython3",
   "version": "3.13.5"
  }
 },
 "nbformat": 4,
 "nbformat_minor": 5
}
