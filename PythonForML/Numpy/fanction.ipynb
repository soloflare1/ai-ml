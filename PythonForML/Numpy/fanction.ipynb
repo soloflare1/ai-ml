{
 "cells": [
  {
   "cell_type": "code",
   "execution_count": 2,
   "id": "c5305432",
   "metadata": {},
   "outputs": [
    {
     "name": "stdout",
     "output_type": "stream",
     "text": [
      "[ True  True False  True]\n",
      "[False False False False]\n",
      "False\n",
      "False\n"
     ]
    }
   ],
   "source": [
    "import numpy as np \n",
    "x = np.array([10, 8, 4, 100])\n",
    "y = np.array([5, 1, 7, 3])\n",
    "\n",
    "print(x > y)\n",
    "print(x == y)\n",
    "\n",
    "\n",
    "\n",
    "# all () -> true kina\n",
    "print(np.all(x==y))\n",
    "\n",
    "# any () -> jekono 1ta true kina\n",
    "print(np.any(x==y))"
   ]
  },
  {
   "cell_type": "markdown",
   "id": "970810a3",
   "metadata": {},
   "source": [
    "## sorting"
   ]
  },
  {
   "cell_type": "code",
   "execution_count": 9,
   "id": "77f0efa2",
   "metadata": {},
   "outputs": [
    {
     "name": "stdout",
     "output_type": "stream",
     "text": [
      "[ 10   8   4 100]\n",
      "[  4   8  10 100]\n"
     ]
    }
   ],
   "source": [
    "#  inplace (prev version can't find)\n",
    "z = x.copy()\n",
    "print(z)\n",
    "\n",
    "z.sort()\n",
    "print(z)\n",
    "\n"
   ]
  },
  {
   "cell_type": "code",
   "execution_count": 7,
   "id": "2ec5a7cd",
   "metadata": {},
   "outputs": [
    {
     "name": "stdout",
     "output_type": "stream",
     "text": [
      "[ 10   8   4 100]\n",
      "[  4   8  10 100]\n",
      "[ 10   8   4 100]\n"
     ]
    }
   ],
   "source": [
    "\n",
    "# copy sorting\n",
    "\n",
    "print(x)\n",
    "y = np.sort(x)\n",
    "print(y)\n",
    "print(x)\n"
   ]
  },
  {
   "cell_type": "code",
   "execution_count": 12,
   "id": "1dfa1e6a",
   "metadata": {},
   "outputs": [
    {
     "name": "stdout",
     "output_type": "stream",
     "text": [
      "[[10  3  5]\n",
      " [ 8  4  9]]\n",
      "[[ 3  5 10]\n",
      " [ 4  8  9]]\n",
      "[[ 8  3  5]\n",
      " [10  4  9]]\n"
     ]
    }
   ],
   "source": [
    "#  2d\n",
    "\n",
    "mat = np.array([[10,3,5], [8,4,9]])\n",
    "print(mat)\n",
    "\n",
    "# horizontal axis = 1\n",
    "\n",
    "hort_sort = np.sort(mat, axis=1)\n",
    "print(hort_sort)\n",
    "\n",
    "# horizontal axis = 1\n",
    "\n",
    "vert_sort = np.sort(mat, axis=0)\n",
    "print(vert_sort)"
   ]
  },
  {
   "cell_type": "markdown",
   "id": "e9025b0d",
   "metadata": {},
   "source": [
    "## searching"
   ]
  },
  {
   "cell_type": "code",
   "execution_count": 13,
   "id": "673b0944",
   "metadata": {},
   "outputs": [
    {
     "name": "stdout",
     "output_type": "stream",
     "text": [
      "[ 10   8   4 100]\n"
     ]
    }
   ],
   "source": [
    "print(x)"
   ]
  },
  {
   "cell_type": "code",
   "execution_count": null,
   "id": "585be0cf",
   "metadata": {},
   "outputs": [
    {
     "name": "stdout",
     "output_type": "stream",
     "text": [
      "(array([1]),)\n",
      "(array([0, 3]),)\n"
     ]
    }
   ],
   "source": [
    "#  np. where\n",
    "#return index\n",
    "index = np.where(x==8)\n",
    "print(index)\n",
    "\n",
    "index = np.where(x>8)\n",
    "print(index)"
   ]
  },
  {
   "cell_type": "code",
   "execution_count": 23,
   "id": "9af79a9e",
   "metadata": {},
   "outputs": [
    {
     "name": "stdout",
     "output_type": "stream",
     "text": [
      "[[10  3  5]\n",
      " [ 8  4  9]]\n",
      "(array([0, 1]), array([0, 2]))\n"
     ]
    }
   ],
   "source": [
    "#  np. where(condition, x, y)  \n",
    "print(mat)\n",
    "index = np.where(mat>8)\n",
    "print(index)\n"
   ]
  },
  {
   "cell_type": "code",
   "execution_count": 19,
   "id": "f31006af",
   "metadata": {},
   "outputs": [
    {
     "name": "stdout",
     "output_type": "stream",
     "text": [
      "[0 8 0 0]\n"
     ]
    }
   ],
   "source": [
    "#  np. where(condition, x, y)  if true x, otherwise replace with y\n",
    "index = np.where(x==8, x,0)  #return array\n",
    "print(index)\n"
   ]
  },
  {
   "cell_type": "code",
   "execution_count": null,
   "id": "f261a41f",
   "metadata": {},
   "outputs": [
    {
     "name": "stdout",
     "output_type": "stream",
     "text": [
      "[[0 0 0]\n",
      " [8 0 0]]\n"
     ]
    }
   ],
   "source": [
    "#  np. where(condition, x, y)  if true x, otherwise replace with y\n",
    "index = np.where(mat==8, mat,0)  \n",
    "print(index)"
   ]
  },
  {
   "cell_type": "markdown",
   "id": "86544389",
   "metadata": {},
   "source": [
    "## min , max"
   ]
  },
  {
   "cell_type": "code",
   "execution_count": 26,
   "id": "e4cd91ba",
   "metadata": {},
   "outputs": [
    {
     "name": "stdout",
     "output_type": "stream",
     "text": [
      "[100   8   4 100]\n",
      "0\n",
      "0\n",
      "2\n"
     ]
    }
   ],
   "source": [
    "print(x)\n",
    "\n",
    "# return index\n",
    "mx_val =np.argmax(x)\n",
    "print(mx_val)\n",
    "\n",
    "x = np.array([100, 8, 4, 100])\n",
    "mx_val =np.argmax(x)\n",
    "print(mx_val) #first idx\n",
    "\n",
    "\n",
    "mn_val =np.argmin(x)\n",
    "print(mn_val)\n"
   ]
  },
  {
   "cell_type": "code",
   "execution_count": 30,
   "id": "198ea9c0",
   "metadata": {},
   "outputs": [
    {
     "name": "stdout",
     "output_type": "stream",
     "text": [
      "[40 32 45 71 77 72  2 95 82 74 86 86 99 93 60 82 54 46  5 11 59 26 94 97\n",
      " 91 70 82 60 52 75 20 59 30 60 90 20 92 11 94 53 11 38 50 83 66 88 70 50\n",
      " 66 52 60 56  2  6 66 78 23  2 13 20 99 13 13 54 69 39 44 69 22 55 72 29\n",
      " 76 42 64 32 19 20 20  8 33 55  7 26 10 24 84  3 25 46 74 65 20 61 25 71\n",
      " 63 14 21 44]\n"
     ]
    }
   ],
   "source": [
    "a = np.random.randint(1,100,size=(100,))\n",
    "print(a)"
   ]
  },
  {
   "cell_type": "code",
   "execution_count": 35,
   "id": "76c2ce8d",
   "metadata": {},
   "outputs": [
    {
     "name": "stdout",
     "output_type": "stream",
     "text": [
      "39\n"
     ]
    }
   ],
   "source": [
    "val_grat_than_60 = np.count_nonzero(a > 60)\n",
    "print(val_grat_than_60)\n"
   ]
  },
  {
   "cell_type": "markdown",
   "id": "119bb17c",
   "metadata": {},
   "source": []
  },
  {
   "cell_type": "code",
   "execution_count": 32,
   "id": "cbe8a23b",
   "metadata": {},
   "outputs": [
    {
     "name": "stdout",
     "output_type": "stream",
     "text": [
      "[ 2  3  5  6  7  8 10 11 13 14 19 20 21 22 23 24 25 26 29 30 32 33 38 39\n",
      " 40 42 44 45 46 50 52 53 54 55 56 59 60 61 63 64 65 66 69 70 71 72 74 75\n",
      " 76 77 78 82 83 84 86 88 90 91 92 93 94 95 97 99]\n"
     ]
    }
   ],
   "source": [
    "unique_val = np.unique(a)\n",
    "print(unique_val)"
   ]
  },
  {
   "cell_type": "code",
   "execution_count": 33,
   "id": "8cc7f72f",
   "metadata": {},
   "outputs": [
    {
     "name": "stdout",
     "output_type": "stream",
     "text": [
      "(array([ 2,  3,  5,  6,  7,  8, 10, 11, 13, 14, 19, 20, 21, 22, 23, 24, 25,\n",
      "       26, 29, 30, 32, 33, 38, 39, 40, 42, 44, 45, 46, 50, 52, 53, 54, 55,\n",
      "       56, 59, 60, 61, 63, 64, 65, 66, 69, 70, 71, 72, 74, 75, 76, 77, 78,\n",
      "       82, 83, 84, 86, 88, 90, 91, 92, 93, 94, 95, 97, 99], dtype=int32), array([3, 1, 1, 1, 1, 1, 1, 3, 3, 1, 1, 6, 1, 1, 1, 1, 2, 2, 1, 1, 2, 1,\n",
      "       1, 1, 1, 1, 2, 1, 2, 2, 2, 1, 2, 2, 1, 2, 4, 1, 1, 1, 1, 3, 2, 2,\n",
      "       2, 2, 2, 1, 1, 1, 1, 3, 1, 1, 2, 1, 1, 1, 1, 1, 2, 1, 1, 2]))\n"
     ]
    }
   ],
   "source": [
    "unique_val = np.unique(a, return_counts=True)\n",
    "print(unique_val)"
   ]
  },
  {
   "cell_type": "code",
   "execution_count": 34,
   "id": "24f7dc56",
   "metadata": {},
   "outputs": [
    {
     "name": "stdout",
     "output_type": "stream",
     "text": [
      "[ 2  3  5  6  7  8 10 11 13 14 19 20 21 22 23 24 25 26 29 30 32 33 38 39\n",
      " 40 42 44 45 46 50 52 53 54 55 56 59 60 61 63 64 65 66 69 70 71 72 74 75\n",
      " 76 77 78 82 83 84 86 88 90 91 92 93 94 95 97 99]\n",
      "[3 1 1 1 1 1 1 3 3 1 1 6 1 1 1 1 2 2 1 1 2 1 1 1 1 1 2 1 2 2 2 1 2 2 1 2 4\n",
      " 1 1 1 1 3 2 2 2 2 2 1 1 1 1 3 1 1 2 1 1 1 1 1 2 1 1 2]\n"
     ]
    }
   ],
   "source": [
    "#  unpake\n",
    "unique_val, count = np.unique(a, return_counts=True)\n",
    "print(unique_val)\n",
    "print(count)"
   ]
  },
  {
   "cell_type": "markdown",
   "id": "5bc89b31",
   "metadata": {},
   "source": [
    "# Statistical function"
   ]
  },
  {
   "cell_type": "code",
   "execution_count": 38,
   "id": "00ed04e8",
   "metadata": {},
   "outputs": [
    {
     "name": "stdout",
     "output_type": "stream",
     "text": [
      "[[78. 85. 82.]\n",
      " [56. 67. 72.]\n",
      " [89. 92. 88.]\n",
      " [45. 52. 58.]\n",
      " [70. 75. 80.]\n",
      " [92. 90. 91.]\n",
      " [61. 60. 62.]\n",
      " [55. 57. 54.]\n",
      " [88. 89. 87.]\n",
      " [74. 70. 76.]\n",
      " [66. 69. 68.]\n",
      " [80. 82. 81.]\n",
      " [59. 64. 60.]\n",
      " [73. 78. 74.]\n",
      " [91. 93. 90.]\n",
      " [68. 71. 69.]\n",
      " [77. 79. 78.]\n",
      " [84. 86. 85.]\n",
      " [62. 63. 65.]\n",
      " [95. 97. 96.]]\n"
     ]
    }
   ],
   "source": [
    "#  data load\n",
    "# genfromtxt - > for txt & csv file\n",
    "data = np.genfromtxt('students_scores.csv', delimiter=',', skip_header=1)\n",
    "\n",
    "print(data)"
   ]
  },
  {
   "cell_type": "code",
   "execution_count": 41,
   "id": "6e467b64",
   "metadata": {},
   "outputs": [
    {
     "name": "stdout",
     "output_type": "stream",
     "text": [
      "[[78. 56. 89. 45. 70. 92. 61. 55. 88. 74. 66. 80. 59. 73. 91. 68. 77. 84.\n",
      "  62. 95.]]\n"
     ]
    }
   ],
   "source": [
    "# statistics\n",
    "\n",
    "math_marks = data[::, :1]\n",
    "# print(math_marks) # col wise display\n",
    "print(math_marks.T) # row wise display\n"
   ]
  },
  {
   "cell_type": "code",
   "execution_count": 46,
   "id": "bac32b1a",
   "metadata": {},
   "outputs": [
    {
     "name": "stdout",
     "output_type": "stream",
     "text": [
      "95.0\n",
      "45.0\n",
      "73.15\n",
      "73.5\n",
      "13.788672887555204\n"
     ]
    }
   ],
   "source": [
    "max_math_marks = np.max(math_marks)\n",
    "print(max_math_marks)\n",
    "\n",
    "min_math_marks = np.min(math_marks)\n",
    "print(min_math_marks)\n",
    "\n",
    "avg_math_marks = np.mean(math_marks)\n",
    "print(avg_math_marks)\n",
    "\n",
    "median_math_marks = np.median(math_marks)\n",
    "print(median_math_marks)\n",
    "\n",
    "# SD-> standard deviation avg er kachakachi kina?\n",
    "std_math_marks = np.std(math_marks)\n",
    "print(std_math_marks)\n"
   ]
  }
 ],
 "metadata": {
  "kernelspec": {
   "display_name": "base",
   "language": "python",
   "name": "python3"
  },
  "language_info": {
   "codemirror_mode": {
    "name": "ipython",
    "version": 3
   },
   "file_extension": ".py",
   "mimetype": "text/x-python",
   "name": "python",
   "nbconvert_exporter": "python",
   "pygments_lexer": "ipython3",
   "version": "3.13.5"
  }
 },
 "nbformat": 4,
 "nbformat_minor": 5
}
