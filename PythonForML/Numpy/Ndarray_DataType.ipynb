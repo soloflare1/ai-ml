{
 "cells": [
  {
   "cell_type": "markdown",
   "id": "21080f49",
   "metadata": {},
   "source": [
    "nd data type"
   ]
  },
  {
   "cell_type": "code",
   "execution_count": 6,
   "id": "b0de7de4",
   "metadata": {},
   "outputs": [
    {
     "name": "stdout",
     "output_type": "stream",
     "text": [
      "int64\n",
      "float64\n",
      "float64\n",
      "<U32\n"
     ]
    }
   ],
   "source": [
    "import numpy as np\n",
    "a = np.array([1,2,3,4,5])\n",
    "print(a.dtype)\n",
    "\n",
    "a=np.array([1.2, 3.4, 5.6])\n",
    "# float64, always try to use it, it gives max precision\n",
    "print(a.dtype)  \n",
    "\n",
    "\n",
    "# upcasted to float\n",
    "\n",
    "a=np.array([1, 3, 5.6])\n",
    "print(a.dtype) #float64\n",
    "\n",
    "# int   float\n",
    "# 1   ->  1.0   possible\n",
    "# 1.0 -> 1.0    possible\n",
    "# 1   <-   1.0  not possible\n",
    "\n",
    "# upcasted to string\n",
    "a = np.array([1,3,'naba',1.2])\n",
    "print(a.dtype)   # <U32 ,string\n",
    "\n"
   ]
  },
  {
   "cell_type": "markdown",
   "id": "d08c1bcc",
   "metadata": {},
   "source": [
    "### selecting a data type for an array"
   ]
  },
  {
   "cell_type": "code",
   "execution_count": 8,
   "id": "ecbe4783",
   "metadata": {},
   "outputs": [
    {
     "name": "stdout",
     "output_type": "stream",
     "text": [
      "int8\n",
      "[1 2 3]\n"
     ]
    }
   ],
   "source": [
    "# change data type\n",
    "a = np.array([1,2,3], dtype=np.int8)\n",
    "print(a.dtype)\n",
    "print(a)"
   ]
  },
  {
   "cell_type": "code",
   "execution_count": 16,
   "id": "a9b18002",
   "metadata": {},
   "outputs": [
    {
     "name": "stdout",
     "output_type": "stream",
     "text": [
      "int16\n",
      "[  1   2 300]\n",
      "[  1   2 300]\n",
      "[  1.   2. 300.]\n"
     ]
    }
   ],
   "source": [
    "a = np.array([1,2,300], dtype=np.int16)\n",
    "print(a.dtype)\n",
    "print(a)\n",
    "\n",
    "\n",
    "a = np.array([1,2,300], dtype=np.float64)\n",
    "print(a.astype(np.int32))\n",
    "print(a)"
   ]
  },
  {
   "cell_type": "code",
   "execution_count": 15,
   "id": "61cfd5ae",
   "metadata": {},
   "outputs": [
    {
     "name": "stdout",
     "output_type": "stream",
     "text": [
      "int64\n",
      "[  1   2 300]\n",
      "[  1   2 300]\n"
     ]
    }
   ],
   "source": [
    "a = np.array([1,2,300])\n",
    "print(a.dtype)\n",
    "print(a)\n",
    "\n",
    "print(a.astype(np.int16))\n",
    " "
   ]
  },
  {
   "cell_type": "markdown",
   "id": "a9508c95",
   "metadata": {},
   "source": [
    "## Error"
   ]
  },
  {
   "cell_type": "code",
   "execution_count": 12,
   "id": "dc3444c8",
   "metadata": {},
   "outputs": [
    {
     "ename": "OverflowError",
     "evalue": "Python integer 300 out of bounds for int8",
     "output_type": "error",
     "traceback": [
      "\u001b[1;31m---------------------------------------------------------------------------\u001b[0m",
      "\u001b[1;31mOverflowError\u001b[0m                             Traceback (most recent call last)",
      "Cell \u001b[1;32mIn[12], line 2\u001b[0m\n\u001b[0;32m      1\u001b[0m \u001b[38;5;66;03m# OverflowError: Python integer 300 out of bounds for int8\u001b[39;00m\n\u001b[1;32m----> 2\u001b[0m a \u001b[38;5;241m=\u001b[39m np\u001b[38;5;241m.\u001b[39marray([\u001b[38;5;241m1\u001b[39m,\u001b[38;5;241m2\u001b[39m,\u001b[38;5;241m300\u001b[39m], dtype\u001b[38;5;241m=\u001b[39mnp\u001b[38;5;241m.\u001b[39mint8)\n\u001b[0;32m      3\u001b[0m \u001b[38;5;28mprint\u001b[39m(a\u001b[38;5;241m.\u001b[39mdtype)\n\u001b[0;32m      4\u001b[0m \u001b[38;5;28mprint\u001b[39m(a)\n",
      "\u001b[1;31mOverflowError\u001b[0m: Python integer 300 out of bounds for int8"
     ]
    }
   ],
   "source": [
    "# OverflowError: Python integer 300 out of bounds for int8\n",
    "a = np.array([1,2,300], dtype=np.int8)\n",
    "print(a.dtype)\n",
    "print(a)\n",
    "\n",
    "# ValueError: invalid literal for int() with base 10: 'naba'\n",
    "# as string k int e convert korte cacchi\n",
    "a = np.array([1,2,'naba'], dtype=np.int16)\n",
    "print(a.dtype)\n",
    "print(a)"
   ]
  }
 ],
 "metadata": {
  "kernelspec": {
   "display_name": "base",
   "language": "python",
   "name": "python3"
  },
  "language_info": {
   "codemirror_mode": {
    "name": "ipython",
    "version": 3
   },
   "file_extension": ".py",
   "mimetype": "text/x-python",
   "name": "python",
   "nbconvert_exporter": "python",
   "pygments_lexer": "ipython3",
   "version": "3.13.5"
  }
 },
 "nbformat": 4,
 "nbformat_minor": 5
}
