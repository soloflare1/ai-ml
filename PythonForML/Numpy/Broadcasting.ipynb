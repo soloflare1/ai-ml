{
 "cells": [
  {
   "cell_type": "code",
   "execution_count": null,
   "id": "8fef1fe3",
   "metadata": {},
   "outputs": [],
   "source": [
    "# Broadcasting = Auto-stretching arrays to match shapes.\n",
    "# Works when:\n",
    "# - Shapes match from the end\n",
    "# - Or one shape is 1\n",
    "\n",
    "# a = np.array([[1, 2, 3], [4, 5, 6]])  # shape (2, 3)  \n",
    "# b = np.array([10, 20, 30])           # shape (3,)  \n",
    "# print(a + b)\n",
    "\n",
    "\n",
    "# a = np.array([[1, 2, 3], [4, 5, 6]])  # shape (2, 3)\n",
    "# b = np.array([10, 20])               # shape (2,)\n",
    "# print(a + b)  # ❌ Error!"
   ]
  },
  {
   "cell_type": "code",
   "execution_count": null,
   "id": "052dfc9a",
   "metadata": {},
   "outputs": [
    {
     "name": "stdout",
     "output_type": "stream",
     "text": [
      "[  100    64    16 10000]\n",
      "[ 12  10   6 102]\n",
      "[[ 12  10   6 102]\n",
      " [  4   6   7   7]]\n",
      "[[ 11  10   7 104]\n",
      " [  3   6   8   9]]\n"
     ]
    }
   ],
   "source": [
    "import numpy as np \n",
    "x = np.array([10, 8, 4, 100])\n",
    "\n",
    "res = x**2    # divide [ 2  2  2  2] then 10^2 8^2..\n",
    "print(res)\n",
    "\n",
    "\n",
    "res = x+2    # divide [ 2  2  2  2] then 10^2 8^2..\n",
    "print(res)\n",
    "\n",
    "\n",
    "\n",
    "matrix = np.array([\n",
    "    [10, 8, 4, 100],\n",
    "    [2,4, 5,5]])\n",
    "\n",
    "res = matrix+2    # divide  2  2  2  2 \n",
    "                #         2  2  2  2  then \n",
    "print(res)\n",
    "\n",
    "\n",
    "# rulling = cols er size & vector er size same hote hobe\n",
    "matrix = np.array([\n",
    "    [10, 8, 4, 100],\n",
    "    [2,4, 5,5]])\n",
    "\n",
    "vector = np.array([1,2,3,4])\n",
    "res = matrix + vector    \n",
    "print(res)\n"
   ]
  },
  {
   "cell_type": "code",
   "execution_count": null,
   "id": "9f6ccdf1",
   "metadata": {},
   "outputs": [],
   "source": [
    "# So the operation looks like:\n",
    "\n",
    "# [10,  8,  4, 100]   +   [1, 2, 3, 4]   =   [11, 10, 7, 104]\n",
    "# [ 2,  4,  5,   5]   +   [1, 2, 3, 4]   =   [3, 6, 8, 9]\n"
   ]
  }
 ],
 "metadata": {
  "kernelspec": {
   "display_name": "base",
   "language": "python",
   "name": "python3"
  },
  "language_info": {
   "codemirror_mode": {
    "name": "ipython",
    "version": 3
   },
   "file_extension": ".py",
   "mimetype": "text/x-python",
   "name": "python",
   "nbconvert_exporter": "python",
   "pygments_lexer": "ipython3",
   "version": "3.13.5"
  }
 },
 "nbformat": 4,
 "nbformat_minor": 5
}
