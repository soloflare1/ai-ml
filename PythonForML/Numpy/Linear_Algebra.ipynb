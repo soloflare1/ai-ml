{
 "cells": [
  {
   "cell_type": "code",
   "execution_count": null,
   "id": "28f945b4",
   "metadata": {},
   "outputs": [
    {
     "name": "stdout",
     "output_type": "stream",
     "text": [
      "correlation matrix:\n",
      " [[1.        0.8660254]\n",
      " [0.8660254 1.       ]]\n"
     ]
    }
   ],
   "source": [
    "import numpy as np\n",
    "\n",
    "# shape must be same\n",
    "study_hours = np.array([2, 4, 5])\n",
    "exam_scores = np.array([65, 70, 90])\n",
    "\n",
    "data = np.array([study_hours, exam_scores])\n",
    "correlation = np.corrcoef(data)\n",
    "\n",
    "print(\"correlation matrix:\\n\", correlation)"
   ]
  },
  {
   "cell_type": "code",
   "execution_count": 12,
   "id": "daf64a1c",
   "metadata": {},
   "outputs": [
    {
     "name": "stdout",
     "output_type": "stream",
     "text": [
      "[[ 58  64]\n",
      " [139 154]]\n"
     ]
    }
   ],
   "source": [
    "#  matrix multi\n",
    "# must be R1 == C2\n",
    "\n",
    "a = np.array([\n",
    "    [1,2,3],\n",
    "    [4,5,6]\n",
    "])\n",
    "\n",
    "b = np.array([\n",
    "    [7,8],\n",
    "    [9,10],\n",
    "    [11,12]\n",
    "])\n",
    "\n",
    "dot_product = np.dot(a,b)\n",
    "print(dot_product)\n"
   ]
  },
  {
   "cell_type": "code",
   "execution_count": null,
   "id": "2485752b",
   "metadata": {},
   "outputs": [
    {
     "name": "stdout",
     "output_type": "stream",
     "text": [
      "6\n"
     ]
    }
   ],
   "source": [
    "#  trace = dialgonal element er sum\n",
    "trace_of_a_mat = np.trace(a)\n",
    "print(trace_of_a_mat)\n",
    "\n"
   ]
  },
  {
   "cell_type": "code",
   "execution_count": null,
   "id": "8a68a6af",
   "metadata": {},
   "outputs": [
    {
     "name": "stdout",
     "output_type": "stream",
     "text": [
      "8.437694987151141e-16\n"
     ]
    }
   ],
   "source": [
    "#  determinant\n",
    "sq_mat = np.array([\n",
    "    [1,2,3],\n",
    "    [4,5,6,],\n",
    "    [5,6,7]\n",
    "])\n",
    "\n",
    "det_of_mat = np.linalg.det(sq_mat)\n",
    "print(det_of_mat)"
   ]
  },
  {
   "cell_type": "code",
   "execution_count": 16,
   "id": "d733ed94",
   "metadata": {},
   "outputs": [
    {
     "name": "stdout",
     "output_type": "stream",
     "text": [
      "2\n"
     ]
    }
   ],
   "source": [
    "rank_sq_mat = np.linalg.matrix_rank(sq_mat)\n",
    "print(rank_sq_mat)"
   ]
  }
 ],
 "metadata": {
  "kernelspec": {
   "display_name": "base",
   "language": "python",
   "name": "python3"
  },
  "language_info": {
   "codemirror_mode": {
    "name": "ipython",
    "version": 3
   },
   "file_extension": ".py",
   "mimetype": "text/x-python",
   "name": "python",
   "nbconvert_exporter": "python",
   "pygments_lexer": "ipython3",
   "version": "3.13.5"
  }
 },
 "nbformat": 4,
 "nbformat_minor": 5
}
