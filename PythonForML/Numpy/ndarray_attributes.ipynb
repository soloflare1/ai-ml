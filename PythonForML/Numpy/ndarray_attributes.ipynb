{
 "cells": [
  {
   "cell_type": "code",
   "execution_count": null,
   "id": "92aca96e",
   "metadata": {},
   "outputs": [],
   "source": [
    "# nd array -> n dimentional array"
   ]
  },
  {
   "cell_type": "code",
   "execution_count": 4,
   "id": "62553f02",
   "metadata": {},
   "outputs": [
    {
     "name": "stdout",
     "output_type": "stream",
     "text": [
      "[1, 2, 3, 4, 5, 1, 2, 3, 4, 5, 1, 2, 3, 4, 5, 1, 2, 3, 4, 5, 1, 2, 3, 4, 5]\n"
     ]
    }
   ],
   "source": [
    "arr = [1,2,3,4,5]\n",
    "# here the issue is that when we multiply by 5 it will repeat the array 5 times\n",
    "print(arr * 5)\n",
    "\n",
    "# to multiply each element by 5 we can use list comprehension\n",
    "# arr = [ x*5 for x in arr]\n",
    "# print(arr * 5)"
   ]
  },
  {
   "cell_type": "code",
   "execution_count": 3,
   "id": "82302573",
   "metadata": {},
   "outputs": [
    {
     "name": "stdout",
     "output_type": "stream",
     "text": [
      "[ 5 10 15 20 25]\n"
     ]
    }
   ],
   "source": [
    "import numpy as np\n",
    "# numpy is a pakage\n",
    "# installed in anaconda by default\n",
    "\n",
    "arr1 = np.array([1,2,3,4,5])\n",
    "# now if we multiply by 5 it will multiply each element by 5\n",
    "# it is because numpy array supports element wise operations\n",
    "# much faster than list comprehension\n",
    "arr1 = arr1 * 5\n",
    "print(arr1)  # this will multiply each element by 5"
   ]
  },
  {
   "cell_type": "code",
   "execution_count": 12,
   "id": "50e18c0e",
   "metadata": {},
   "outputs": [
    {
     "name": "stdout",
     "output_type": "stream",
     "text": [
      "<class 'numpy.ndarray'>\n",
      "1\n",
      "(5,)\n",
      "(2, 4)\n",
      "2\n",
      "(2, 2, 4)\n",
      "3\n"
     ]
    }
   ],
   "source": [
    "import numpy as np\n",
    "\n",
    "# 1d array\n",
    "arr_1d = np.array([1, 2, 3, 4, 5])\n",
    "print(type(arr_1d))  # Output: <class 'numpy.ndarray'\n",
    "\n",
    "print(arr_1d.ndim)  # Output: 1\n",
    "print(arr_1d.shape)  # Output: (5,)\n",
    "\n",
    "# 2d array\n",
    "arr_2d = np.array([\n",
    "    # columns 4 \n",
    "    [1,2,3,4], #row1\n",
    "    [5,6,7,8] #row2\n",
    "])\n",
    "\n",
    "print(arr_2d.shape) # Output: (2, 4)\n",
    "print(arr_2d.ndim)  # Output: 2\n",
    "\n",
    "\n",
    "# 3d array\n",
    "\n",
    "arr_3d = np.array([\n",
    "    # colomns 4\n",
    "    [   \n",
    "    # 1st floor\n",
    "      [1,2,3,4], #row1\n",
    "      [5,6,7,8] #row2\n",
    "    ],\n",
    "    # 2nd floor\n",
    "    [\n",
    "      [1,2,3,4], #row1\n",
    "      [5,6,7,8] #row2\n",
    "    ]\n",
    "    \n",
    "])\n",
    "\n",
    "print(arr_3d.shape) # Output: (2, 2, 4)\n",
    "print(arr_3d.ndim)  # Output: 3"
   ]
  },
  {
   "cell_type": "markdown",
   "id": "f99d4b7c",
   "metadata": {},
   "source": [
    "Array attributes"
   ]
  },
  {
   "cell_type": "code",
   "execution_count": 13,
   "id": "fd9d294d",
   "metadata": {},
   "outputs": [
    {
     "name": "stdout",
     "output_type": "stream",
     "text": [
      "1\n",
      "2\n",
      "3\n",
      "(5,)\n",
      "(2, 4)\n",
      "(2, 2, 4)\n",
      "int64\n",
      "int64\n",
      "int64\n",
      "5\n",
      "8\n",
      "16\n"
     ]
    }
   ],
   "source": [
    "# dimensions -> ndim\n",
    "print(arr_1d.ndim)  # Output: 1\n",
    "print(arr_2d.ndim)  # Output: 2\n",
    "print(arr_3d.ndim)   # Output: 3\n",
    "\n",
    "# shape -> size in each dimension\n",
    "print(arr_1d.shape)  # Output: (5,) , 5 elements \n",
    "print(arr_2d.shape)  # Output: (2, 4)  , 2 rows and 4 columns     \n",
    "print(arr_3d.shape)  # Output: (2, 2, 4) , 2 floors, 2 rows and 4 columns\n",
    "\n",
    "# data type -> dtype\n",
    "print(arr_1d.dtype)  # shape -> size in each dimension\n",
    "print(arr_2d.dtype)  # shape -> size in each dimension\n",
    "print(arr_3d.dtype)\n",
    "\n",
    "# size -> total number of elements\n",
    "print(arr_1d.size)  # Output: 5\n",
    "print(arr_2d.size)  # Output: 8\n",
    "print(arr_3d.size)  # Output: 16\n"
   ]
  },
  {
   "cell_type": "markdown",
   "id": "0bf3591a",
   "metadata": {},
   "source": [
    " "
   ]
  }
 ],
 "metadata": {
  "kernelspec": {
   "display_name": "base",
   "language": "python",
   "name": "python3"
  },
  "language_info": {
   "codemirror_mode": {
    "name": "ipython",
    "version": 3
   },
   "file_extension": ".py",
   "mimetype": "text/x-python",
   "name": "python",
   "nbconvert_exporter": "python",
   "pygments_lexer": "ipython3",
   "version": "3.13.5"
  }
 },
 "nbformat": 4,
 "nbformat_minor": 5
}
