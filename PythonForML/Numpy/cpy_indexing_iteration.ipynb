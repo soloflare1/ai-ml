{
 "cells": [
  {
   "cell_type": "code",
   "execution_count": null,
   "id": "d425c72c",
   "metadata": {},
   "outputs": [
    {
     "name": "stdout",
     "output_type": "stream",
     "text": [
      "[1 2 3 4]\n",
      "[2 3 4]\n",
      "[  1 100   3   4]\n",
      "[1 0 0 0]\n",
      "[1 0 0 0]\n"
     ]
    }
   ],
   "source": [
    "\n",
    "import numpy as np\n",
    "\n",
    "a1 = np.array([1,2,3,4])\n",
    "a2 = np.array([\n",
    "    [1,2,3,4],\n",
    "    [5,6,7,8]\n",
    "])\n",
    "\n",
    "# view\n",
    "a_mod = a1[1:4]\n",
    "# a_mod is a view of a1 not copyright \n",
    "# so if we change it ,it will also change original aa1\n",
    "\n",
    "print(a1)\n",
    "print(a_mod)\n",
    "\n",
    "a_mod[0] = 100\n",
    "print(a1)\n",
    "\n",
    "a1[1:4] = 0\n",
    "print(a1)   #[1 0 0 0]\n",
    "\n",
    "# copy\n",
    "# no change in a1\n",
    "a_mod = a1[1:4].copy()\n",
    "a_mod[0] = 2\n",
    "print(a1)\n",
    "\n"
   ]
  },
  {
   "cell_type": "code",
   "execution_count": 20,
   "id": "8f3c8cc0",
   "metadata": {},
   "outputs": [
    {
     "name": "stdout",
     "output_type": "stream",
     "text": [
      "[30 40]\n",
      "[30 40 60 70]\n",
      "[[0 2 3 4]\n",
      " [5 6 7 8]]\n",
      "\n",
      "2 [1, 3]\n",
      "[3 4 5 6 7 8]\n",
      "[[0 2 0 0]\n",
      " [0 0 0 0]]\n"
     ]
    }
   ],
   "source": [
    "# advanced indexing\n",
    "\n",
    "lst = np.array([10,20,30,40,50,60,70])\n",
    "\n",
    "val = lst[[2,3]]   #2 and 3 no index er value\n",
    "print(val)\n",
    "\n",
    "val = lst[[2,3,5,6]]   \n",
    "print(val)\n",
    "\n",
    "print(a2)\n",
    "print()\n",
    "print(a2[0,1], [1,3])\n",
    "\n",
    "#  boolean kono kichu diye\n",
    "print(a2[a2 > 2])\n",
    "\n",
    "a2[a2>2] = 0\n",
    "print(a2)"
   ]
  },
  {
   "cell_type": "code",
   "execution_count": 23,
   "id": "be44037a",
   "metadata": {},
   "outputs": [
    {
     "name": "stdout",
     "output_type": "stream",
     "text": [
      "[10 20] [10 20]\n",
      "[10 20] [100 200]\n",
      "[100 200] [10 20]\n",
      "[100 200] [100 200]\n",
      "10\n",
      "20\n",
      "100\n",
      "200\n"
     ]
    }
   ],
   "source": [
    "a = np.array([[10,20], [100,200]])\n",
    "\n",
    "# iteration\n",
    "for i in a:\n",
    "    for j in a:\n",
    "        print(i,j)\n",
    "        \n",
    "        \n",
    "for i in np.nditer(a):\n",
    "    print(i)\n",
    "    "
   ]
  }
 ],
 "metadata": {
  "kernelspec": {
   "display_name": "base",
   "language": "python",
   "name": "python3"
  },
  "language_info": {
   "codemirror_mode": {
    "name": "ipython",
    "version": 3
   },
   "file_extension": ".py",
   "mimetype": "text/x-python",
   "name": "python",
   "nbconvert_exporter": "python",
   "pygments_lexer": "ipython3",
   "version": "3.13.5"
  }
 },
 "nbformat": 4,
 "nbformat_minor": 5
}
