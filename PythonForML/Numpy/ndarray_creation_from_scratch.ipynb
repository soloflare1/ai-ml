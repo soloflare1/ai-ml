{
 "cells": [
  {
   "cell_type": "code",
   "execution_count": null,
   "id": "437db39f",
   "metadata": {},
   "outputs": [],
   "source": [
    "\"\"\"\n",
    "np.full((r, c), v)\n",
    "    •Creates an array of shape (r, c)\n",
    "    •filled with the value v\n",
    "    \n",
    "np.full((r, c), np.inf)\n",
    "    •Creates an array of shape (r, c)\n",
    "    •filled with the value infinity\n",
    "    \n",
    "np.empty_like(arr)\n",
    "   • Creates a new array with same shape and type as arr\n",
    "   • Values are uninitialized (random garbage)\n",
    "   • Values are uninitialized (one -> 1)\n",
    "   • Values are uninitialized (zero -> 0)\n",
    "     \n",
    "np.ones_like(arr)\n",
    "    • Creates a new array with same shape and type as arr\n",
    "    • Filled with ones/empty/zeros\n",
    "    \n",
    "np.zeros((r, c), dtype)\n",
    "    • Creates an array of shape (r, c) filled with zeros\n",
    "    • Uses specified data type (dtype)\n",
    "    \n",
    "    \n",
    "    \n",
    "\"\"\""
   ]
  },
  {
   "cell_type": "markdown",
   "id": "e89260fe",
   "metadata": {},
   "source": [
    "nd array from scratch"
   ]
  },
  {
   "cell_type": "code",
   "execution_count": null,
   "id": "87ffec2a",
   "metadata": {},
   "outputs": [
    {
     "name": "stdout",
     "output_type": "stream",
     "text": [
      "[[0 0 0]\n",
      " [0 0 0]]\n",
      "<class 'numpy.ndarray'>\n",
      "int8\n",
      "(2, 3)\n",
      "2\n"
     ]
    }
   ],
   "source": [
    "import numpy as np\n",
    "\n",
    "# a = np.full((row,col))\n",
    "# a = np.full((row,col), val)\n",
    "# a = np.empty_like(arr_3d)\n",
    "# a = np.zeros((4,3), dtype=np.int8) \n",
    "# a = np.ones_like(arr_3d)\n",
    "\n",
    "# by defaault value set as 0\n",
    "\n",
    "# a = np.zeros((1,3))   # 1 row, 3 col\n",
    "# a = np.zeros((2,3))   # 2 row, 3 col\n",
    "\n",
    "a = np.zeros((2,3), dtype=np.int8) \n",
    "print(a)\n",
    "print(type(a))\n",
    "print(a.dtype)   \n",
    "print(a.shape)\n",
    "print(a.ndim)"
   ]
  },
  {
   "cell_type": "code",
   "execution_count": 8,
   "id": "0cbad6e8",
   "metadata": {},
   "outputs": [
    {
     "name": "stdout",
     "output_type": "stream",
     "text": [
      "[[0 0 0]\n",
      " [0 0 0]\n",
      " [0 0 0]\n",
      " [0 0 0]]\n",
      "<class 'numpy.ndarray'>\n",
      "int8\n",
      "(4, 3)\n",
      "2\n",
      "[[[0 0 0 0]\n",
      "  [0 0 0 0]]\n",
      "\n",
      " [[0 0 0 0]\n",
      "  [0 0 0 0]]]\n",
      "<class 'numpy.ndarray'>\n",
      "int64\n",
      "(2, 2, 4)\n",
      "3\n"
     ]
    }
   ],
   "source": [
    "arr_3d = np.array([\n",
    "    # colomns 4\n",
    "    [   \n",
    "    # 1st floor\n",
    "      [1,2,3,4], #row1\n",
    "      [5,6,7,8] #row2\n",
    "    ],\n",
    "    # 2nd floor\n",
    "    [\n",
    "      [1,2,3,4], #row1\n",
    "      [5,6,7,8] #row2\n",
    "    ]\n",
    "    \n",
    "])\n",
    "\n",
    "##############  np zero\n",
    "a = np.zeros((4,3), dtype=np.int8) \n",
    "print(a)\n",
    "print(type(a))\n",
    "print(a.dtype)   \n",
    "print(a.shape)\n",
    "print(a.ndim)\n",
    "\n",
    "# arr_3d er same ,set values to 0\n",
    "a = np.zeros_like(arr_3d)\n",
    "print(a)\n",
    "print(type(a))\n",
    "print(a.dtype)   \n",
    "print(a.shape)\n",
    "print(a.ndim)\n"
   ]
  },
  {
   "cell_type": "code",
   "execution_count": 11,
   "id": "bbbcbdcc",
   "metadata": {},
   "outputs": [
    {
     "name": "stdout",
     "output_type": "stream",
     "text": [
      "[[[1 1 1]\n",
      "  [1 1 1]\n",
      "  [1 1 1]\n",
      "  [1 1 1]]\n",
      "\n",
      " [[1 1 1]\n",
      "  [1 1 1]\n",
      "  [1 1 1]\n",
      "  [1 1 1]]\n",
      "\n",
      " [[1 1 1]\n",
      "  [1 1 1]\n",
      "  [1 1 1]\n",
      "  [1 1 1]]]\n",
      "<class 'numpy.ndarray'>\n",
      "int8\n",
      "(3, 4, 3)\n",
      "3\n",
      "[[[1 1 1 1]\n",
      "  [1 1 1 1]]\n",
      "\n",
      " [[1 1 1 1]\n",
      "  [1 1 1 1]]]\n",
      "<class 'numpy.ndarray'>\n",
      "int64\n",
      "(2, 2, 4)\n",
      "3\n"
     ]
    }
   ],
   "source": [
    "############ np one\n",
    "\n",
    "a = np.ones((3,4,3), dtype=np.int8)  # 3d\n",
    "print(a)\n",
    "print(type(a))\n",
    "print(a.dtype)   \n",
    "print(a.shape)\n",
    "print(a.ndim)\n",
    "# arr_3d er same ,set values to 1\n",
    "a = np.ones_like(arr_3d)\n",
    "print(a)\n",
    "print(type(a))\n",
    "print(a.dtype)   \n",
    "print(a.shape)\n",
    "print(a.ndim)"
   ]
  },
  {
   "cell_type": "code",
   "execution_count": 19,
   "id": "4bf09f04",
   "metadata": {},
   "outputs": [
    {
     "name": "stdout",
     "output_type": "stream",
     "text": [
      "[[0 0 0]\n",
      " [0 0 0]\n",
      " [0 0 0]\n",
      " [0 0 0]]\n",
      "<class 'numpy.ndarray'>\n",
      "int8\n",
      "(4, 3)\n",
      "2\n",
      "[[[1 1 1 1]\n",
      "  [1 1 1 1]]\n",
      "\n",
      " [[1 1 1 1]\n",
      "  [1 1 1 1]]]\n",
      "<class 'numpy.ndarray'>\n",
      "int64\n",
      "(2, 2, 4)\n",
      "3\n"
     ]
    }
   ],
   "source": [
    "############ np empty\n",
    "\n",
    "# random values show\n",
    "a = np.empty((4,3), dtype=np.int8)  # 3d/2d can create by this\n",
    "print(a)\n",
    "print(type(a))\n",
    "print(a.dtype)   \n",
    "print(a.shape)\n",
    "print(a.ndim)\n",
    "# arr_3d er same ,set values to 1\n",
    "a = np.empty_like(arr_3d)\n",
    "print(a)\n",
    "print(type(a))\n",
    "print(a.dtype)   \n",
    "print(a.shape)\n",
    "print(a.ndim)"
   ]
  },
  {
   "cell_type": "markdown",
   "id": "c7c1fa99",
   "metadata": {},
   "source": [
    "# per value fill up with any value"
   ]
  },
  {
   "cell_type": "code",
   "execution_count": 23,
   "id": "4ad23bbf",
   "metadata": {},
   "outputs": [
    {
     "name": "stdout",
     "output_type": "stream",
     "text": [
      "[[inf inf inf]\n",
      " [inf inf inf]\n",
      " [inf inf inf]\n",
      " [inf inf inf]]\n",
      "<class 'numpy.ndarray'>\n",
      "float64\n",
      "(4, 3)\n",
      "2\n"
     ]
    }
   ],
   "source": [
    "# per value fill up with infinity\n",
    "a = np.full((4,3), np.inf)  # 3d/2d can create by this\n",
    "print(a)\n",
    "print(type(a))\n",
    "print(a.dtype)   \n",
    "print(a.shape)\n",
    "print(a.ndim)"
   ]
  },
  {
   "cell_type": "code",
   "execution_count": null,
   "id": "f755f27a",
   "metadata": {},
   "outputs": [
    {
     "name": "stdout",
     "output_type": "stream",
     "text": [
      "[[10 10 10]\n",
      " [10 10 10]\n",
      " [10 10 10]\n",
      " [10 10 10]]\n",
      "<class 'numpy.ndarray'>\n",
      "int64\n",
      "(4, 3)\n",
      "2\n",
      "[[ True  True  True]\n",
      " [ True  True  True]\n",
      " [ True  True  True]\n",
      " [ True  True  True]]\n",
      "<class 'numpy.ndarray'>\n",
      "bool\n",
      "(4, 3)\n",
      "2\n"
     ]
    }
   ],
   "source": [
    "# per value fill up with 10\n",
    "a = np.full((4,3), 10)  # 3d/2d can create by this\n",
    "print(a)\n",
    "print(type(a))\n",
    "print(a.dtype)   \n",
    "print(a.shape)\n",
    "print(a.ndim)\n",
    "\n",
    "\n",
    "# per value fill up with True\n",
    "a = np.full((4,3), True)  # 3d/2d can create by this\n",
    "print(a)\n",
    "print(type(a))\n",
    "print(a.dtype)   \n",
    "print(a.shape)\n",
    "print(a.ndim)"
   ]
  }
 ],
 "metadata": {
  "kernelspec": {
   "display_name": "base",
   "language": "python",
   "name": "python3"
  },
  "language_info": {
   "codemirror_mode": {
    "name": "ipython",
    "version": 3
   },
   "file_extension": ".py",
   "mimetype": "text/x-python",
   "name": "python",
   "nbconvert_exporter": "python",
   "pygments_lexer": "ipython3",
   "version": "3.13.5"
  }
 },
 "nbformat": 4,
 "nbformat_minor": 5
}
