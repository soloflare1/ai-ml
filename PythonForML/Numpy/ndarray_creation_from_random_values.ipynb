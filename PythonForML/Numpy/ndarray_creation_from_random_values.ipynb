{
 "cells": [
  {
   "cell_type": "code",
   "execution_count": 3,
   "id": "7b05546a",
   "metadata": {},
   "outputs": [
    {
     "name": "stdout",
     "output_type": "stream",
     "text": [
      "[[0.32088947 0.58277152 0.46160095]\n",
      " [0.11661821 0.85177133 0.61432266]]\n",
      "<class 'numpy.ndarray'>\n",
      "float64\n",
      "(2, 3)\n",
      "2\n"
     ]
    }
   ],
   "source": [
    "import numpy as np\n",
    "a = np.random.rand(2,3)  # 0 -> 1, floting\n",
    "\n",
    "print(a)\n",
    "print(type(a))\n",
    "print(a.dtype)   \n",
    "print(a.shape)\n",
    "print(a.ndim)"
   ]
  },
  {
   "cell_type": "code",
   "execution_count": 4,
   "id": "995252a2",
   "metadata": {},
   "outputs": [
    {
     "name": "stdout",
     "output_type": "stream",
     "text": [
      "[[4 5 1]\n",
      " [3 7 5]]\n",
      "<class 'numpy.ndarray'>\n",
      "int32\n",
      "(2, 3)\n",
      "2\n",
      "[8 2]\n",
      "<class 'numpy.ndarray'>\n",
      "int32\n",
      "(2,)\n",
      "1\n"
     ]
    }
   ],
   "source": [
    "# a = np.random.randint(start_range, end_range, shape) \n",
    "a = np.random.randint(1, 10, (2,3))  # 2d\n",
    "\n",
    "print(a)\n",
    "print(type(a))\n",
    "print(a.dtype)   \n",
    "print(a.shape)\n",
    "print(a.ndim)\n",
    "\n",
    "\n",
    "a = np.random.randint(1, 10, (2,))  # 1d\n",
    "\n",
    "print(a)\n",
    "print(type(a))\n",
    "print(a.dtype)   \n",
    "print(a.shape)\n",
    "print(a.ndim)"
   ]
  },
  {
   "cell_type": "code",
   "execution_count": 5,
   "id": "0606728a",
   "metadata": {},
   "outputs": [
    {
     "name": "stdout",
     "output_type": "stream",
     "text": [
      "[[62.46590552 85.92210052 64.13318129 93.69001145]\n",
      " [54.57230185 85.87166928 97.101022   56.71189037]\n",
      " [65.55849777 56.12596016 99.44151391 72.70779992]]\n",
      "<class 'numpy.ndarray'>\n",
      "float64\n",
      "(3, 4)\n",
      "2\n",
      "[7 4]\n",
      "<class 'numpy.ndarray'>\n",
      "int32\n",
      "(2,)\n",
      "1\n"
     ]
    }
   ],
   "source": [
    "#  floating\n",
    "# a = np.random.uniform(start_range, end_range, shape) \n",
    "a = np.random.uniform(50, 100, (3,4))  # 2d\n",
    "\n",
    "print(a)\n",
    "print(type(a))\n",
    "print(a.dtype)   \n",
    "print(a.shape)\n",
    "print(a.ndim)\n",
    "\n",
    "\n",
    "a = np.random.randint(1, 10, (2,))  # 1d\n",
    "\n",
    "print(a)\n",
    "print(type(a))\n",
    "print(a.dtype)   \n",
    "print(a.shape)\n",
    "print(a.ndim)"
   ]
  }
 ],
 "metadata": {
  "kernelspec": {
   "display_name": "base",
   "language": "python",
   "name": "python3"
  },
  "language_info": {
   "codemirror_mode": {
    "name": "ipython",
    "version": 3
   },
   "file_extension": ".py",
   "mimetype": "text/x-python",
   "name": "python",
   "nbconvert_exporter": "python",
   "pygments_lexer": "ipython3",
   "version": "3.13.5"
  }
 },
 "nbformat": 4,
 "nbformat_minor": 5
}
