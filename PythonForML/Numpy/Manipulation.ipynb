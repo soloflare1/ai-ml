{
 "cells": [
  {
   "cell_type": "code",
   "execution_count": null,
   "id": "2cc9015d",
   "metadata": {},
   "outputs": [],
   "source": [
    "import numpy as np\n",
    "\n",
    "#  sample 10, feature 5\n",
    "a = np.random.randint(1, 100, size = (10, 5))\n",
    "\n",
    "#  col -> feature\n",
    "#  row -> sample\n",
    "# Q:\n",
    "#  10 r convert to 5 r\n",
    "#  5 r convert to 10 r\n",
    "# -> shape change\n",
    "#  \n",
    "b = a.reshape(5,10)\n",
    "\n",
    "#  5 r, 10 c so value = 5*10 = 50\n",
    "# Q: convert to 3 * 5, means 3*5=15 value so invalid\n",
    "#  25 * 2 = 50 possible\n",
    "\n",
    "# valid given r*c == wanted r*c"
   ]
  },
  {
   "cell_type": "code",
   "execution_count": 6,
   "id": "1f427622",
   "metadata": {},
   "outputs": [
    {
     "name": "stdout",
     "output_type": "stream",
     "text": [
      "[[34  9 65 89 23  4 37 61 33 46]\n",
      " [91 11 20 66 73 96 65  7 96 56]\n",
      " [57 61 31 26 91 83 24 73 72 36]\n",
      " [11 32 70 97 18 38 71 28 88 90]\n",
      " [17 65  5 20 55 50 53 77 84 75]]\n"
     ]
    },
    {
     "data": {
      "text/plain": [
       "2"
      ]
     },
     "execution_count": 6,
     "metadata": {},
     "output_type": "execute_result"
    }
   ],
   "source": [
    "#  2d\n",
    "print(b)\n",
    "b.shape\n",
    "b.ndim\n",
    "\n"
   ]
  },
  {
   "cell_type": "code",
   "execution_count": null,
   "id": "99785480",
   "metadata": {},
   "outputs": [
    {
     "name": "stdout",
     "output_type": "stream",
     "text": [
      "1\n",
      "[34  9 65 89 23  4 37 61 33 46 91 11 20 66 73 96 65  7 96 56 57 61 31 26\n",
      " 91 83 24 73 72 36 11 32 70 97 18 38 71 28 88 90 17 65  5 20 55 50 53 77\n",
      " 84 75]\n"
     ]
    }
   ],
   "source": [
    "# 1d  te convert\n",
    "#  row wise combine\n",
    "flatten = b.flatten()\n",
    "flatten.ndim\n",
    "print(flatten.ndim)\n",
    "print(flatten)"
   ]
  },
  {
   "cell_type": "code",
   "execution_count": 9,
   "id": "0c0f0fbf",
   "metadata": {},
   "outputs": [
    {
     "name": "stdout",
     "output_type": "stream",
     "text": [
      "[34 91 57 11 17  9 11 61 32 65 65 20 31 70  5 89 66 26 97 20 23 73 91 18\n",
      " 55  4 96 83 38 50 37 65 24 71 53 61  7 73 28 77 33 96 72 88 84 46 56 36\n",
      " 90 75]\n"
     ]
    }
   ],
   "source": [
    "# 1d  te convert\n",
    "#  col wise combine\n",
    "\n",
    "flatten = b.flatten()\n",
    "flatten.ndim\n",
    "\n",
    "col_wise_flattening = np.ravel(b, order= 'F')\n",
    "\n",
    "print(col_wise_flattening)"
   ]
  },
  {
   "cell_type": "code",
   "execution_count": 10,
   "id": "7d357ca5",
   "metadata": {},
   "outputs": [
    {
     "name": "stdout",
     "output_type": "stream",
     "text": [
      "[34 91 57 11 17  9 11 61 32 65 65 20 31 70  5 89 66 26 97 20 23 73 91 18\n",
      " 55  4 96 83 38 50 37 65 24 71 53 61  7 73 28 77 33 96 72 88 84 46 56 36\n",
      " 90 75]\n"
     ]
    }
   ],
   "source": [
    "# 1d  te convert\n",
    "#  row wise combine\n",
    "\n",
    "flatten = b.flatten()\n",
    "flatten.ndim\n",
    "\n",
    "row_wise_flattening = np.ravel(b, order= 'C')\n",
    "\n",
    "print(col_wise_flattening)"
   ]
  },
  {
   "cell_type": "code",
   "execution_count": 15,
   "id": "9542c9d7",
   "metadata": {},
   "outputs": [
    {
     "name": "stdout",
     "output_type": "stream",
     "text": [
      "[[5 2 2]\n",
      " [1 5 1]]\n",
      "[[28 29 23]\n",
      " [23 28 27]]\n"
     ]
    }
   ],
   "source": [
    "a = np.random.randint(1, 10, size=(2,3))\n",
    "b = np.random.randint(20, 30, size=(2,3))\n",
    "print(a)\n",
    "print(b)"
   ]
  },
  {
   "cell_type": "markdown",
   "id": "f48ae57e",
   "metadata": {},
   "source": [
    "concatenate\n",
    "---\n",
    "axis = 0 -> if row wise con -> -> col same must\n",
    "\n",
    "---\n",
    "axis = 1 -> if col wise con -> -> row same must"
   ]
  },
  {
   "cell_type": "code",
   "execution_count": null,
   "id": "339f3751",
   "metadata": {},
   "outputs": [
    {
     "name": "stdout",
     "output_type": "stream",
     "text": [
      "[[ 5  2  2]\n",
      " [ 1  5  1]\n",
      " [28 29 23]\n",
      " [23 28 27]]\n",
      "[[ 5  2  2 28 29 23]\n",
      " [ 1  5  1 23 28 27]]\n"
     ]
    }
   ],
   "source": [
    "con_row = np.concatenate((a,b), axis=0)  # axis=0 -> row wise -> col same must\n",
    "print(con_row)\n",
    "\n",
    "con_col = np.concatenate((a,b), axis=1)  # axis=1 -> col wise -> row same must\n",
    "print(con_col)"
   ]
  },
  {
   "cell_type": "code",
   "execution_count": null,
   "id": "9704b8e8",
   "metadata": {},
   "outputs": [
    {
     "ename": "ValueError",
     "evalue": "all the input array dimensions except for the concatenation axis must match exactly, but along dimension 0, the array at index 0 has size 2 and the array at index 1 has size 1",
     "output_type": "error",
     "traceback": [
      "\u001b[1;31m---------------------------------------------------------------------------\u001b[0m",
      "\u001b[1;31mValueError\u001b[0m                                Traceback (most recent call last)",
      "Cell \u001b[1;32mIn[20], line 7\u001b[0m\n\u001b[0;32m      4\u001b[0m y \u001b[38;5;241m=\u001b[39m np\u001b[38;5;241m.\u001b[39mrandom\u001b[38;5;241m.\u001b[39mrandint(\u001b[38;5;241m1\u001b[39m,\u001b[38;5;241m5\u001b[39m, size\u001b[38;5;241m=\u001b[39m(\u001b[38;5;241m1\u001b[39m,\u001b[38;5;241m3\u001b[39m))\n\u001b[0;32m      6\u001b[0m r_c \u001b[38;5;241m=\u001b[39m np\u001b[38;5;241m.\u001b[39mconcatenate((x,y), axis\u001b[38;5;241m=\u001b[39m\u001b[38;5;241m0\u001b[39m)\n\u001b[1;32m----> 7\u001b[0m r_c \u001b[38;5;241m=\u001b[39m np\u001b[38;5;241m.\u001b[39mconcatenate((x,y), axis\u001b[38;5;241m=\u001b[39m\u001b[38;5;241m1\u001b[39m)\n",
      "\u001b[1;31mValueError\u001b[0m: all the input array dimensions except for the concatenation axis must match exactly, but along dimension 0, the array at index 0 has size 2 and the array at index 1 has size 1"
     ]
    }
   ],
   "source": [
    "#  error\n",
    "\n",
    "x = np.random.randint(1,5, size=(2,3))\n",
    "y = np.random.randint(1,5, size=(1,3))\n",
    "\n",
    "r_c = np.concatenate((x,y), axis=0) # possible\n",
    "r_c = np.concatenate((x,y), axis=1) #impossible"
   ]
  },
  {
   "cell_type": "markdown",
   "id": "53683468",
   "metadata": {},
   "source": [
    "Transpose"
   ]
  },
  {
   "cell_type": "code",
   "execution_count": 21,
   "id": "b4307207",
   "metadata": {},
   "outputs": [
    {
     "name": "stdout",
     "output_type": "stream",
     "text": [
      "[[10 30]\n",
      " [20 40]\n",
      " [30 50]\n",
      " [40 60]]\n"
     ]
    }
   ],
   "source": [
    "# Math_eng = [[10,20,30,40],  [30,40,50,60]]\n",
    "\n",
    "# want to make feature of those two sub marks -> means 2 col\n",
    "# 10  30\n",
    "# 20  40\n",
    "# 30  50\n",
    "# 40  60\n",
    "\n",
    "Math_eng = np.array([\n",
    "    [10,20,30,40],\n",
    "    [30,40,50,60]\n",
    "])\n",
    "\n",
    "transpose = Math_eng.T\n",
    "print(transpose)"
   ]
  },
  {
   "cell_type": "code",
   "execution_count": 25,
   "id": "e57c1f2f",
   "metadata": {},
   "outputs": [
    {
     "name": "stdout",
     "output_type": "stream",
     "text": [
      "[array([2, 3, 7, 6], dtype=int32), array([3, 7, 8], dtype=int32), array([7, 5, 6], dtype=int32)]\n",
      "[array([9, 3, 6], dtype=int32), array([5, 5, 7], dtype=int32), array([8, 7, 6], dtype=int32)]\n"
     ]
    }
   ],
   "source": [
    "# 100 data -> split\n",
    "# ->model train 60\n",
    "# ->test 40\n",
    "\n",
    "a = np.random.randint(1, 10, size=(10,))\n",
    "\n",
    "splitted_array = np.array_split(a,3)\n",
    "print(splitted_array)\n",
    "\n",
    "#  split -> equal division\n",
    "a = np.random.randint(1, 10, size=(9,))\n",
    "splitted_array = np.split(a,3)\n",
    "print(splitted_array)"
   ]
  },
  {
   "cell_type": "markdown",
   "id": "8abe9dc1",
   "metadata": {},
   "source": [
    "# ndarray Arithmetic Operators"
   ]
  },
  {
   "cell_type": "code",
   "execution_count": 28,
   "id": "a04a0cea",
   "metadata": {},
   "outputs": [
    {
     "name": "stdout",
     "output_type": "stream",
     "text": [
      "[12 23 34 45]\n",
      "[ 20  60 120 200]   [5.         6.66666667 7.5        8.        ]   [0 2 2 0]   [5 6 7 8]\n"
     ]
    }
   ],
   "source": [
    "# x = [10, 20, 30, 40]\n",
    "# y = [2, 3, 4, 5]\n",
    "\n",
    "# # loop slow \n",
    "# #  so\n",
    "\n",
    "# add = x+y\n",
    "# print(add)\n",
    "# [10, 20, 30, 40, 2, 3, 4, 5]\n",
    "\n",
    "#  so for proper sum convert it in ndarray\n",
    "\n",
    "x = np.array([10, 20, 30, 40])\n",
    "y = np.array([2, 3, 4, 5])\n",
    "\n",
    "add = x+y\n",
    "print(add)\n",
    "# [12 23 34 45] perfect\n",
    "\n",
    "print(x*y,\" \",  x/y,\" \", x%y,\" \", x//y)\n"
   ]
  },
  {
   "cell_type": "markdown",
   "id": "d1c9b65c",
   "metadata": {},
   "source": [
    "# Mathematical function"
   ]
  },
  {
   "cell_type": "code",
   "execution_count": 30,
   "id": "f2cff406",
   "metadata": {},
   "outputs": [
    {
     "name": "stdout",
     "output_type": "stream",
     "text": [
      "[-0.54402111  0.91294525 -0.98803162  0.74511316]\n",
      "[-0.83907153  0.40808206  0.15425145 -0.66693806]\n",
      "[ 0.64836083  2.23716094 -6.4053312  -1.11721493]\n",
      "[0.17453293 0.34906585 0.52359878 0.6981317 ]\n",
      "[ 572.95779513 1145.91559026 1718.87338539 2291.83118052]\n"
     ]
    }
   ],
   "source": [
    "#  trigonmetry\n",
    "#  sin,  cos,  tan  takes values in radiaan\n",
    "\n",
    "print(np.sin(x))\n",
    "print(np.cos(x))\n",
    "print(np.tan(x))\n",
    "\n",
    "#  degree to radian\n",
    "#  degree : 0 * pai/180  -> r\n",
    "print(np.deg2rad(x))\n",
    "#  radian to degree\n",
    "#  radian : r * 180/pai  -> d\n",
    "print(np.rad2deg(x)) "
   ]
  },
  {
   "cell_type": "markdown",
   "id": "c1c18204",
   "metadata": {},
   "source": [
    "# # log"
   ]
  },
  {
   "cell_type": "code",
   "execution_count": null,
   "id": "1272e3bd",
   "metadata": {},
   "outputs": [
    {
     "name": "stdout",
     "output_type": "stream",
     "text": [
      "[1.         1.30103    1.47712125 1.60205999]\n",
      "2.0\n",
      "6.643856189774724\n",
      "3.0\n"
     ]
    }
   ],
   "source": [
    "\n",
    "\n",
    "base_10_log_val = np.log10(x)\n",
    "print(base_10_log_val)\n",
    "\n",
    "# 100 k 10 diye koybar vag kora jabe?\n",
    "# 100/10 = 2\n",
    "print(np.log10(100))\n",
    "\n",
    "# 100/2 = 6\n",
    "print(np.log2(100))\n",
    "\n",
    "# 8/2 = 3\n",
    "print(np.log2(8))\n"
   ]
  },
  {
   "cell_type": "markdown",
   "id": "1733146d",
   "metadata": {},
   "source": [
    "# sqrt"
   ]
  },
  {
   "cell_type": "code",
   "execution_count": 36,
   "id": "e4007802",
   "metadata": {},
   "outputs": [
    {
     "name": "stdout",
     "output_type": "stream",
     "text": [
      "[ 3.16227766  2.82842712  4.         10.        ]\n"
     ]
    }
   ],
   "source": [
    "x = np.array([10, 8, 16, 100])\n",
    "print(np.sqrt(x))"
   ]
  },
  {
   "cell_type": "code",
   "execution_count": 40,
   "id": "89baa671",
   "metadata": {},
   "outputs": [
    {
     "name": "stdout",
     "output_type": "stream",
     "text": [
      "134\n",
      "[ 10  18  34 134]\n"
     ]
    }
   ],
   "source": [
    "print(np.sum(x))  # total array sum\n",
    "\n",
    "# prefix sum\n",
    "print(np.cumulative_sum(x))\n",
    "\n"
   ]
  }
 ],
 "metadata": {
  "kernelspec": {
   "display_name": "base",
   "language": "python",
   "name": "python3"
  },
  "language_info": {
   "codemirror_mode": {
    "name": "ipython",
    "version": 3
   },
   "file_extension": ".py",
   "mimetype": "text/x-python",
   "name": "python",
   "nbconvert_exporter": "python",
   "pygments_lexer": "ipython3",
   "version": "3.13.5"
  }
 },
 "nbformat": 4,
 "nbformat_minor": 5
}
