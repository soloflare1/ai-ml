{
 "cells": [
  {
   "cell_type": "markdown",
   "id": "2b802ea3",
   "metadata": {},
   "source": [
    " ndarray creation from range -> we can dicide which value will be set in which position ,but random give random value at random position by probability"
   ]
  },
  {
   "cell_type": "code",
   "execution_count": 6,
   "id": "23e3e801",
   "metadata": {},
   "outputs": [
    {
     "name": "stdout",
     "output_type": "stream",
     "text": [
      "[1 2 3 4 5 6 7 8 9]\n",
      "<class 'numpy.ndarray'>\n",
      "int64\n",
      "(9,)\n",
      "1\n",
      "[[1 2 3]\n",
      " [4 5 6]\n",
      " [7 8 9]]\n",
      "<class 'numpy.ndarray'>\n",
      "int64\n",
      "(3, 3)\n",
      "2\n"
     ]
    }
   ],
   "source": [
    "import numpy as np\n",
    "# a = np.arange(start, end, step)  # same to range func \n",
    "a = np.arange(1, 10, 1)  # \n",
    "\n",
    "print(a)\n",
    "print(type(a))\n",
    "print(a.dtype)   \n",
    "print(a.shape)\n",
    "print(a.ndim)\n",
    "\n",
    "\n",
    "# matrix create\n",
    "# (1, 10, 1) -> 9 values so 3*3\n",
    "a = np.arange(1, 10, 1).reshape(3,3)   \n",
    "\n",
    "print(a)\n",
    "print(type(a))\n",
    "print(a.dtype)   \n",
    "print(a.shape)\n",
    "print(a.ndim)\n",
    "\n"
   ]
  },
  {
   "cell_type": "code",
   "execution_count": null,
   "id": "eaaf338b",
   "metadata": {},
   "outputs": [],
   "source": [
    "\"\"\"\n",
    "np.linspace(start, end(included), koita)\n",
    "\n",
    "range 6\n",
    "pick 6 point, evenly divide kore pick korbe\n",
    "1---2---3---4--5---6---7\n",
    "0                  6\n",
    "\n",
    "range 6\n",
    "pick 10 point, evenly divide kore pick korbe\n",
    "1---2---3---4--5---6---7\n",
    "0                  6\n",
    "\n",
    "\"\"\""
   ]
  },
  {
   "cell_type": "code",
   "execution_count": 9,
   "id": "e5f802ff",
   "metadata": {},
   "outputs": [
    {
     "name": "stdout",
     "output_type": "stream",
     "text": [
      "[ 1.  2.  3.  4.  5.  6.  7.  8.  9. 10.]\n",
      "<class 'numpy.ndarray'>\n",
      "float64\n",
      "(10,)\n",
      "1\n",
      "\n",
      "[ 1.          1.64285714  2.28571429  2.92857143  3.57142857  4.21428571\n",
      "  4.85714286  5.5         6.14285714  6.78571429  7.42857143  8.07142857\n",
      "  8.71428571  9.35714286 10.        ]\n",
      "<class 'numpy.ndarray'>\n",
      "float64\n",
      "(15,)\n",
      "1\n"
     ]
    }
   ],
   "source": [
    "a = np.linspace(1, 10, 10)   \n",
    "\n",
    "print(a)\n",
    "print(type(a))\n",
    "print(a.dtype)   \n",
    "print(a.shape)\n",
    "print(a.ndim)\n",
    "\n",
    "print()\n",
    "\n",
    "a = np.linspace(1, 10, 15)   \n",
    "\n",
    "print(a)\n",
    "print(type(a))\n",
    "print(a.dtype)   \n",
    "print(a.shape)\n",
    "print(a.ndim)"
   ]
  },
  {
   "cell_type": "markdown",
   "id": "974199d7",
   "metadata": {},
   "source": [
    "np.logspace(start, end(included), koita)"
   ]
  },
  {
   "cell_type": "code",
   "execution_count": null,
   "id": "33b44fdf",
   "metadata": {},
   "outputs": [
    {
     "name": "stdout",
     "output_type": "stream",
     "text": [
      "[1.e+00 1.e+01 1.e+02 1.e+03 1.e+04]\n",
      "\n",
      "[1.00000000e+00 6.30957344e+00 3.98107171e+01 2.51188643e+02\n",
      " 1.58489319e+03 1.00000000e+04]\n",
      "\n",
      "[ 1.          1.74110113  3.03143313  5.27803164  9.18958684 16.        ]\n"
     ]
    }
   ],
   "source": [
    "\n",
    "a = np.logspace(0, 4, 5)   \n",
    "print(a)\n",
    "\n",
    "# 1.e+00 1.e+01 1.e+02 1.e+03 1.e+04\n",
    "# 10^0 to 10^4\n",
    "\n",
    "\n",
    "print()\n",
    "\n",
    "a = np.logspace(0, 4, 6)   \n",
    "print(a)\n",
    "\n",
    "\n",
    "print()\n",
    "\n",
    "a = np.logspace(0, 4, 6, base=2)   \n",
    "print(a)\n",
    "\n",
    "# 2^0 ->0.8 ->1.6 ->2.4  -> 3.2 4\n"
   ]
  }
 ],
 "metadata": {
  "kernelspec": {
   "display_name": "base",
   "language": "python",
   "name": "python3"
  },
  "language_info": {
   "codemirror_mode": {
    "name": "ipython",
    "version": 3
   },
   "file_extension": ".py",
   "mimetype": "text/x-python",
   "name": "python",
   "nbconvert_exporter": "python",
   "pygments_lexer": "ipython3",
   "version": "3.13.5"
  }
 },
 "nbformat": 4,
 "nbformat_minor": 5
}
