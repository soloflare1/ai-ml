{
 "cells": [
  {
   "cell_type": "code",
   "execution_count": null,
   "id": "34376f41",
   "metadata": {},
   "outputs": [
    {
     "name": "stdout",
     "output_type": "stream",
     "text": [
      "[[1 0 0 0]\n",
      " [0 2 0 0]\n",
      " [0 0 3 0]\n",
      " [0 0 0 4]]\n",
      "(4, 4)\n"
     ]
    }
   ],
   "source": [
    "# matrix for linear algebra\n",
    "\n",
    "# diagonal matrix\n",
    "import numpy as np\n",
    "a = np.diag([1,2,3,4])\n",
    "print(a)\n",
    "print(a.shape)"
   ]
  },
  {
   "cell_type": "code",
   "execution_count": 11,
   "id": "dfe47e3b",
   "metadata": {},
   "outputs": [
    {
     "name": "stdout",
     "output_type": "stream",
     "text": [
      "[[1. 0. 0. 0.]\n",
      " [0. 1. 0. 0.]\n",
      " [0. 0. 1. 0.]\n",
      " [0. 0. 0. 1.]]\n",
      "(4, 4)\n",
      "\n",
      "[[1. 0. 0. 0. 0.]\n",
      " [0. 1. 0. 0. 0.]\n",
      " [0. 0. 1. 0. 0.]]\n",
      "(3, 5)\n",
      "\n",
      "[[0. 0. 0. 0. 0.]\n",
      " [1. 0. 0. 0. 0.]\n",
      " [0. 1. 0. 0. 0.]]\n",
      "(3, 5)\n",
      "\n",
      "[[0. 1. 0. 0. 0.]\n",
      " [0. 0. 1. 0. 0.]\n",
      " [0. 0. 0. 1. 0.]]\n",
      "(3, 5)\n",
      "\n"
     ]
    }
   ],
   "source": [
    "# identity matrix\n",
    "\n",
    "a = np.eye(4)\n",
    "print(a)\n",
    "print(a.shape)\n",
    "print()\n",
    "\n",
    "# np.eye(row, col)  3*3 identity rest 0\n",
    "a = np.eye(3,5)\n",
    "print(a)\n",
    "print(a.shape)\n",
    "print()\n",
    "\n",
    "a = np.eye(3,5, -1)\n",
    "print(a)\n",
    "print(a.shape)\n",
    "print()\n",
    "\n",
    "a = np.eye(3,5, 1)\n",
    "print(a)\n",
    "print(a.shape)\n",
    "print()"
   ]
  }
 ],
 "metadata": {
  "kernelspec": {
   "display_name": "base",
   "language": "python",
   "name": "python3"
  },
  "language_info": {
   "codemirror_mode": {
    "name": "ipython",
    "version": 3
   },
   "file_extension": ".py",
   "mimetype": "text/x-python",
   "name": "python",
   "nbconvert_exporter": "python",
   "pygments_lexer": "ipython3",
   "version": "3.13.5"
  }
 },
 "nbformat": 4,
 "nbformat_minor": 5
}
