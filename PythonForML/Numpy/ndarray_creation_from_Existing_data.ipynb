{
 "cells": [
  {
   "cell_type": "code",
   "execution_count": null,
   "id": "e170eb63",
   "metadata": {},
   "outputs": [],
   "source": [
    "# ndarray creation from existing data\n",
    "\n",
    "# existing data -> list, set, dicc\n",
    "\n"
   ]
  },
  {
   "cell_type": "markdown",
   "id": "99a051ba",
   "metadata": {},
   "source": [
    "## From list"
   ]
  },
  {
   "cell_type": "code",
   "execution_count": null,
   "id": "98e7c59e",
   "metadata": {},
   "outputs": [
    {
     "name": "stdout",
     "output_type": "stream",
     "text": [
      "[10.  20.  30.  40.  40.5]\n",
      "<class 'numpy.ndarray'>\n",
      "float64\n",
      "[10 20 30 40 40]\n",
      "<class 'numpy.ndarray'>\n",
      "int32\n",
      "['10' 'True' 'Hello' '10.5']\n",
      "<class 'numpy.ndarray'>\n",
      "<U32\n",
      "[[1 2 3]\n",
      " [5 6 7]]\n",
      "<class 'numpy.ndarray'>\n",
      "int64\n",
      "(2, 3)\n"
     ]
    }
   ],
   "source": [
    "import numpy as np\n",
    "\n",
    "lst = [10,20,30,40, 40.5]\n",
    "\n",
    "a = np.array(lst)\n",
    "print(a)\n",
    "print(type(a))\n",
    "print(a.dtype)\n",
    "\n",
    "\n",
    "a = np.array(lst, dtype=np.int32)\n",
    "print(a)\n",
    "print(type(a))\n",
    "print(a.dtype)\n",
    "\n",
    "# mixed list e string eer saathe aabr list add koraa jabe an\n",
    "mixed_lst = [10,True,'Hello', 10.5]\n",
    "mixed_lst = np.array(mixed_lst)\n",
    "print(mixed_lst)\n",
    "print(type(mixed_lst))\n",
    "print(mixed_lst.dtype)  #<U32, string\n",
    "\n",
    "\n",
    "matrix = [\n",
    "    [1,2,3],\n",
    "    [5,6,7]\n",
    "]\n",
    "\n",
    "a= np.array(matrix)\n",
    "print(a)\n",
    "print(type(a))\n",
    "print(a.dtype)\n",
    "print(a.shape)"
   ]
  },
  {
   "cell_type": "markdown",
   "id": "563cf05e",
   "metadata": {},
   "source": [
    "## From tuple"
   ]
  },
  {
   "cell_type": "code",
   "execution_count": null,
   "id": "980d00d0",
   "metadata": {},
   "outputs": [
    {
     "name": "stdout",
     "output_type": "stream",
     "text": [
      "[1 2 3 4]\n",
      "<class 'numpy.ndarray'>\n",
      "int16\n",
      "(4,)\n"
     ]
    }
   ],
   "source": [
    "tup = (1,2,3,4)\n",
    "\n",
    "a = np.array(tup)\n",
    "a= np.array(tup)\n",
    "\n",
    "# a= np.array(tup, dtype=np.int32)\n",
    "a = a.astype(np.int16)\n",
    "\n",
    "print(a)\n",
    "print(type(a))\n",
    "print(a.dtype)\n",
    "print(a.shape)"
   ]
  },
  {
   "cell_type": "markdown",
   "id": "8c30264a",
   "metadata": {},
   "source": [
    "## from set"
   ]
  },
  {
   "cell_type": "code",
   "execution_count": null,
   "id": "c9dc7556",
   "metadata": {},
   "outputs": [
    {
     "name": "stdout",
     "output_type": "stream",
     "text": [
      "{1, 2, 3, 4}\n",
      "<class 'numpy.ndarray'>\n",
      "object\n",
      "()\n",
      "[1 2 3 4]\n",
      "<class 'numpy.ndarray'>\n",
      "int64\n",
      "(4,)\n"
     ]
    }
   ],
   "source": [
    "st = {1,2,3,4}\n",
    "\n",
    "a = np.array(st)\n",
    "a= np.array(st)\n",
    "\n",
    "print(a)\n",
    "print(type(a))\n",
    "print(a.dtype)\n",
    "print(a.shape)\n",
    "\n",
    "# error\n",
    "# a= np.array(st, dtype=np.int32)\n",
    "# a = a.astype(np.int16)\n",
    "\n",
    "#  {1, 2, 3, 4}\n",
    "# <class 'numpy.ndarray'>\n",
    "# object\n",
    "# ()\n",
    "# 1 element hisebe niche\n",
    "\n",
    "\n",
    "# so convert to list\n",
    "\n",
    "st = {1,2,3,4}\n",
    "\n",
    "a = np.array(list(st))\n",
    "a= np.array(list(st))\n",
    "\n",
    "print(a)\n",
    "print(type(a))\n",
    "print(a.dtype)\n",
    "print(a.shape)"
   ]
  },
  {
   "cell_type": "markdown",
   "id": "e1201b98",
   "metadata": {},
   "source": [
    "## from dic"
   ]
  },
  {
   "cell_type": "code",
   "execution_count": null,
   "id": "cc3617af",
   "metadata": {},
   "outputs": [
    {
     "name": "stdout",
     "output_type": "stream",
     "text": [
      "dict_keys(['a', 'b'])\n",
      "dict_values([10, 2])\n",
      "dict_items([('a', 10), ('b', 2)])\n",
      "{'a': 10, 'b': 2}\n",
      "<class 'numpy.ndarray'>\n",
      "object\n",
      "()\n",
      "0\n",
      "['a' 'b']\n",
      "[10  2]\n",
      "[10  2]\n",
      "[10  2]\n",
      "[['a' '10']\n",
      " ['b' '2']]\n",
      "<class 'numpy.ndarray'>\n",
      "<U21\n",
      "(2, 2)\n",
      "2\n"
     ]
    }
   ],
   "source": [
    "dic = {'a' : 10, 'b' :2}\n",
    "\n",
    "print(dic.keys())\n",
    "print(dic.values())\n",
    "print(dic.items())\n",
    "\n",
    "a = np.array(dic)\n",
    "a= np.array(dic)\n",
    "\n",
    "\n",
    "print(a)\n",
    "print(type(a))\n",
    "print(a.dtype)\n",
    "print(a.shape)\n",
    "print(a.ndim)\n",
    "# error same as set \n",
    "# a= np.array(tup, dtype=np.int32)\n",
    "# a = a.astype(np.int16)\n",
    "\n",
    "\n",
    "# keys to ndarraay\n",
    "a = np.array(list(dic.keys()))\n",
    "print(a)\n",
    "\n",
    "# values to ndarraay\n",
    "a = np.array(list(dic.values()))\n",
    "print(a)\n",
    "\n",
    "a= np.array(list(dic.values()))\n",
    "print(a)\n",
    "a = a.astype(np.int32)\n",
    "print(a)\n",
    "\n",
    "\n",
    "# items to ndarray\n",
    "a = np.array(list(dic.items()))\n",
    "print(a)\n",
    "print(type(a))\n",
    "print(a.dtype)   #<U21\n",
    "print(a.shape)\n",
    "print(a.ndim)"
   ]
  },
  {
   "cell_type": "code",
   "execution_count": null,
   "id": "16ffcc3b",
   "metadata": {},
   "outputs": [],
   "source": []
  }
 ],
 "metadata": {
  "kernelspec": {
   "display_name": "base",
   "language": "python",
   "name": "python3"
  },
  "language_info": {
   "codemirror_mode": {
    "name": "ipython",
    "version": 3
   },
   "file_extension": ".py",
   "mimetype": "text/x-python",
   "name": "python",
   "nbconvert_exporter": "python",
   "pygments_lexer": "ipython3",
   "version": "3.13.5"
  }
 },
 "nbformat": 4,
 "nbformat_minor": 5
}
