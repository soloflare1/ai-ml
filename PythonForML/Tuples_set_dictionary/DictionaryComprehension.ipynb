{
 "cells": [
  {
   "cell_type": "markdown",
   "id": "1dcdc471",
   "metadata": {},
   "source": [
    "# Dictionary Comprehension"
   ]
  },
  {
   "cell_type": "code",
   "execution_count": null,
   "id": "0fe700d3",
   "metadata": {},
   "outputs": [],
   "source": [
    "# iterable -> list,tuple,set\n",
    "# {expression iterable condition}"
   ]
  },
  {
   "cell_type": "code",
   "execution_count": null,
   "id": "1d5495f8",
   "metadata": {},
   "outputs": [],
   "source": [
    "# x*2 -> multiple\n",
    "# x**2 -> power"
   ]
  },
  {
   "cell_type": "code",
   "execution_count": null,
   "id": "47b7b57d",
   "metadata": {},
   "outputs": [
    {
     "name": "stdout",
     "output_type": "stream",
     "text": [
      "range(0, 10) <class 'range'>\n",
      "[0, 1, 2, 3, 4, 5, 6, 7, 8, 9] <class 'list'>\n"
     ]
    }
   ],
   "source": [
    "print(range(10), type(range(10)))\n",
    "print(list(range(10)), type(list(range(10))))\n",
    "# start to end-1"
   ]
  },
  {
   "cell_type": "code",
   "execution_count": null,
   "id": "ecbff659",
   "metadata": {},
   "outputs": [
    {
     "name": "stdout",
     "output_type": "stream",
     "text": [
      "{1, 2, 3, 4, 5, 6, 7, 8, 9, 10}\n",
      "{64, 1, 4, 36, 100, 9, 16, 49, 81, 25}\n",
      "{1: 1, 2: 4, 3: 9, 4: 16, 5: 25, 6: 36, 7: 49, 8: 64, 9: 81, 10: 100}\n",
      "{2: 4, 4: 16, 6: 36, 8: 64, 10: 100}\n"
     ]
    }
   ],
   "source": [
    "# new_item = [expression for item in iterable if condition == True]\n",
    "x = {i  for i in range(1,11)}\n",
    "print(x)\n",
    "\n",
    "sqr = {i**2  for i in range(1,11)}\n",
    "print(sqr)\n",
    "\n",
    "\n",
    "sqr_1 = {i : i**2  for i in range(1,11)}\n",
    "print(sqr_1)\n",
    "\n",
    "\n",
    "sqr_2 = {i : i**2  for i in range(1,11) if i%2 == 0}\n",
    "print(sqr_2)"
   ]
  },
  {
   "cell_type": "code",
   "execution_count": 11,
   "id": "53aa8821",
   "metadata": {},
   "outputs": [
    {
     "name": "stdout",
     "output_type": "stream",
     "text": [
      "{(10, 10.5): 'dhaka', (20.5, 192): 'chattogram', (101, 102): 'sylhet'}\n",
      "{(10, 10.5): 'dhaka', (20.5, 192): 'chattogram', (101, 102): 'sylhet'}\n"
     ]
    }
   ],
   "source": [
    "co_ordinates = [(10,10.5), (20.5,192), (101,102)]\n",
    "\n",
    "location =[\"dhaka\", \"chattogram\", \"sylhet\"]\n",
    "\n",
    "exact_loccation = {co_or : loc for co_or, loc in zip(co_ordinates,location)}\n",
    "\n",
    "print(exact_loccation)\n",
    "\n",
    "exact_loccation1 = {i : val for i, val in zip(co_ordinates,location)}\n",
    "\n",
    "print(exact_loccation1)"
   ]
  }
 ],
 "metadata": {
  "kernelspec": {
   "display_name": "Python 3",
   "language": "python",
   "name": "python3"
  },
  "language_info": {
   "codemirror_mode": {
    "name": "ipython",
    "version": 3
   },
   "file_extension": ".py",
   "mimetype": "text/x-python",
   "name": "python",
   "nbconvert_exporter": "python",
   "pygments_lexer": "ipython3",
   "version": "3.13.7"
  }
 },
 "nbformat": 4,
 "nbformat_minor": 5
}
