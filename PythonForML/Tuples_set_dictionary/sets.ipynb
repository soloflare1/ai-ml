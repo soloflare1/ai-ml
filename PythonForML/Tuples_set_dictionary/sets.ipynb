{
 "cells": [
  {
   "cell_type": "markdown",
   "id": "f1de42ff",
   "metadata": {},
   "source": [
    "## sets :\n",
    "\n",
    " unique\n",
    "\n",
    " mutable\n",
    " \n",
    "unordered : indexing,slicing not allowed, jei order e input dibo always sei order e thake na\n"
   ]
  },
  {
   "cell_type": "code",
   "execution_count": null,
   "id": "f157d611",
   "metadata": {},
   "outputs": [
    {
     "name": "stdout",
     "output_type": "stream",
     "text": [
      "{1, 2, 3, 4, 5} <class 'set'>\n",
      "() <class 'tuple'>\n",
      "[] <class 'list'>\n",
      "{} <class 'dict'>\n",
      "set() <class 'set'>\n"
     ]
    }
   ],
   "source": [
    "st = {1,2,3,4,5}\n",
    "print(st, type(st))\n",
    "\n",
    "# empty struc\n",
    "a =()\n",
    "print(a, type(a))\n",
    "\n",
    "c =[]\n",
    "print(c, type(c))\n",
    "\n",
    "# but\n",
    "b ={}\n",
    "print(b, type(b))   #<class 'dict'>\n",
    "\n",
    "# so\n",
    "c =set()\n",
    "print(c, type(c))   #<class 'set'>\n"
   ]
  },
  {
   "cell_type": "code",
   "execution_count": null,
   "id": "6c03d50f",
   "metadata": {},
   "outputs": [
    {
     "name": "stdout",
     "output_type": "stream",
     "text": [
      "{0, 2, 3, 5, 7, 8}\n",
      "yes\n",
      "25\n"
     ]
    }
   ],
   "source": [
    "\n",
    "st = {5,7,0,8,3,2}\n",
    "# no duplicate and sorted kore dey\n",
    "print(st)  # {0, 2, 3, 5, 7, 8}\n",
    "\n",
    "# value search\n",
    "if 3 in st:\n",
    "    print(\"yes\")\n",
    "else:\n",
    "    print(\"no\")\n",
    "   \n",
    "# access by looping, no indexing\n",
    "sum = 0 \n",
    "for i in st:\n",
    "    sum += i\n",
    "    \n",
    "print(sum)\n"
   ]
  },
  {
   "cell_type": "markdown",
   "id": "4d60a946",
   "metadata": {},
   "source": [
    "## set methods"
   ]
  },
  {
   "cell_type": "code",
   "execution_count": 15,
   "id": "14f735dc",
   "metadata": {},
   "outputs": [
    {
     "name": "stdout",
     "output_type": "stream",
     "text": [
      "{0, 2, 3, 5, 7, 8, 10}\n",
      "{2, 3, 5, 7, 8, 10}\n",
      "{2, 5, 7, 8, 10}\n"
     ]
    }
   ],
   "source": [
    "# mutable\n",
    "st = {5,7,0,8,3,2}\n",
    "\n",
    "st.add(10)\n",
    "print(st)\n",
    "\n",
    "st.pop()\n",
    "print(st)\n",
    "\n",
    "st.remove(3)\n",
    "print(st)"
   ]
  },
  {
   "cell_type": "code",
   "execution_count": null,
   "id": "dfd5a884",
   "metadata": {},
   "outputs": [],
   "source": [
    "# https://www.w3schools.com/python/python_ref_set.asp"
   ]
  },
  {
   "cell_type": "markdown",
   "id": "13fdc66f",
   "metadata": {},
   "source": [
    "# set mathematical methods\n"
   ]
  },
  {
   "cell_type": "code",
   "execution_count": 16,
   "id": "dfe12613",
   "metadata": {},
   "outputs": [
    {
     "name": "stdout",
     "output_type": "stream",
     "text": [
      "{1, 2, 3, 4, 5, 6}\n",
      "{1, 2}\n",
      "False\n",
      "False\n",
      "True\n",
      "True\n"
     ]
    }
   ],
   "source": [
    "a = {1,2,3}\n",
    "b = {1,2,5,6,4}\n",
    "\n",
    "# union\n",
    "print(a.union(b))   #all\n",
    "\n",
    "# intersection\n",
    "print(a.intersection(b))  #common\n",
    "\n",
    "# Disjoint: no common elements,return trua/false\n",
    "print(a.isdisjoint(b))  #False, as common ache\n",
    "\n",
    "\n",
    "# subset, return t/f\n",
    "print(a.issubset(b))\n",
    "\n",
    "c = {1, 2}\n",
    "d = {1, 2, 3, 4}\n",
    "print(c.issubset(d))  # Output: True\n",
    "\n",
    "# Make sure a and b are set objects.\n",
    "x = [1, 2]\n",
    "y = [1, 2, 3]\n",
    "# print(x.issubset(y))  #  AttributeError: 'list' object has no attribute 'issubset'\n",
    "x = set(y)\n",
    "y = set(y)\n",
    "print(x.issubset(y))  # so\n",
    "\n"
   ]
  },
  {
   "cell_type": "code",
   "execution_count": null,
   "id": "b202b117",
   "metadata": {},
   "outputs": [],
   "source": []
  }
 ],
 "metadata": {
  "kernelspec": {
   "display_name": "Python 3",
   "language": "python",
   "name": "python3"
  },
  "language_info": {
   "codemirror_mode": {
    "name": "ipython",
    "version": 3
   },
   "file_extension": ".py",
   "mimetype": "text/x-python",
   "name": "python",
   "nbconvert_exporter": "python",
   "pygments_lexer": "ipython3",
   "version": "3.13.7"
  }
 },
 "nbformat": 4,
 "nbformat_minor": 5
}
