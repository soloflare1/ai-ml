{
 "cells": [
  {
   "cell_type": "markdown",
   "id": "ecca9066",
   "metadata": {},
   "source": [
    "1.Given a list of numbers, make a list with unique values"
   ]
  },
  {
   "cell_type": "code",
   "execution_count": null,
   "id": "896892b3",
   "metadata": {},
   "outputs": [
    {
     "name": "stdout",
     "output_type": "stream",
     "text": [
      "{10, 20, 50, 30}\n"
     ]
    }
   ],
   "source": [
    "lst = [10, 20, 10, 30, 50, 30, 10, 20, 10, 10]\n",
    "unique_values = set(lst)\n",
    "print(unique_values)\n",
    "\n",
    "# Convert set back to list\n",
    "# lst = list(unique_values), but why through error\n",
    "# print(lst)\n"
   ]
  },
  {
   "cell_type": "markdown",
   "id": "a6533414",
   "metadata": {},
   "source": [
    "2.Given a sting,print the frequency of the word"
   ]
  },
  {
   "cell_type": "code",
   "execution_count": 9,
   "id": "094831cd",
   "metadata": {},
   "outputs": [
    {
     "name": "stdout",
     "output_type": "stream",
     "text": [
      "{'List': 1, 'comprehension': 1, 'offers': 1, 'a': 2, 'shorter': 1, 'syntax': 1, 'when': 1, 'you': 1, 'want': 1, 'to': 1, 'create': 1, 'new': 1, 'list': 1, 'based': 1, 'on': 1, 'the': 1, 'values': 1, 'of': 1, 'an': 1, 'existing': 1, 'list.': 1}\n"
     ]
    }
   ],
   "source": [
    "text = \"\"\"List comprehension offers a shorter syntax when you want to\n",
    "create a new list based on the values of an existing list.\"\"\"\n",
    "# key:val = word : count\n",
    "\n",
    "words_list = text.split()\n",
    "\n",
    "count = {}  #empty dic\n",
    "\n",
    "for i in words_list:\n",
    "    # count[i] += count.get(i,0)  ,error\n",
    "     count[i] = count.get(i,0) + 1\n",
    "    \n",
    "print(count)\n",
    "\n",
    "\n",
    "    "
   ]
  }
 ],
 "metadata": {
  "kernelspec": {
   "display_name": "Python 3",
   "language": "python",
   "name": "python3"
  },
  "language_info": {
   "codemirror_mode": {
    "name": "ipython",
    "version": 3
   },
   "file_extension": ".py",
   "mimetype": "text/x-python",
   "name": "python",
   "nbconvert_exporter": "python",
   "pygments_lexer": "ipython3",
   "version": "3.13.7"
  }
 },
 "nbformat": 4,
 "nbformat_minor": 5
}
