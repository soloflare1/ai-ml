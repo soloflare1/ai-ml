{
 "cells": [
  {
   "cell_type": "markdown",
   "id": "d001deee",
   "metadata": {},
   "source": [
    "## Tuples: collection of data,immutable"
   ]
  },
  {
   "cell_type": "code",
   "execution_count": 15,
   "id": "1f31e6aa",
   "metadata": {},
   "outputs": [
    {
     "name": "stdout",
     "output_type": "stream",
     "text": [
      "(10, 20, 30, 40, 50) <class 'tuple'>\n",
      "(10, 10.3, 'bob', False) <class 'tuple'>\n",
      "(10, 20, 30, 40, 50) <class 'int'>\n",
      "(10, 20, 30, 40, 50) <class 'int'>\n",
      "(10, 30, 40) <class 'tuple'>\n"
     ]
    }
   ],
   "source": [
    "# declaration\n",
    "\n",
    "tup = (10, 20, 30, 40, 50)\n",
    "print(tup,type(tup))\n",
    "\n",
    "\n",
    "# mixed tuple\n",
    "mix_tup = (10,10.3, \"bob\", False)\n",
    "print(mix_tup,type(mix_tup))\n",
    "\n",
    "\n",
    "tup_1 = (10)\n",
    "print(tup,type(tup_1))  #(10, 20, 30, 40, 50) <class 'int'>\n",
    "\n",
    "tup_one = (10,)\n",
    "print(tup,type(tup_1))  #(10, 20, 30, 40, 50) <class 'tuple'>\n",
    "\n",
    "lst = [10,30,40]\n",
    "print(tuple(lst), type(tuple(lst)))\n"
   ]
  },
  {
   "cell_type": "code",
   "execution_count": 19,
   "id": "6c52aaae",
   "metadata": {},
   "outputs": [
    {
     "name": "stdout",
     "output_type": "stream",
     "text": [
      "20\n",
      "(10, 20, 30)\n"
     ]
    }
   ],
   "source": [
    "tpl = (10, 20, 30, 40, 50)\n",
    "# index\n",
    "print(tpl[1])\n",
    "\n",
    "# slicing\n",
    "new_cpy_tpl = tpl[0:3]\n",
    "print(new_cpy_tpl)"
   ]
  },
  {
   "cell_type": "code",
   "execution_count": 23,
   "id": "1959df8b",
   "metadata": {},
   "outputs": [
    {
     "name": "stdout",
     "output_type": "stream",
     "text": [
      "[10, 20, 30, 40, 50, 100]\n",
      "99\n"
     ]
    }
   ],
   "source": [
    "#  list mutable\n",
    "\n",
    "lst = [10, 20, 30, 40, 50]\n",
    "lst.append(100)  #insert\n",
    "print(lst)\n",
    "\n",
    "lst[1] = 99    # list update\n",
    "print(lst[1])\n"
   ]
  },
  {
   "cell_type": "code",
   "execution_count": null,
   "id": "c1443de3",
   "metadata": {},
   "outputs": [
    {
     "name": "stdout",
     "output_type": "stream",
     "text": [
      "(10, 20, 30, 40, 50)\n"
     ]
    },
    {
     "ename": "TypeError",
     "evalue": "'tuple' object does not support item assignment",
     "output_type": "error",
     "traceback": [
      "\u001b[31m---------------------------------------------------------------------------\u001b[39m",
      "\u001b[31mTypeError\u001b[39m                                 Traceback (most recent call last)",
      "\u001b[36mCell\u001b[39m\u001b[36m \u001b[39m\u001b[32mIn[26]\u001b[39m\u001b[32m, line 6\u001b[39m\n\u001b[32m      3\u001b[39m \u001b[38;5;66;03m# tup.append(100) #insert  # error\u001b[39;00m\n\u001b[32m      4\u001b[39m \u001b[38;5;28mprint\u001b[39m(tup)\n\u001b[32m----> \u001b[39m\u001b[32m6\u001b[39m \u001b[43mtup\u001b[49m\u001b[43m[\u001b[49m\u001b[32;43m1\u001b[39;49m\u001b[43m]\u001b[49m = \u001b[32m99\u001b[39m    \u001b[38;5;66;03m# list update\u001b[39;00m\n\u001b[32m      7\u001b[39m \u001b[38;5;28mprint\u001b[39m(tup[\u001b[32m1\u001b[39m])\n",
      "\u001b[31mTypeError\u001b[39m: 'tuple' object does not support item assignment"
     ]
    }
   ],
   "source": [
    "#  but tuple immutable\n",
    "tup = (10, 20, 30, 40, 50)\n",
    "# tup.append(100) #insert  # error\n",
    "# print(tup)\n",
    "\n",
    "tup[1] = 99    # list update\n",
    "print(tup[1])"
   ]
  },
  {
   "cell_type": "markdown",
   "id": "ddb99325",
   "metadata": {},
   "source": [
    "## tuple has 2 built-in methods.\n",
    "\n",
    "count()\t--> Returns the number of times a specified value occurs in a tuple\n",
    "\n",
    "\n",
    "index()\t-> Searches the tuple for a specified value and returns the position of where it was found"
   ]
  },
  {
   "cell_type": "code",
   "execution_count": null,
   "id": "e1585231",
   "metadata": {},
   "outputs": [
    {
     "name": "stdout",
     "output_type": "stream",
     "text": [
      "2\n",
      "0\n",
      "0\n",
      "5\n"
     ]
    }
   ],
   "source": [
    "tup = (1,2,3,4,5,6,6)\n",
    "# count()\n",
    "print(tup.count(6))\n",
    "print(tup.count(10))\n",
    "\n",
    "# index()\n",
    "print(tup.index(1))\n",
    "print(tup.index(6))"
   ]
  },
  {
   "cell_type": "code",
   "execution_count": null,
   "id": "3fe3674d",
   "metadata": {},
   "outputs": [],
   "source": []
  }
 ],
 "metadata": {
  "kernelspec": {
   "display_name": "Python 3",
   "language": "python",
   "name": "python3"
  },
  "language_info": {
   "codemirror_mode": {
    "name": "ipython",
    "version": 3
   },
   "file_extension": ".py",
   "mimetype": "text/x-python",
   "name": "python",
   "nbconvert_exporter": "python",
   "pygments_lexer": "ipython3",
   "version": "3.13.7"
  }
 },
 "nbformat": 4,
 "nbformat_minor": 5
}
