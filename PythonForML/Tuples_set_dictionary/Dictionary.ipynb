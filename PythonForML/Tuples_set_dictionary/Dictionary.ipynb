{
 "cells": [
  {
   "cell_type": "markdown",
   "id": "e887013e",
   "metadata": {},
   "source": [
    "# Dictionary : (key, value)\n",
    "\n",
    "key: immutable -> int,string,float,tuple\n",
    "\n",
    "value : immutable,mutable,itself etc all\n",
    "\n",
    "unordered:indexing,slicing possible\n",
    "\n",
    "mutable"
   ]
  },
  {
   "cell_type": "code",
   "execution_count": 4,
   "id": "0a55a777",
   "metadata": {},
   "outputs": [
    {
     "name": "stdout",
     "output_type": "stream",
     "text": [
      "{'name': 'soloflare', 'id': 5, 'course': ['cs', 'ai/ml']}\n"
     ]
    }
   ],
   "source": [
    "student = {\n",
    "    \"name\" : \"soloflare\",\n",
    "    \"id\" : 5,\n",
    "    \"course\" : [\"cs\",\"ai/ml\"]\n",
    "}\n",
    "\n",
    "print(student)"
   ]
  },
  {
   "cell_type": "code",
   "execution_count": 2,
   "id": "adfd7a61",
   "metadata": {},
   "outputs": [
    {
     "name": "stdout",
     "output_type": "stream",
     "text": [
      "<class 'dict'>\n"
     ]
    }
   ],
   "source": [
    "# empty\n",
    "dic={}\n",
    "print(type(dic))"
   ]
  },
  {
   "cell_type": "code",
   "execution_count": null,
   "id": "784db65d",
   "metadata": {},
   "outputs": [
    {
     "name": "stdout",
     "output_type": "stream",
     "text": [
      "5\n",
      "['cs', 'ai/ml', 'sd']\n",
      "None\n",
      "300\n",
      "{'name': 'Me', 'id': 5, 'course': ['cs', 'ai/ml', 'sd']}\n"
     ]
    }
   ],
   "source": [
    "# value access : \n",
    "# dic_name[key]\n",
    "# dic_name.get(key)\n",
    "student = {\n",
    "    \"name\" : \"soloflare\",\n",
    "    \"id\" : 5,\n",
    "    \"course\" : [\"cs\",\"ai/ml\"],\n",
    "    \"course\" : [\"cs\",\"ai/ml\",\"sd\"]  # same key use korle latest ta asbe\n",
    "}\n",
    "\n",
    "print(student[\"id\"])\n",
    "print(student.get(\"course\"))\n",
    "print(student.get(\"cse_marks\"))  #None,as nai\n",
    "print(student.get(\"cse_marks\", 300))  #300,default\n",
    "\n",
    "# value change by key\n",
    "student[\"name\"] = \"Me\"\n",
    "print(student)"
   ]
  },
  {
   "cell_type": "markdown",
   "id": "a11b932d",
   "metadata": {},
   "source": [
    "# Dictionary Methods"
   ]
  },
  {
   "cell_type": "code",
   "execution_count": null,
   "id": "84304691",
   "metadata": {},
   "outputs": [
    {
     "name": "stdout",
     "output_type": "stream",
     "text": [
      "{'name': 'soloflare', 'id': 5, 'course': ['cs', 'ai/ml'], 'dept': 'cse'}\n",
      "{'name': 'soloflare', 'id': 1, 'course': ['cs', 'ai/ml'], 'dept': 'cse'}\n",
      "{'name': 'soloflare', 'id': 1, 'dept': 'cse'}\n",
      "{'name': 'soloflare', 'id': 1, 'dept': 'cse'}\n"
     ]
    }
   ],
   "source": [
    "student = {\n",
    "    \"name\" : \"soloflare\",\n",
    "    \"id\" : 5,\n",
    "    \"course\" : [\"cs\",\"ai/ml\"]\n",
    "}\n",
    "\n",
    "\n",
    "# adding values\n",
    "\n",
    "student[\"dept\"] = \"cse\"\n",
    "\n",
    "print(student)\n",
    "\n",
    "# update\n",
    "student.update({\"id\" : 1})\n",
    "print(student)\n",
    "\n",
    "# delete\n",
    "del student[\"course\"]\n",
    "print(student)\n",
    "\n",
    "# copy\n",
    "student_2 = student.copy()\n",
    "print(student_2)"
   ]
  },
  {
   "cell_type": "code",
   "execution_count": null,
   "id": "fd43c923",
   "metadata": {},
   "outputs": [
    {
     "name": "stdout",
     "output_type": "stream",
     "text": [
      "{(1, 3, 4, 5): 'A'}\n"
     ]
    }
   ],
   "source": [
    "# testing\n",
    "student_3 = {\n",
    "    # [1,3,4,5] : \"A\"  #unhashable type: 'list'\n",
    "    (1,3,4,5) : \"A\"    # tuple possible,immutable\n",
    "}\n",
    "print(student_3)"
   ]
  },
  {
   "cell_type": "code",
   "execution_count": null,
   "id": "1c06f344",
   "metadata": {},
   "outputs": [],
   "source": []
  },
  {
   "cell_type": "code",
   "execution_count": null,
   "id": "67000d27",
   "metadata": {},
   "outputs": [],
   "source": []
  }
 ],
 "metadata": {
  "kernelspec": {
   "display_name": "Python 3",
   "language": "python",
   "name": "python3"
  },
  "language_info": {
   "codemirror_mode": {
    "name": "ipython",
    "version": 3
   },
   "file_extension": ".py",
   "mimetype": "text/x-python",
   "name": "python",
   "nbconvert_exporter": "python",
   "pygments_lexer": "ipython3",
   "version": "3.13.7"
  }
 },
 "nbformat": 4,
 "nbformat_minor": 5
}
