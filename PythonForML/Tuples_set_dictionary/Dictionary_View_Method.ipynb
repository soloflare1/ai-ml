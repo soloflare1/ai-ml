{
 "cells": [
  {
   "cell_type": "code",
   "execution_count": null,
   "id": "93f2798f",
   "metadata": {},
   "outputs": [
    {
     "name": "stdout",
     "output_type": "stream",
     "text": [
      "dict_keys(['name', 'id', 'course'])\n",
      "dict_keys(['name', 'id', 'course', 'Country'])\n",
      "dict_values(['soloflare', 5, ['cs', 'ai/ml'], 'BD'])\n",
      "dict_values(['soloflare', 5, ['cs', 'ai/ml'], 'Bangladesh'])\n"
     ]
    }
   ],
   "source": [
    "student = {\n",
    "    \"name\" : \"soloflare\",\n",
    "    \"id\" : 5,\n",
    "    \"course\" : [\"cs\",\"ai/ml\"]\n",
    "}\n",
    "\n",
    "\n",
    "#real time update, auto update at any time\n",
    "# keys() \n",
    "# values()\n",
    "\n",
    "keys = student.keys()   \n",
    "print(keys)\n",
    "\n",
    "\n",
    "student[\"Country\"] = \"BD\"\n",
    "print(keys)\n",
    "\n",
    "\n",
    "values = student.values()\n",
    "print(values)\n",
    "\n",
    "student[\"Country\"] = \"Bangladesh\"\n",
    "print(values)\n"
   ]
  },
  {
   "cell_type": "code",
   "execution_count": null,
   "id": "83fed668",
   "metadata": {},
   "outputs": [
    {
     "name": "stdout",
     "output_type": "stream",
     "text": [
      "dict_items([('name', 'soloflare'), ('id', 5), ('course', ['cs', 'ai/ml'])])\n"
     ]
    }
   ],
   "source": [
    "\n",
    "student = {\n",
    "    \"name\" : \"soloflare\",\n",
    "    \"id\" : 5,\n",
    "    \"course\" : [\"cs\",\"ai/ml\"]\n",
    "}\n",
    "\n",
    "# key-value as tuple\n",
    "# items()\n",
    "items = student.items()\n",
    "\n",
    "print(items)"
   ]
  },
  {
   "cell_type": "code",
   "execution_count": 11,
   "id": "a804349a",
   "metadata": {},
   "outputs": [
    {
     "name": "stdout",
     "output_type": "stream",
     "text": [
      "name soloflare\n",
      "id 5\n",
      "course ['cs', 'ai/ml']\n",
      "name soloflare\n",
      "id 5\n",
      "course ['cs', 'ai/ml']\n"
     ]
    }
   ],
   "source": [
    "# iteration\n",
    "\n",
    "for key,value in student.items():\n",
    "    print( key,value)\n",
    "    \n",
    "for i,val in student.items():\n",
    "    print( i,val)"
   ]
  },
  {
   "cell_type": "code",
   "execution_count": null,
   "id": "87e1be1f",
   "metadata": {},
   "outputs": [],
   "source": []
  }
 ],
 "metadata": {
  "kernelspec": {
   "display_name": "Python 3",
   "language": "python",
   "name": "python3"
  },
  "language_info": {
   "codemirror_mode": {
    "name": "ipython",
    "version": 3
   },
   "file_extension": ".py",
   "mimetype": "text/x-python",
   "name": "python",
   "nbconvert_exporter": "python",
   "pygments_lexer": "ipython3",
   "version": "3.13.7"
  }
 },
 "nbformat": 4,
 "nbformat_minor": 5
}
