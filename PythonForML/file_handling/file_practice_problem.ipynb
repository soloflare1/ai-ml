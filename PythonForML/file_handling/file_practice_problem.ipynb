{
 "cells": [
  {
   "cell_type": "code",
   "execution_count": null,
   "id": "ee596736",
   "metadata": {},
   "outputs": [
    {
     "name": "stdout",
     "output_type": "stream",
     "text": [
      "['learning is goning fast\\n', 'learing ai/ml is fun\\n', 'lI am enjoing the classes\\n', 'hellohigood bye']\n",
      "4\n",
      "15\n",
      "[4, 4, 5, 2]\n",
      "15\n",
      "['learning is goning fast\\n', 'learing ai/ml is fun\\n', 'lI am enjoing the classes\\n', 'hellohigood bye']\n",
      "['learning is goning fast', 'learing ai/ml is fun', 'lI am enjoing the classes', 'hellohigood bye']\n",
      "['learningisgoningfast', 'learingai/mlisfun', 'lIamenjoingtheclasses', 'hellohigoodbye']\n",
      "[20, 17, 21, 14]\n",
      "72\n"
     ]
    }
   ],
   "source": [
    "from functools import reduce\n",
    "# get the text from sample1.txt, & count the following\n",
    "\n",
    "# lines,\n",
    "# words, \n",
    "# characters, &\n",
    "# save it to the counter_of_string.txt file\n",
    "\n",
    "\n",
    "with open(\"./sampleData/sample1.txt\", 'r') as file:\n",
    "    # text = file.read()\n",
    "    string_list = file.readlines()  #line by line read -> list\n",
    "    print(string_list)\n",
    "    \n",
    "    # --------------No of lines---------------\n",
    "    # way 1\n",
    "    total_lines = len(string_list)\n",
    "    print(total_lines)   # 4\n",
    "    # way 2\n",
    "    # count = 0\n",
    "    # for i in text:\n",
    "    #     count += 1\n",
    "    # print(count) # 4\n",
    "    \n",
    "    \n",
    "     # --------------No of words---------------\n",
    "    #  word separated by space \n",
    "    # as we know split() -> give list (string-> word)\n",
    "    \n",
    "    \n",
    "    # x = text[0].split()  # as text gives line by line as a  1 elemnet\n",
    "    # print(x)\n",
    "    \n",
    "    # way 1\n",
    "    cnt =  0\n",
    "    for i in range(len(string_list)):\n",
    "        x = string_list[i].split()  # as text gives line by line as a  1 elemnet\n",
    "        for i in x:\n",
    "            cnt += 1\n",
    "    print(cnt) #15\n",
    "    \n",
    "    \n",
    "    # way 2\n",
    "    \n",
    "    no_of_word = list(map(lambda x : len(x.split()), string_list))\n",
    "    total_no_of_word = reduce(lambda x,y: x+y, no_of_word )\n",
    "    print(no_of_word)\n",
    "    print(total_no_of_word)\n",
    "    \n",
    "    \n",
    "    # --------------No of characters---------------\n",
    "    print(string_list)\n",
    "    # here not char -> space, \\n, need to clean\n",
    "    \n",
    "    # cleaning\n",
    "    \n",
    "    # 1. new line dlete\n",
    "    string_list = list(map(str.strip, string_list)) # remove \"\\n\"\n",
    "    print(string_list)\n",
    "    \n",
    "    # 2. space delete\n",
    "    string_list = list(map(lambda x : x.replace(\" \",\"\"),string_list))\n",
    "    print(string_list)\n",
    "    \n",
    "    # 3. no of chars\n",
    "    num_of_chars = list(map(lambda x : len(x), string_list))\n",
    "    print(num_of_chars)\n",
    "    \n",
    "    \n",
    "    total_no_of_chars = reduce(lambda x,y : x+y,num_of_chars )\n",
    "    print(total_no_of_chars)\n",
    "    \n",
    "    \n",
    "    \n",
    "    # store \n",
    "    with open(\"./sampleData/counter_of_string.txt\", \"w\") as file:\n",
    "        file.write(f\"Total line: {total_no_of_word}\\nTotal word: {total_no_of_word}\\nTotal chars: {total_no_of_chars}\")"
   ]
  },
  {
   "cell_type": "code",
   "execution_count": null,
   "id": "a9bfc96b",
   "metadata": {},
   "outputs": [],
   "source": []
  },
  {
   "cell_type": "markdown",
   "id": "0dc610c6",
   "metadata": {},
   "source": [
    "problem 2"
   ]
  },
  {
   "cell_type": "code",
   "execution_count": null,
   "id": "0e5a79c1",
   "metadata": {},
   "outputs": [],
   "source": [
    "# write and read with one open\n",
    "\n",
    "# mode : \n",
    "# w +   -> read and write both\n",
    "# r +   -> read and write both , problem file na thakle new file create korbe na,error dibe\n",
    "# a +   -> add last er dik theke"
   ]
  },
  {
   "cell_type": "code",
   "execution_count": null,
   "id": "3a1342de",
   "metadata": {},
   "outputs": [
    {
     "name": "stdout",
     "output_type": "stream",
     "text": [
      "11\n",
      "\n",
      "0\n",
      "Hello world\n",
      "Hello\n"
     ]
    }
   ],
   "source": [
    "with open(\"./sampleData/write_read.txt\", \"w+\") as file:\n",
    "    file.write(\"Hello world\")\n",
    "    print(file.tell())  # 11, cursor goes to last point\n",
    "    print(file.read()) # nothing will show\n",
    "    \n",
    "    #  now we move the cursor at 0th index\n",
    "    file.seek(0)\n",
    "    \n",
    "    print(file.tell())  # 0\n",
    "    print(file.read())\n",
    "    \n",
    "    \n",
    "    # all delete after 5th index\n",
    "    file.truncate(5) \n",
    "    file.seek(0)\n",
    "    print(file.read())\n",
    "     "
   ]
  }
 ],
 "metadata": {
  "kernelspec": {
   "display_name": "Python 3",
   "language": "python",
   "name": "python3"
  },
  "language_info": {
   "codemirror_mode": {
    "name": "ipython",
    "version": 3
   },
   "file_extension": ".py",
   "mimetype": "text/x-python",
   "name": "python",
   "nbconvert_exporter": "python",
   "pygments_lexer": "ipython3",
   "version": "3.13.7"
  }
 },
 "nbformat": 4,
 "nbformat_minor": 5
}
