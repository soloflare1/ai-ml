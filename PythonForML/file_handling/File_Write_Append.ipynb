{
 "cells": [
  {
   "cell_type": "code",
   "execution_count": null,
   "id": "dbe8982d",
   "metadata": {},
   "outputs": [],
   "source": [
    "# write in file \n",
    "# -> write\n",
    "# -> append\n",
    "\n",
    "# first -> open the file"
   ]
  },
  {
   "cell_type": "markdown",
   "id": "164b7534",
   "metadata": {},
   "source": [
    "# write"
   ]
  },
  {
   "cell_type": "code",
   "execution_count": null,
   "id": "cfc15cf9",
   "metadata": {},
   "outputs": [],
   "source": [
    "#  creating a new file and writing there\n",
    "with open(\"./sampleData/test.txt\",'w') as file:   # create a new file\n",
    "    file.write(\"Hello test file\\n\")\n",
    "    file.write(\"How is learning gonig on?\")\n",
    "    "
   ]
  },
  {
   "cell_type": "code",
   "execution_count": 10,
   "id": "f24b9d97",
   "metadata": {},
   "outputs": [],
   "source": [
    "# writing on a existing file \n",
    "# it overwrite the file \n",
    "with open(\"./sampleData/test.txt\",'w') as file:   # create a new file\n",
    "    file.write(\"Second attempt\\n\")\n",
    "    file.write(\"learning is goning fast?\\n\")\n",
    "    "
   ]
  },
  {
   "cell_type": "markdown",
   "id": "3f3e8dc6",
   "metadata": {},
   "source": [
    "# append"
   ]
  },
  {
   "cell_type": "code",
   "execution_count": null,
   "id": "f53201f5",
   "metadata": {},
   "outputs": [],
   "source": [
    "# without overwrite   \n",
    "#  w -> a (just)\n",
    "#  just append the text later\n",
    "\n",
    "with open(\"./sampleData/test.txt\",'a') as file:   # create a new file\n",
    "    file.write(\"learing ai/ml is fun\\n\")\n",
    "    file.write(\"lI am enjoing the classes\\n\")\n",
    "    "
   ]
  }
 ],
 "metadata": {
  "kernelspec": {
   "display_name": "Python 3",
   "language": "python",
   "name": "python3"
  },
  "language_info": {
   "codemirror_mode": {
    "name": "ipython",
    "version": 3
   },
   "file_extension": ".py",
   "mimetype": "text/x-python",
   "name": "python",
   "nbconvert_exporter": "python",
   "pygments_lexer": "ipython3",
   "version": "3.13.7"
  }
 },
 "nbformat": 4,
 "nbformat_minor": 5
}
