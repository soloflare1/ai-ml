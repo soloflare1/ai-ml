{
 "cells": [
  {
   "cell_type": "markdown",
   "id": "057694b4",
   "metadata": {},
   "source": [
    "# tell(), seek()"
   ]
  },
  {
   "cell_type": "code",
   "execution_count": null,
   "id": "0b61e60c",
   "metadata": {},
   "outputs": [],
   "source": [
    "# file open kori(r/w moode e) -> initially kotha theke kaj shuru korbe tar jonno ekta shuru cursor rakhe\n",
    "# -> then let hello write korlam -> cursor gose to after hello\n",
    "\n",
    "# with some methos we can move the cursor\n"
   ]
  },
  {
   "cell_type": "markdown",
   "id": "df4b2bf4",
   "metadata": {},
   "source": [
    "# tell()"
   ]
  },
  {
   "cell_type": "code",
   "execution_count": null,
   "id": "ac6a16aa",
   "metadata": {},
   "outputs": [
    {
     "name": "stdout",
     "output_type": "stream",
     "text": [
      "0\n"
     ]
    }
   ],
   "source": [
    "with open(\"./sampleData/test.txt\", 'r') as file:\n",
    "    print(file.tell()) # 0, initial pointer at 0th index"
   ]
  },
  {
   "cell_type": "code",
   "execution_count": null,
   "id": "c6f2c085",
   "metadata": {},
   "outputs": [
    {
     "name": "stdout",
     "output_type": "stream",
     "text": [
      "0\n",
      "Second attempt\n",
      "learning is goning fast?\n",
      "learing ai/ml is fun\n",
      "lI am enjoing the classes\n",
      "hellohigood bye\n",
      "106\n",
      "\n"
     ]
    }
   ],
   "source": [
    "# test.txt file\n",
    "# Second attempt\n",
    "# learning is goning fast?\n",
    "# learing ai/ml is fun\n",
    "# lI am enjoing the classes\n",
    "# hellohigood bye\n",
    "\n",
    "with open(\"./sampleData/test.txt\", 'r') as file:\n",
    "    print(file.tell()) # 0, initial pointer at 0th index\n",
    "# file.read -> full file read kore ,so pointer ekdom last e asar kotha\n",
    "    print(file.read())\n",
    "    print(file.tell())  #Now, 106th index\n",
    "    print(file.read())  #nothing show, as we read it fully\n"
   ]
  },
  {
   "cell_type": "code",
   "execution_count": null,
   "id": "4d1bf5d9",
   "metadata": {},
   "outputs": [
    {
     "name": "stdout",
     "output_type": "stream",
     "text": [
      "0\n",
      "Secon\n",
      "5\n",
      "d attempt\n",
      "learning is goning fast?\n",
      "learing ai/ml is fun\n",
      "lI am enjoing the classes\n",
      "hellohigood bye\n",
      "106\n"
     ]
    }
   ],
   "source": [
    "# test.txt file\n",
    "# Second attempt\n",
    "# learning is goning fast?\n",
    "# learing ai/ml is fun\n",
    "# lI am enjoing the classes\n",
    "# hellohigood bye\n",
    "\n",
    "with open(\"./sampleData/test.txt\", 'r') as file:\n",
    "    print(file.tell()) # 0, initial pointer at 0th index\n",
    "    print(file.read(5)) # OUTPUT:Secon\n",
    "    print(file.tell()) # 5\n",
    "    # now\n",
    "    print(file.read())  # by default -1 thake, means full list ta naw\n",
    "    print(file.tell()) #106\n",
    "# OUTPUT:\n",
    "# d attempt\n",
    "# learning is goning fast?\n",
    "# learing ai/ml is fun\n",
    "# lI am enjoing the classes\n",
    "# hellohigood bye"
   ]
  },
  {
   "cell_type": "markdown",
   "id": "6d528e55",
   "metadata": {},
   "source": [
    "# seek()"
   ]
  },
  {
   "cell_type": "code",
   "execution_count": null,
   "id": "15c51988",
   "metadata": {},
   "outputs": [
    {
     "name": "stdout",
     "output_type": "stream",
     "text": [
      "0\n",
      "Secon\n",
      "0\n",
      "Secon\n"
     ]
    }
   ],
   "source": [
    "# test.txt file\n",
    "# Second attempt\n",
    "# learning is goning fast?\n",
    "# learing ai/ml is fun\n",
    "# lI am enjoing the classes\n",
    "# hellohigood bye\n",
    "\n",
    "with open(\"./sampleData/test.txt\", 'r') as file:\n",
    "    print(file.tell()) # 0, initial pointer at 0th index\n",
    "    \n",
    "    # seek diye poniter move\n",
    "    # read -> backword move possible na\n",
    "    print(file.read(5))  # now at 5\n",
    "    file.seek(0) # 0th, can backword\n",
    "    print(file.tell()) \n",
    "    print(file.read(5)) "
   ]
  }
 ],
 "metadata": {
  "kernelspec": {
   "display_name": "Python 3",
   "language": "python",
   "name": "python3"
  },
  "language_info": {
   "codemirror_mode": {
    "name": "ipython",
    "version": 3
   },
   "file_extension": ".py",
   "mimetype": "text/x-python",
   "name": "python",
   "nbconvert_exporter": "python",
   "pygments_lexer": "ipython3",
   "version": "3.13.7"
  }
 },
 "nbformat": 4,
 "nbformat_minor": 5
}
