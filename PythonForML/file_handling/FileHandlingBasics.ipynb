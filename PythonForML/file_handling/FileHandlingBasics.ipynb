{
 "cells": [
  {
   "cell_type": "code",
   "execution_count": null,
   "id": "498c6adf",
   "metadata": {},
   "outputs": [],
   "source": [
    "# code -> execute -> store variables in main mem(RAM)->file word done(code execution done)->END (varialbe ,result dlt from RAM)\n",
    "\n",
    "# so if we need them later we need to run the code again\n",
    "\n",
    "# if we wanna store from RAM this variable then\n",
    "# we need tp store secondary memory\n",
    "\n",
    "\n",
    "# transfer from RAM to Secondary mem -> file handling"
   ]
  },
  {
   "cell_type": "code",
   "execution_count": null,
   "id": "71551f2e",
   "metadata": {},
   "outputs": [],
   "source": [
    "# data load er jonno file need \n",
    "# # data load -> data processing(I/O) -> model train->checkpoint,log(error),metrics -> clear_output\n",
    "\n",
    "# file need-\n",
    "# pandas\n",
    "# ->basic \n",
    "# ->modify\n",
    "# ->csv,json"
   ]
  }
 ],
 "metadata": {
  "language_info": {
   "name": "python"
  }
 },
 "nbformat": 4,
 "nbformat_minor": 5
}
