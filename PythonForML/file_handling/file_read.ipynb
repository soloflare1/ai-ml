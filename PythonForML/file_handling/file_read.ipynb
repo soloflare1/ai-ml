{
 "cells": [
  {
   "cell_type": "code",
   "execution_count": null,
   "id": "f0f1b025",
   "metadata": {},
   "outputs": [],
   "source": [
    "# open (\" \", mode)\n",
    "\n",
    "# mode\n",
    "# ->read, 'r'\n",
    "# ->write, 'w'  ->But,file's existing daata remove\n",
    "# ->append, 'a'  ->add right after existing data\n"
   ]
  },
  {
   "cell_type": "code",
   "execution_count": 19,
   "id": "fe73b70f",
   "metadata": {},
   "outputs": [
    {
     "name": "stdout",
     "output_type": "stream",
     "text": [
      "Hi, I am soloflare\n",
      "\"When something is important enough, you do it even if the odds are not in your favor.\"\n"
     ]
    }
   ],
   "source": [
    "file = open(\"sample.txt\", \"r\")\n",
    "content = file.read()\n",
    "print(content)  # Hi, from txt file\n",
    "\n",
    "# ./sampl_data -> ekta folder e aso \n",
    "# then /sample.txt te dhuko\n",
    "\n",
    "# file1 = open(\"./sample1Data/sample.txt\", \"r\")\n",
    "# content1 = file1.read()\n",
    "# print(content1)\n",
    "\n",
    "\n"
   ]
  },
  {
   "cell_type": "code",
   "execution_count": 20,
   "id": "431a26ce",
   "metadata": {},
   "outputs": [
    {
     "name": "stdout",
     "output_type": "stream",
     "text": [
      "['Hi, I am soloflare\\n', '\"When something is important enough, you do it even if the odds are not in your favor.\"']\n",
      "False\n"
     ]
    }
   ],
   "source": [
    "# per line -> converted to string -> depend on new line -> list\n",
    "\n",
    "\n",
    "file = open(\"sample.txt\", \"r\")\n",
    "\n",
    "print(file.readlines())\n",
    "\n",
    "# must close otherwise data -> data can't store, Data Loss\n",
    "\n",
    "file.close\n",
    "print(file.closed)"
   ]
  },
  {
   "cell_type": "code",
   "execution_count": 21,
   "id": "dab2f144",
   "metadata": {},
   "outputs": [
    {
     "name": "stdout",
     "output_type": "stream",
     "text": [
      "['Hi, I am soloflare\\n', '\"When something is important enough, you do it even if the odds are not in your favor.\"']\n",
      "True\n"
     ]
    }
   ],
   "source": [
    "# auto colse ,if we open with \"with\" keyword\n",
    "# best practice\n",
    "\n",
    "with  open(\"sample.txt\", \"r\") as file:  # obj hoye geche\n",
    "    content = file.readlines()\n",
    "    print(content)\n",
    "    \n",
    "print(file.closed)\n",
    "    "
   ]
  },
  {
   "cell_type": "code",
   "execution_count": null,
   "id": "d3dcffd4",
   "metadata": {},
   "outputs": [
    {
     "name": "stdout",
     "output_type": "stream",
     "text": [
      "Hi, I am soloflare\n",
      "\n",
      "\"When something is important enough, you do it even if the odds are not in your favor.\"\n",
      "True\n"
     ]
    }
   ],
   "source": [
    "# without converting to list\n",
    "# but here arrive 1 extra new line\n",
    "with  open(\"sample.txt\", \"r\") as file:  # obj hoye geche\n",
    "    for line in file:\n",
    "        print(line)\n",
    "\n",
    "print(file.closed)"
   ]
  },
  {
   "cell_type": "code",
   "execution_count": 23,
   "id": "a10bc4f7",
   "metadata": {},
   "outputs": [
    {
     "name": "stdout",
     "output_type": "stream",
     "text": [
      "Hi, I am soloflare\n",
      "\"When something is important enough, you do it even if the odds are not in your favor.\"True\n"
     ]
    }
   ],
   "source": [
    "# without converting to list\n",
    "# without extra new line\n",
    "with  open(\"sample.txt\", \"r\") as file:  # obj hoye geche\n",
    "    for line in file:\n",
    "        print(line,end=\"\")\n",
    "    \n",
    "print(file.closed)"
   ]
  },
  {
   "cell_type": "code",
   "execution_count": null,
   "id": "4c82574c",
   "metadata": {},
   "outputs": [
    {
     "name": "stdout",
     "output_type": "stream",
     "text": [
      "True\n"
     ]
    }
   ],
   "source": [
    "# without converting to list\n",
    "# Now by deleting extra new line\n",
    "with  open(\"sample.txt\", \"r\") as file:  # obj hoye geche\n",
    "    for line in file:\n",
    "        l= line.strip() # store kore rekhe dlt korte caile dlt\n",
    "    \n",
    "print(file.closed)\n",
    "\n"
   ]
  },
  {
   "cell_type": "code",
   "execution_count": 31,
   "id": "41a4290e",
   "metadata": {},
   "outputs": [
    {
     "name": "stdout",
     "output_type": "stream",
     "text": [
      "['Hello test file', 'How is learning gonig on?']\n",
      "['Hello test file', 'How is learning gonig on?']\n"
     ]
    }
   ],
   "source": [
    "# per line -> converted to string -> depend on new line -> list\n",
    "\n",
    "\n",
    "file = open(\"sample.txt\", \"r\")\n",
    "\n",
    "# content  = file.readlines() \n",
    "# list with new line-> \n",
    "# ['Hello test file\\n', 'How is learning gonig on?']\n",
    "\n",
    "content  = file.readlines() \n",
    "content  = list(map(str.strip,content)) \n",
    "#new line\"\\n\" gulo cole geche\n",
    "\n",
    "filter_content = list(filter(lambda x : len(x) >= 1, content))\n",
    "\n",
    "print(content)\n",
    "print(filter_content)\n"
   ]
  },
  {
   "cell_type": "markdown",
   "id": "17a2ab62",
   "metadata": {},
   "source": [
    "passing string"
   ]
  },
  {
   "cell_type": "code",
   "execution_count": 33,
   "id": "9621623b",
   "metadata": {},
   "outputs": [],
   "source": [
    "strings = ['hello', 'hi', 'good bye']\n",
    "\n",
    "with open(\"sampleData/test.txt\", 'a') as file:\n",
    "    \n",
    "    file.writelines(strings)"
   ]
  },
  {
   "cell_type": "code",
   "execution_count": null,
   "id": "22513523",
   "metadata": {},
   "outputs": [],
   "source": []
  }
 ],
 "metadata": {
  "kernelspec": {
   "display_name": "Python 3",
   "language": "python",
   "name": "python3"
  },
  "language_info": {
   "codemirror_mode": {
    "name": "ipython",
    "version": 3
   },
   "file_extension": ".py",
   "mimetype": "text/x-python",
   "name": "python",
   "nbconvert_exporter": "python",
   "pygments_lexer": "ipython3",
   "version": "3.13.7"
  }
 },
 "nbformat": 4,
 "nbformat_minor": 5
}
