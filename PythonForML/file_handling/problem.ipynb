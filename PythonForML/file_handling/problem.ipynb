{
 "cells": [
  {
   "cell_type": "code",
   "execution_count": null,
   "id": "cbb8843c",
   "metadata": {},
   "outputs": [],
   "source": [
    "\"\"\"\n",
    "1. Create a text file named emails.txt containing multiple email addresses, \n",
    "some in uppercase and some repeated.\n",
    "Write a Python program to clean the data by converting all emails to lowercase, \n",
    "removing duplicates, sorting them alphabetically, and \n",
    "saving the cleaned list to a new file named unique_emails.txt.\n",
    "\n",
    "\n",
    "2. Create a text file named names.txt containing a list of names.\n",
    "Some names may have extra spaces, inconsistent capitalization (like “aLiCe” or “ bob ”), or appear more than once.\n",
    "Write a Python program to clean the data by:\n",
    "1.  Removing extra spaces.\n",
    "2.  Converting all names so that only the first letter is capitalized.\n",
    "3.  Removing duplicate names. \n",
    "4. Sorting the names alphabetically.\n",
    "Finally, save the cleaned list into a new file named clean_names.txt.\n",
    "\n",
    "\n",
    "3. Write a Python program that creates a list of 5 numbers.\n",
    "Ask the user for an index number and print the value at that index.\n",
    "If the index is out of range, handle the exception and print \"Invalid index!\".\n",
    "\"\"\""
   ]
  },
  {
   "cell_type": "code",
   "execution_count": null,
   "id": "fd853eb2",
   "metadata": {},
   "outputs": [
    {
     "name": "stdout",
     "output_type": "stream",
     "text": [
      "['bhbh@gmail.com\\n', 'xys@gmail.com\\n', 'xys@gmail.com\\n', 'xys@gmail.com\\n', 'absdfg@gmail.com\\n']\n",
      "{'xys@gmail.com\\n', 'absdfg@gmail.com\\n', 'bhbh@gmail.com\\n'}\n"
     ]
    }
   ],
   "source": [
    "# Create a text file named emails.txt containing multiple email addresses, \n",
    "# some in uppercase and some repeated.\n",
    "# Write a Python program to clean the data by converting all emails to lowercase, \n",
    "# removing duplicates, sorting them alphabetically, and \n",
    "# saving the cleaned list to a new file named unique_emails.txt.\n",
    "\n",
    "\n",
    "# 1.Create a text file named emails.txt containing multiple email addresses, \n",
    "with open(\"./sampleData/emails.txt\", \"w+\") as file:\n",
    "    \n",
    "    # 2. some in uppercase and some repeated.\n",
    "    lst = [ \"bHBh@gmail.com\\n\",\"XYs@gmail.com\\n\",\"XYs@gmail.com\\n\",\"XYs@gmail.com\\n\",\"abSDFG@gmail.com\\n\"]\n",
    "    \n",
    "    for i in lst:\n",
    "        file.write(i)\n",
    "    \n",
    "  \n",
    "    # 3. Write a Python program to clean the data by converting all emails to lowercase, \n",
    "    x = [i.lower() for i in lst]\n",
    "    print(x)\n",
    "    \n",
    "    # 4. removing duplicates, sorting them alphabetically\n",
    "    remove_dup_sort = set(x)\n",
    "    print(remove_dup_sort)\n",
    "    \n",
    "    # 5. saving the cleaned list to a new file named unique_emails.txt.\n",
    "    cleaned_data = list(remove_dup_sort)\n",
    "    with open(\"./sampleData/unique_emails.txt\", \"w\") as file:\n",
    "        for i in cleaned_data:\n",
    "            file.write(i)\n",
    "            \n",
    "            \n",
    "# # Step 1: Create a text file with mixed-case and repeated emails\n",
    "# with open(\"./sampleData/emails.txt\", \"w\") as file:\n",
    "#     lst = [\n",
    "#         \"bHBh@gmail.com\\n\",\n",
    "#         \"XYs@gmail.com\\n\",\n",
    "#         \"XYs@gmail.com\\n\",\n",
    "#         \"XYs@gmail.com\\n\",\n",
    "#         \"abSDFG@gmail.com\\n\"\n",
    "#     ]\n",
    "#     file.writelines(lst)\n",
    "\n",
    "# # Step 2: Read emails from the file\n",
    "# with open(\"./sampleData/emails.txt\", \"r\") as file:\n",
    "#     raw_emails = file.readlines()\n",
    "\n",
    "# # Step 3: Convert to lowercase and strip newline characters\n",
    "# cleaned_emails = [email.strip().lower() for email in raw_emails]\n",
    "\n",
    "# # Step 4: Remove duplicates and sort alphabetically\n",
    "# unique_sorted_emails = sorted(set(cleaned_emails))\n",
    "\n",
    "# # Step 5: Save cleaned emails to a new file\n",
    "# with open(\"./sampleData/unique_emails.txt\", \"w\") as file:\n",
    "#     for email in unique_sorted_emails:\n",
    "#         file.write(email + \"\\n\")\n",
    "\n",
    "# # Optional: Print result\n",
    "# print(\"Cleaned and saved emails:\")\n",
    "# print(\"\\n\".join(unique_sorted_emails))\n",
    "           "
   ]
  },
  {
   "cell_type": "code",
   "execution_count": null,
   "id": "c98a04aa",
   "metadata": {},
   "outputs": [],
   "source": [
    "\n",
    "# 2. Create a text file named names.txt containing a list of names.\n",
    "# Some names may have extra spaces, inconsistent capitalization (like “aLiCe” or “ bob ”), or appear more than once.\n",
    "# Write a Python program to clean the data by:\n",
    "# 1.  Removing extra spaces.\n",
    "# 2.  Converting all names so that only the first letter is capitalized.\n",
    "# 3.  Removing duplicate names. \n",
    "# 4. Sorting the names alphabetically.\n",
    "# Finally, save the cleaned list into a new file named clean_names.txt."
   ]
  }
 ],
 "metadata": {
  "kernelspec": {
   "display_name": "Python 3",
   "language": "python",
   "name": "python3"
  },
  "language_info": {
   "codemirror_mode": {
    "name": "ipython",
    "version": 3
   },
   "file_extension": ".py",
   "mimetype": "text/x-python",
   "name": "python",
   "nbconvert_exporter": "python",
   "pygments_lexer": "ipython3",
   "version": "3.13.7"
  }
 },
 "nbformat": 4,
 "nbformat_minor": 5
}
