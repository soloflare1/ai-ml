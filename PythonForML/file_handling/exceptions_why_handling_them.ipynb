{
 "cells": [
  {
   "cell_type": "code",
   "execution_count": null,
   "id": "0bc83415",
   "metadata": {},
   "outputs": [],
   "source": [
    "\"\"\"\n",
    "*** Exceptions*** :\n",
    "-> errors that occurs on runtime\n",
    "-> after execute\n",
    "-> ex: file include but the file is non-exist\n",
    "\n",
    "*** Exceptions handling *** :\n",
    "-> fix Exceptions\n",
    "\n",
    "*** syntax error *** :\n",
    "code run -> before runing the code it will tell that there are some syntax error\n",
    "(store mode)\n",
    "before execute\n",
    "\n",
    "\n",
    "\n",
    "if one error arrive -> meaningfull msg dibo -> jeno code crash korbena \n",
    "\"\"\"\n",
    "\n",
    "\n",
    "\n",
    "\"\"\"\n",
    "ML perspective\n",
    "\n",
    "file load->but if the file not exists ->?so\n",
    "-> handle -> next task\n",
    "-? full crash korle abr sobta kora lagbe\n",
    "\n",
    "ei type error pele chunk k chunk vag kore handle\n",
    "just oi perticular portion e hanlde\n",
    "\n",
    "\n",
    "- import pandas but doesn't exist\n",
    "- laod file but doesn't exist\n",
    "etc\n",
    "\n",
    " \n",
    "\n",
    "\"\"\"\n"
   ]
  }
 ],
 "metadata": {
  "language_info": {
   "name": "python"
  }
 },
 "nbformat": 4,
 "nbformat_minor": 5
}
