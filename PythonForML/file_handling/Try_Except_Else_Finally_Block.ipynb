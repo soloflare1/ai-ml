{
 "cells": [
  {
   "cell_type": "code",
   "execution_count": 3,
   "id": "42fe1bab",
   "metadata": {},
   "outputs": [
    {
     "name": "stdout",
     "output_type": "stream",
     "text": [
      "You cant't divide a number by 0\n",
      "Hi\n"
     ]
    }
   ],
   "source": [
    "# a = 10/0  #ZeroDivisionError: division by zero\n",
    "\n",
    "n =int(input())\n",
    "#  handle\n",
    "try:\n",
    "   a = 10/n\n",
    "except ZeroDivisionError:\n",
    "    print(\"You cant't divide a number by 0\")\n",
    "    \n",
    "    \n",
    "print(\"Hi\")"
   ]
  },
  {
   "cell_type": "code",
   "execution_count": null,
   "id": "1513b9d9",
   "metadata": {},
   "outputs": [
    {
     "name": "stdout",
     "output_type": "stream",
     "text": [
      "name 'y' is not defined\n",
      "Hi\n"
     ]
    }
   ],
   "source": [
    "try:\n",
    "   x = y\n",
    "except ZeroDivisionError:\n",
    "    print(\"You cant't divide a number by 0\")\n",
    "except NameError as ne:\n",
    "    print(ne)\n",
    "    \n",
    "print(\"Hi\")"
   ]
  },
  {
   "cell_type": "code",
   "execution_count": null,
   "id": "49dbe93f",
   "metadata": {},
   "outputs": [],
   "source": [
    "# Error ta janle nijer likhte parbo otherwise Exception class use korbo"
   ]
  },
  {
   "cell_type": "code",
   "execution_count": 19,
   "id": "ded333e5",
   "metadata": {},
   "outputs": [
    {
     "name": "stdout",
     "output_type": "stream",
     "text": [
      "name 'y' is not defined\n",
      "Hi\n"
     ]
    }
   ],
   "source": [
    "try:\n",
    "   x = y\n",
    "except ZeroDivisionError:\n",
    "    print(\"You cant't divide a number by 0\")\n",
    "    \n",
    "    # all errors are include in exception class ,so indivisually no need to write\n",
    "    \n",
    "except Exception as e:\n",
    "    print(e)\n",
    "    \n",
    "print(\"Hi\")"
   ]
  },
  {
   "cell_type": "code",
   "execution_count": 20,
   "id": "39ab0bb1",
   "metadata": {},
   "outputs": [
    {
     "name": "stdout",
     "output_type": "stream",
     "text": [
      "[Errno 2] No such file or directory: './sampleData/data.txt'\n",
      "GPU is stopped\n"
     ]
    }
   ],
   "source": [
    "#  model train\n",
    "\n",
    "try:\n",
    "    file = open(\"./sampleData/data.txt\", \"r\") # non-existing\n",
    "    file.read()\n",
    "\n",
    "except Exception as e:\n",
    "    print(e)\n",
    "else:\n",
    "    # model train\n",
    "    print(file.read())\n",
    "   \n",
    "finally:\n",
    "    print(\"GPU is stopped\")  # data load/not load ,need to stop the gpu"
   ]
  },
  {
   "cell_type": "code",
   "execution_count": null,
   "id": "c98b1c87",
   "metadata": {},
   "outputs": [
    {
     "name": "stdout",
     "output_type": "stream",
     "text": [
      "Hello ,what's up?\n",
      "GPU is stopped\n"
     ]
    }
   ],
   "source": [
    "#  model train\n",
    "\n",
    "# data load\n",
    "try:\n",
    "    file = open(\"./sampleData/data3.txt\", \"r\") # existing\n",
    "    data = file.read()\n",
    "\n",
    "except Exception as e:\n",
    "    print(e)\n",
    "else:\n",
    "    # if no excentions then train the model\n",
    "    print(data)\n",
    "    \n",
    "finally:\n",
    "    print(\"GPU is stopped\")  # data load/not load ,need to stop the gpu"
   ]
  },
  {
   "cell_type": "code",
   "execution_count": null,
   "id": "dcc78b0b",
   "metadata": {},
   "outputs": [],
   "source": []
  }
 ],
 "metadata": {
  "kernelspec": {
   "display_name": "Python 3",
   "language": "python",
   "name": "python3"
  },
  "language_info": {
   "codemirror_mode": {
    "name": "ipython",
    "version": 3
   },
   "file_extension": ".py",
   "mimetype": "text/x-python",
   "name": "python",
   "nbconvert_exporter": "python",
   "pygments_lexer": "ipython3",
   "version": "3.13.7"
  }
 },
 "nbformat": 4,
 "nbformat_minor": 5
}
