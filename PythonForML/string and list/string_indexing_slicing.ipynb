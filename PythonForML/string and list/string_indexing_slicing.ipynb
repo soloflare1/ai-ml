// string -> sequence of character -> text
// promt -> text

promt = "What's your name?"
print(promt)
print(type(promt))

// What's your name?
// <class 'str'>

message = """
tell me about youself, what are the issues you've been facing while learning to code?
How are you tacking them?    
"""
print(message)

// tell me about youself, what are the issues you've been facing while learning to code?
// How are you tacking them?   


// ## Indexing & slicing
str = "Hello World"
print(str[0]) 

  // ## start : end : step

first_msg = message[0:24:2]
print(first_msg)   #elm bu osl,

print(first_msg[-1])
print(first_msg[-2])
print(first_msg[-3])
print(first_msg[-4])

// length
print(len(first_msg))   # 12
