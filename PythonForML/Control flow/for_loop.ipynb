{
 "cells": [
  {
   "cell_type": "markdown",
   "id": "64d7e585",
   "metadata": {},
   "source": [
    "For loop"
   ]
  },
  {
   "cell_type": "code",
   "execution_count": null,
   "id": "d7c1c351",
   "metadata": {},
   "outputs": [
    {
     "name": "stdout",
     "output_type": "stream",
     "text": [
      "0 hi\n",
      "1 hi\n",
      "2 hi\n",
      "3 hi\n",
      "4 hi\n",
      "5 hi\n",
      "6 hi\n",
      "7 hi\n",
      "8 hi\n",
      "9 hi\n",
      "[0, 1, 2, 3, 4, 5, 6, 7, 8, 9]\n"
     ]
    }
   ],
   "source": [
    "# 0  to 9\n",
    "for i in range(10):   \n",
    "    print(i,\"hi\")\n",
    "    \n",
    "    \n",
    "print(list(range(10)))"
   ]
  },
  {
   "cell_type": "markdown",
   "id": "129b1106",
   "metadata": {},
   "source": [
    "range(start, end, step), start inclusive, end exclusive\n"
   ]
  },
  {
   "cell_type": "code",
   "execution_count": null,
   "id": "ae7770f0",
   "metadata": {},
   "outputs": [
    {
     "name": "stdout",
     "output_type": "stream",
     "text": [
      "1 1\n",
      "1 2\n",
      "1 3\n",
      "1 4\n",
      "2 1\n",
      "2 2\n",
      "2 3\n",
      "2 4\n",
      "3 1\n",
      "3 2\n",
      "3 3\n",
      "3 4\n",
      "4 1\n",
      "4 2\n",
      "4 3\n",
      "4 4\n",
      "5 1\n",
      "5 2\n",
      "5 3\n",
      "5 4\n",
      "6 1\n",
      "6 2\n",
      "6 3\n",
      "6 4\n",
      "7 1\n",
      "7 2\n",
      "7 3\n",
      "7 4\n",
      "8 1\n",
      "8 2\n",
      "8 3\n",
      "8 4\n",
      "9 1\n",
      "9 2\n",
      "9 3\n",
      "9 4\n"
     ]
    }
   ],
   "source": [
    "for i in range(1,10):      # 1 to 9\n",
    "    for j in range(1,5):   # 9 * 1 to 4\n",
    "        print(i,j)"
   ]
  },
  {
   "cell_type": "markdown",
   "id": "1763e06b",
   "metadata": {},
   "source": []
  },
  {
   "cell_type": "code",
   "execution_count": null,
   "id": "6f6ad793",
   "metadata": {},
   "outputs": [],
   "source": []
  },
  {
   "cell_type": "code",
   "execution_count": null,
   "id": "eb099543",
   "metadata": {},
   "outputs": [],
   "source": []
  }
 ],
 "metadata": {
  "kernelspec": {
   "display_name": "Python 3",
   "language": "python",
   "name": "python3"
  },
  "language_info": {
   "codemirror_mode": {
    "name": "ipython",
    "version": 3
   },
   "file_extension": ".py",
   "mimetype": "text/x-python",
   "name": "python",
   "nbconvert_exporter": "python",
   "pygments_lexer": "ipython3",
   "version": "3.13.7"
  }
 },
 "nbformat": 4,
 "nbformat_minor": 5
}
