{
 "cells": [
  {
   "cell_type": "code",
   "execution_count": null,
   "id": "9fd77e04",
   "metadata": {},
   "outputs": [
    {
     "name": "stdout",
     "output_type": "stream",
     "text": [
      "Hi\n",
      "Hi\n",
      "Hi\n",
      "Hi\n",
      "Hi\n",
      "Hi\n",
      "Hi\n",
      "Hi\n",
      "Hi\n"
     ]
    }
   ],
   "source": [
    "count = 1\n",
    "while count < 10:\n",
    "    print(\"Hi\")\n",
    "    count += 1\n",
    "    # count = count +1    # same"
   ]
  },
  {
   "cell_type": "code",
   "execution_count": 5,
   "id": "46fe3b1a",
   "metadata": {},
   "outputs": [],
   "source": [
    "count = 1\n",
    "while count > 10:\n",
    "    print(\"Hi\")\n",
    "    count += 1"
   ]
  }
 ],
 "metadata": {
  "kernelspec": {
   "display_name": "Python 3",
   "language": "python",
   "name": "python3"
  },
  "language_info": {
   "codemirror_mode": {
    "name": "ipython",
    "version": 3
   },
   "file_extension": ".py",
   "mimetype": "text/x-python",
   "name": "python",
   "nbconvert_exporter": "python",
   "pygments_lexer": "ipython3",
   "version": "3.13.7"
  }
 },
 "nbformat": 4,
 "nbformat_minor": 5
}
