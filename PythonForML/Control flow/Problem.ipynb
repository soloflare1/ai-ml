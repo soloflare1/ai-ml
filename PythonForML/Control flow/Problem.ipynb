{
 "cells": [
  {
   "cell_type": "code",
   "execution_count": null,
   "id": "33edeacf",
   "metadata": {},
   "outputs": [],
   "source": []
  },
  {
   "cell_type": "markdown",
   "id": "21af7963",
   "metadata": {},
   "source": [
    "# Min and max"
   ]
  },
  {
   "cell_type": "markdown",
   "id": "deae5261",
   "metadata": {},
   "source": [
    "input\n",
    "1 2 3 ,evabe deya mane string hisebe deya , so split...."
   ]
  },
  {
   "cell_type": "code",
   "execution_count": null,
   "id": "33be62d5",
   "metadata": {},
   "outputs": [
    {
     "name": "stdout",
     "output_type": "stream",
     "text": [
      "1 2\n"
     ]
    }
   ],
   "source": [
    "n = input()\n",
    "\n",
    "lst = n.split()   # as list ['1','2']\n",
    "\n",
    "x = int(lst[0])\n",
    "y = int(lst[1])\n",
    "z = int(lst[2])\n",
    "\n",
    "min = x\n",
    "max = x\n",
    "#min\n",
    "if y < min:\n",
    "    min = y\n",
    "if z < min:\n",
    "    min = z\n",
    "\n",
    "    \n",
    "# max\n",
    "if y > max:\n",
    "    max = y\n",
    "if z > max:\n",
    "    max = z\n",
    "\n",
    "    \n",
    "print(min, max)\n",
    "    \n",
    "\n",
    "    \n",
    "\n",
    "    \n",
    "\n"
   ]
  },
  {
   "cell_type": "markdown",
   "id": "f0b95eba",
   "metadata": {},
   "source": [
    "## C. Even, Odd, Positive and Negative"
   ]
  },
  {
   "cell_type": "code",
   "execution_count": null,
   "id": "e58fc586",
   "metadata": {},
   "outputs": [],
   "source": [
    "t = int(input())\n",
    "\n",
    "n = input()\n",
    "lst = n.split()\n",
    "\n",
    "# lst = input().split()\n",
    "\n",
    "Even = 0 ; Odd = 0 ;pos = 0 ; neg = 0 \n",
    "for i in range(t):\n",
    "    num = int(lst[i])\n",
    "    \n",
    "    # Even & odd\n",
    "    if(num % 2 == 0):\n",
    "        Even += 1\n",
    "    else:\n",
    "        Odd += 1\n",
    "    \n",
    "    # Positive and Negative\n",
    "    if(num >  0):\n",
    "        pos += 1\n",
    "    elif num < 0:\n",
    "        neg += 1 \n",
    "        \n",
    "print(\"Even: \",Even)\n",
    "print(\"Odd: \", Odd)\n",
    "print(\"Positive: \",pos)\n",
    "print(\"Negative: \",neg)"
   ]
  },
  {
   "cell_type": "code",
   "execution_count": null,
   "id": "a130102c",
   "metadata": {},
   "outputs": [],
   "source": []
  },
  {
   "cell_type": "markdown",
   "id": "0b144da5",
   "metadata": {},
   "source": []
  },
  {
   "cell_type": "markdown",
   "id": "300f4720",
   "metadata": {},
   "source": [
    "## Q. Digits"
   ]
  },
  {
   "cell_type": "code",
   "execution_count": 11,
   "id": "5c3c943a",
   "metadata": {},
   "outputs": [
    {
     "ename": "ValueError",
     "evalue": "invalid literal for int() with base 10: ''",
     "output_type": "error",
     "traceback": [
      "\u001b[31m---------------------------------------------------------------------------\u001b[39m",
      "\u001b[31mValueError\u001b[39m                                Traceback (most recent call last)",
      "\u001b[36mCell\u001b[39m\u001b[36m \u001b[39m\u001b[32mIn[11]\u001b[39m\u001b[32m, line 1\u001b[39m\n\u001b[32m----> \u001b[39m\u001b[32m1\u001b[39m t = \u001b[38;5;28;43mint\u001b[39;49m\u001b[43m(\u001b[49m\u001b[38;5;28;43minput\u001b[39;49m\u001b[43m(\u001b[49m\u001b[43m)\u001b[49m\u001b[43m)\u001b[49m\n\u001b[32m      3\u001b[39m \u001b[38;5;28;01mfor\u001b[39;00m i \u001b[38;5;129;01min\u001b[39;00m \u001b[38;5;28mrange\u001b[39m(t):\n\u001b[32m      4\u001b[39m     num = \u001b[38;5;28mint\u001b[39m(\u001b[38;5;28minput\u001b[39m())\n",
      "\u001b[31mValueError\u001b[39m: invalid literal for int() with base 10: ''"
     ]
    }
   ],
   "source": [
    "t = int(input())\n",
    "\n",
    "for i in range(t):\n",
    "    num = int(input())\n",
    "    if num == 0:\n",
    "        print(0)\n",
    "        continue\n",
    "    \n",
    "    while num > 0:\n",
    "       print(num%10, end=\" \")   #space instead of newline\n",
    "       num //= 10\n",
    "    print()   #newlinw\n",
    "    "
   ]
  },
  {
   "cell_type": "markdown",
   "id": "cd9896b9",
   "metadata": {},
   "source": [
    "4\n",
    "121\n",
    "39\n",
    "123456\n",
    "1200\n"
   ]
  },
  {
   "cell_type": "code",
   "execution_count": null,
   "id": "8c99df31",
   "metadata": {},
   "outputs": [],
   "source": []
  },
  {
   "cell_type": "markdown",
   "id": "35f3899c",
   "metadata": {},
   "source": []
  }
 ],
 "metadata": {
  "kernelspec": {
   "display_name": "Python 3",
   "language": "python",
   "name": "python3"
  },
  "language_info": {
   "codemirror_mode": {
    "name": "ipython",
    "version": 3
   },
   "file_extension": ".py",
   "mimetype": "text/x-python",
   "name": "python",
   "nbconvert_exporter": "python",
   "pygments_lexer": "ipython3",
   "version": "3.13.7"
  }
 },
 "nbformat": 4,
 "nbformat_minor": 5
}
