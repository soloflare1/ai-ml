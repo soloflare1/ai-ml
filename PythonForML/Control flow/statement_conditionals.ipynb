{
 "cells": [
  {
   "cell_type": "code",
   "execution_count": null,
   "id": "768a065b",
   "metadata": {},
   "outputs": [
    {
     "name": "stdout",
     "output_type": "stream",
     "text": [
      "Go\n"
     ]
    }
   ],
   "source": [
    "raining = False \n",
    "Muddy = True\n",
    "sun = True\n",
    "\n",
    "if raining == True:\n",
    "    print(\"Rain\")\n",
    "    if Muddy == True:\n",
    "        print(\"Sandal\")\n",
    "    elif (sun == True) and (Muddy == True):\n",
    "        print(\"Sun\")\n",
    "    else:\n",
    "        print(\"Sneakers\")\n",
    "else:\n",
    "    print(\"Go\")"
   ]
  },
  {
   "cell_type": "markdown",
   "id": "d7bac423",
   "metadata": {},
   "source": []
  }
 ],
 "metadata": {
  "kernelspec": {
   "display_name": "Python 3",
   "language": "python",
   "name": "python3"
  },
  "language_info": {
   "codemirror_mode": {
    "name": "ipython",
    "version": 3
   },
   "file_extension": ".py",
   "mimetype": "text/x-python",
   "name": "python",
   "nbconvert_exporter": "python",
   "pygments_lexer": "ipython3",
   "version": "3.13.7"
  }
 },
 "nbformat": 4,
 "nbformat_minor": 5
}
