{
 "cells": [
  {
   "cell_type": "code",
   "execution_count": null,
   "id": "e1acccbb",
   "metadata": {},
   "outputs": [],
   "source": [
    "testcase = int(input())\n",
    "\n",
    "while(testcase): \n",
    "    n = int(input()) \n",
    "    mp = map(int, input().split()) \n",
    "    st = set(mp) \n",
    "    count = 0 \n",
    "    for i in st: \n",
    "        count += 1 \n",
    "        \n",
    "    print(count) \n",
    "        \n",
    "    testcase -= 1"
   ]
  },
  {
   "cell_type": "code",
   "execution_count": null,
   "id": "866c16eb",
   "metadata": {},
   "outputs": [],
   "source": [
    "testcase = int(input())\n",
    "\n",
    "for t in range(testcase):\n",
    "    n = int(input()) \n",
    "    mp = map(int, input().split()) \n",
    "    st = set(mp) \n",
    "    \n",
    "    count = 0 \n",
    "    for i in st: \n",
    "        count += 1 \n",
    "        \n",
    "    print(count) \n",
    "        \n",
    "    testcase -= 1"
   ]
  },
  {
   "cell_type": "code",
   "execution_count": null,
   "id": "30ece37e",
   "metadata": {},
   "outputs": [],
   "source": [
    "\n",
    "# 1. for i in range(t):\n",
    "# Loops `t` times, uses `i`\n",
    "#  When you need the index\n",
    "\n",
    "# 2.for _ in range(t):\n",
    "# Loops `t` times, ignores index\n",
    "# When index is not needed "
   ]
  }
 ],
 "metadata": {
  "kernelspec": {
   "display_name": "Python 3",
   "language": "python",
   "name": "python3"
  },
  "language_info": {
   "codemirror_mode": {
    "name": "ipython",
    "version": 3
   },
   "file_extension": ".py",
   "mimetype": "text/x-python",
   "name": "python",
   "nbconvert_exporter": "python",
   "pygments_lexer": "ipython3",
   "version": "3.13.7"
  }
 },
 "nbformat": 4,
 "nbformat_minor": 5
}
