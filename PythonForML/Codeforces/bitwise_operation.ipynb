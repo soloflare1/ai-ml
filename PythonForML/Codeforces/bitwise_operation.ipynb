{
 "cells": [
  {
   "cell_type": "code",
   "execution_count": null,
   "id": "5f551570",
   "metadata": {},
   "outputs": [],
   "source": [
    "    # int testcase; cin >> testcase; \n",
    "    # while(testcase--){\n",
    "        \n",
    "    #     int x,y,z; cin >> x >> y >> z;\n",
    "    #     int a = x & y;\n",
    "    #     int b = y & z;\n",
    "    #     int c = z & x;\n",
    "       \n",
    "    #     (a == b && b == c) ? yes : no;\n",
    "\n",
    "    # }"
   ]
  },
  {
   "cell_type": "code",
   "execution_count": null,
   "id": "05151f94",
   "metadata": {},
   "outputs": [],
   "source": [
    "testcase = int(input())\n",
    " \n",
    "while(testcase):\n",
    "    \n",
    "    x,y,z = map(int, input().split())\n",
    "    a = x & y;  b = y & z;  c = z & x\n",
    "    \n",
    "    if a == b and b == c: \n",
    "        print(\"YES\") \n",
    "    else: \n",
    "        print(\"NO\")\n",
    "\n",
    "    testcase -= 1\n",
    "    "
   ]
  }
 ],
 "metadata": {
  "language_info": {
   "name": "python"
  }
 },
 "nbformat": 4,
 "nbformat_minor": 5
}
