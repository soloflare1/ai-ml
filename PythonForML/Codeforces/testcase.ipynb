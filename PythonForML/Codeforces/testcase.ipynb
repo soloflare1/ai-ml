{
 "cells": [
  {
   "cell_type": "markdown",
   "id": "a8707540",
   "metadata": {},
   "source": []
  },
  {
   "cell_type": "markdown",
   "id": "9cc5b81d",
   "metadata": {},
   "source": [
    "Candies for Nephews:\n",
    "\n",
    "Monocarp has three nephews. New Year is coming, and Monocarp has n\n",
    "candies that he will gift to his nephews.\n",
    "\n",
    "To ensure that none of the nephews feels left out, Monokarp wants to give each of the three nephews the same number of candies.\n",
    "\n",
    "Determine the minimum number of candies that Monocarp needs to buy additionally so that he can give each of the three nephews the same number of candies. Note that all n\n",
    " candies that Monocarp initially has will be given to the nephews."
   ]
  },
  {
   "cell_type": "code",
   "execution_count": null,
   "id": "284733e7",
   "metadata": {},
   "outputs": [],
   "source": [
    "testcase = int(input())\n",
    "\n",
    "while (testcase):\n",
    "    \n",
    "    n = int(input());  rest = n % 3\n",
    "\n",
    "    if rest == 0:\n",
    "        print(rest)\n",
    "    else:\n",
    "        print(3 - rest)\n",
    "        \n",
    "    testcase -= 1"
   ]
  }
 ],
 "metadata": {
  "language_info": {
   "name": "python"
  }
 },
 "nbformat": 4,
 "nbformat_minor": 5
}
