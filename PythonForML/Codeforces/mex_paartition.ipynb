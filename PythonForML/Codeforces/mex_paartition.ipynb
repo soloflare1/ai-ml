{
 "cells": [
  {
   "cell_type": "code",
   "execution_count": null,
   "id": "3583a7cf",
   "metadata": {},
   "outputs": [
    {
     "name": "stdout",
     "output_type": "stream",
     "text": [
      "0\n"
     ]
    }
   ],
   "source": [
    "\n",
    "# MEX stands for Minimum EXcluded number.\n",
    "# MEX of a set or list of non-negative integers (mane 0, 1, 2, ...)\n",
    "# The smallest non-negative integer (starting from 0) \n",
    "# that is not present in a given list or set\n",
    "\n",
    "\n",
    "# https://codeforces.com/contest/2min160/problem/A\n",
    "testcase = int(input())\n",
    "\n",
    "while(testcase):\n",
    "    s=int(input())\n",
    "    n = map(int,input().split())\n",
    "    num = set(n)\n",
    "    \n",
    "    # print(num)\n",
    "    mex=0\n",
    "    while(mex in num):\n",
    "        mex += 1\n",
    "    \n",
    "    testcase -= 1\n",
    "    \n",
    "    print(mex)"
   ]
  }
 ],
 "metadata": {
  "kernelspec": {
   "display_name": "Python 3",
   "language": "python",
   "name": "python3"
  },
  "language_info": {
   "codemirror_mode": {
    "name": "ipython",
    "version": 3
   },
   "file_extension": ".py",
   "mimetype": "text/x-python",
   "name": "python",
   "nbconvert_exporter": "python",
   "pygments_lexer": "ipython3",
   "version": "3.13.7"
  }
 },
 "nbformat": 4,
 "nbformat_minor": 5
}
