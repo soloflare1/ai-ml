{
 "cells": [
  {
   "cell_type": "markdown",
   "id": "4e21a796",
   "metadata": {},
   "source": [
    "## Problem : F. Digits Summation"
   ]
  },
  {
   "cell_type": "markdown",
   "id": "6c0e173b",
   "metadata": {},
   "source": [
    "here x,y string hisebe asbe like 12 13\n"
   ]
  },
  {
   "cell_type": "code",
   "execution_count": 2,
   "id": "11cdca73",
   "metadata": {},
   "outputs": [
    {
     "name": "stdout",
     "output_type": "stream",
     "text": [
      "6\n"
     ]
    }
   ],
   "source": [
    "x = int(input())\n",
    "y = int(input())\n",
    "\n",
    "last_digit_of_x = x % 10\n",
    "last_digit_of_y = y % 10\n",
    "\n",
    "sum = last_digit_of_x + last_digit_of_y\n",
    "\n",
    "print(sum)"
   ]
  },
  {
   "cell_type": "code",
   "execution_count": 7,
   "id": "2b7cebf7",
   "metadata": {},
   "outputs": [
    {
     "name": "stdout",
     "output_type": "stream",
     "text": [
      "5\n"
     ]
    }
   ],
   "source": [
    "n = input()\n",
    "lst = n.split()   \n",
    "# as list ['13', '12']\n",
    "# so lst[0] =  13  & lst[1] = 12\n",
    "# but still str, so need casting\n",
    "\n",
    "x = int(lst[0])\n",
    "y = int(lst[1])\n",
    "\n",
    "last_digit_of_x = x % 10\n",
    "last_digit_of_y = y % 10\n",
    "\n",
    "sum = last_digit_of_x + last_digit_of_y\n",
    "\n",
    "print(sum)"
   ]
  },
  {
   "cell_type": "code",
   "execution_count": 9,
   "id": "9aa37c65",
   "metadata": {},
   "outputs": [
    {
     "name": "stdout",
     "output_type": "stream",
     "text": [
      "3\n",
      "3.5\n"
     ]
    }
   ],
   "source": [
    "print(7 // 2)\n",
    "print(7 / 2)"
   ]
  }
 ],
 "metadata": {
  "kernelspec": {
   "display_name": "Python 3",
   "language": "python",
   "name": "python3"
  },
  "language_info": {
   "codemirror_mode": {
    "name": "ipython",
    "version": 3
   },
   "file_extension": ".py",
   "mimetype": "text/x-python",
   "name": "python",
   "nbconvert_exporter": "python",
   "pygments_lexer": "ipython3",
   "version": "3.13.7"
  }
 },
 "nbformat": 4,
 "nbformat_minor": 5
}
