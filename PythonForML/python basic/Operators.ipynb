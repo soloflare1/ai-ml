{
 "cells": [
  {
   "cell_type": "markdown",
   "id": "72d08501",
   "metadata": {},
   "source": [
    "if we write more than 1 statement in 1 line then must add \";\""
   ]
  },
  {
   "cell_type": "code",
   "execution_count": 1,
   "id": "c8f27903",
   "metadata": {},
   "outputs": [
    {
     "name": "stdout",
     "output_type": "stream",
     "text": [
      "73 -53 9860 0.3448275862068966 10\n"
     ]
    }
   ],
   "source": [
    "x = 10; y = 29; z = 34\n",
    "\n",
    "sum = x+y+z\n",
    "sub = x-y-z\n",
    "mult = x*y*z\n",
    "div = x/y\n",
    "rem = x % y\n",
    "print(sum, sub, mult, div, rem)"
   ]
  },
  {
   "cell_type": "markdown",
   "id": "99f18239",
   "metadata": {},
   "source": [
    "## Comparison operator \n",
    "(return either true or false value) (<, >, <=, >=, ==)"
   ]
  },
  {
   "cell_type": "code",
   "execution_count": 2,
   "id": "4c1619f9",
   "metadata": {},
   "outputs": [
    {
     "name": "stdout",
     "output_type": "stream",
     "text": [
      "True True\n"
     ]
    }
   ],
   "source": [
    "x = 20; y = 10\n",
    "\n",
    "boro = x > y\n",
    "boro_soman = 10 >= 10\n",
    "\n",
    "print(boro, boro_soman)"
   ]
  },
  {
   "cell_type": "markdown",
   "id": "d06558d2",
   "metadata": {},
   "source": [
    "## Logical Operator (return true/false) (and,or)"
   ]
  },
  {
   "cell_type": "code",
   "execution_count": 3,
   "id": "c237260c",
   "metadata": {},
   "outputs": [
    {
     "name": "stdout",
     "output_type": "stream",
     "text": [
      "True\n"
     ]
    }
   ],
   "source": [
    "x = 10; y = 5; z = 3\n",
    "\n",
    "res = (x > y) and (x > 2)\n",
    "print(res)"
   ]
  },
  {
   "cell_type": "markdown",
   "id": "624a96d8",
   "metadata": {},
   "source": [
    "## Precendence & Associativity\n"
   ]
  },
  {
   "cell_type": "markdown",
   "id": "d8db58a4",
   "metadata": {},
   "source": [
    "\n",
    "Higher Precendence :  /, * \n",
    "--\n",
    "Lower Precendence : +, -\n",
    "--\n",
    "same Precendence : left to right\n",
    "--\n",
    "\n",
    "eq = 10 + 10/2 - 5*2\n",
    "--\n",
    "l-> r\n",
    "10 \n",
    "10/2 = 5\n",
    "5*2\n",
    "so, 10 + 5 - 10\n",
    "--\n",
    "l-> r\n",
    "15 - 10\n",
    "\n",
    "so kono kaj age korte hole () use kora lagbe nahoy precendence onujayi hobe\n",
    "\n"
   ]
  },
  {
   "cell_type": "code",
   "execution_count": 5,
   "id": "e22e901f",
   "metadata": {},
   "outputs": [
    {
     "name": "stdout",
     "output_type": "stream",
     "text": [
      "5.0\n",
      "0.0\n"
     ]
    }
   ],
   "source": [
    "eq = 10 + 10/2 - 5*2\n",
    "eq1 = (10 + 10)/2 - 5*2\n",
    "print(eq)\n",
    "print(eq1)"
   ]
  },
  {
   "cell_type": "markdown",
   "id": "1f21285c",
   "metadata": {},
   "source": [
    "In Python, the operator precedence from highest to lowest (among the ones listed) is:\n",
    "\n",
    "not > == > and > or"
   ]
  },
  {
   "cell_type": "code",
   "execution_count": null,
   "id": "a7cbe6ba",
   "metadata": {},
   "outputs": [],
   "source": []
  },
  {
   "cell_type": "code",
   "execution_count": null,
   "id": "b28c34d6",
   "metadata": {},
   "outputs": [],
   "source": []
  },
  {
   "cell_type": "code",
   "execution_count": null,
   "id": "6165ae51",
   "metadata": {},
   "outputs": [],
   "source": []
  },
  {
   "cell_type": "code",
   "execution_count": null,
   "id": "dffea333",
   "metadata": {},
   "outputs": [],
   "source": []
  },
  {
   "cell_type": "code",
   "execution_count": null,
   "id": "926b26e7",
   "metadata": {},
   "outputs": [],
   "source": []
  },
  {
   "cell_type": "code",
   "execution_count": null,
   "id": "e95a9a49",
   "metadata": {},
   "outputs": [],
   "source": []
  },
  {
   "cell_type": "code",
   "execution_count": null,
   "id": "ff2933b8",
   "metadata": {},
   "outputs": [],
   "source": []
  },
  {
   "cell_type": "code",
   "execution_count": null,
   "id": "9e0da56c",
   "metadata": {},
   "outputs": [],
   "source": []
  },
  {
   "cell_type": "code",
   "execution_count": null,
   "id": "4a37b318",
   "metadata": {},
   "outputs": [],
   "source": []
  },
  {
   "cell_type": "code",
   "execution_count": null,
   "id": "c57e80ef",
   "metadata": {},
   "outputs": [],
   "source": []
  },
  {
   "cell_type": "code",
   "execution_count": null,
   "id": "d3e3945a",
   "metadata": {},
   "outputs": [],
   "source": []
  },
  {
   "cell_type": "markdown",
   "id": "bbcf76ad",
   "metadata": {},
   "source": []
  }
 ],
 "metadata": {
  "kernelspec": {
   "display_name": "Python 3",
   "language": "python",
   "name": "python3"
  },
  "language_info": {
   "codemirror_mode": {
    "name": "ipython",
    "version": 3
   },
   "file_extension": ".py",
   "mimetype": "text/x-python",
   "name": "python",
   "nbconvert_exporter": "python",
   "pygments_lexer": "ipython3",
   "version": "3.13.7"
  }
 },
 "nbformat": 4,
 "nbformat_minor": 5
}
