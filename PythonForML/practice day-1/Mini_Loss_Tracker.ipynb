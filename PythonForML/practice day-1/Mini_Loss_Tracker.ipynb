{
 "cells": [
  {
   "cell_type": "code",
   "execution_count": null,
   "id": "a77d295b",
   "metadata": {},
   "outputs": [
    {
     "name": "stdout",
     "output_type": "stream",
     "text": [
      "PASS\n"
     ]
    }
   ],
   "source": [
    "# Your tiny trainer reports a stream of loss values. Read how many values to process, then read that many losses and compute the average. If the average loss is ≤ target, print PASS; otherwise print RETRY.\n",
    "\n",
    "# Input Format\n",
    "\n",
    "# First line: an integer N (how many losses) Second line: a real number target Next N lines: each a real number loss_i\n",
    "n = int(input())\n",
    "cnt = n\n",
    "\n",
    "target = float(input())\n",
    "sum = 0.0\n",
    "\n",
    "while(n):\n",
    "    loss = float(input())\n",
    "    sum += loss\n",
    "    n -= 1\n",
    "    \n",
    "average = (sum/cnt)\n",
    "if(average <= target):\n",
    "    print(\"PASS\")\n",
    "else:\n",
    "    print(\"RETRY\")"
   ]
  }
 ],
 "metadata": {
  "kernelspec": {
   "display_name": "Python 3",
   "language": "python",
   "name": "python3"
  },
  "language_info": {
   "codemirror_mode": {
    "name": "ipython",
    "version": 3
   },
   "file_extension": ".py",
   "mimetype": "text/x-python",
   "name": "python",
   "nbconvert_exporter": "python",
   "pygments_lexer": "ipython3",
   "version": "3.13.7"
  }
 },
 "nbformat": 4,
 "nbformat_minor": 5
}
