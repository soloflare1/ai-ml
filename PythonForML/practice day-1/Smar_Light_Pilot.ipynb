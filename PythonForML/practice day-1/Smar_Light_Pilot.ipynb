{
 "cells": [
  {
   "cell_type": "code",
   "execution_count": null,
   "id": "5ace77ba",
   "metadata": {},
   "outputs": [],
   "source": [
    "# Your lab is prototyping a Smart\n",
    "# Light that turns on only when the room is bright enough. You are given two real numbers: the current brightness and a threshold. If brightness ≥ threshold, print ON; otherwise print OFF."
   ]
  },
  {
   "cell_type": "markdown",
   "id": "4a2d820c",
   "metadata": {},
   "source": [
    "# way1\n"
   ]
  },
  {
   "cell_type": "code",
   "execution_count": null,
   "id": "2ab759a8",
   "metadata": {},
   "outputs": [],
   "source": []
  },
  {
   "cell_type": "code",
   "execution_count": 4,
   "id": "091e37ce",
   "metadata": {},
   "outputs": [
    {
     "name": "stdout",
     "output_type": "stream",
     "text": [
      "ON\n"
     ]
    }
   ],
   "source": [
    "b, t = input().split()\n",
    "\n",
    "b = float(b)\n",
    "t = float(t)\n",
    "if b >= t :\n",
    "    print(\"ON\")\n",
    "else:\n",
    "     print(\"OFF\")"
   ]
  },
  {
   "cell_type": "markdown",
   "id": "65726075",
   "metadata": {},
   "source": [
    "# way2"
   ]
  },
  {
   "cell_type": "code",
   "execution_count": 2,
   "id": "637197e1",
   "metadata": {},
   "outputs": [
    {
     "name": "stdout",
     "output_type": "stream",
     "text": [
      "ON\n"
     ]
    }
   ],
   "source": [
    "brightness, threshold = map(float, input().split())\n",
    "\n",
    "if brightness >= threshold:\n",
    "    print(\"ON\")\n",
    "else:\n",
    "     print(\"OFF\")"
   ]
  },
  {
   "cell_type": "markdown",
   "id": "a3d71731",
   "metadata": {},
   "source": [
    "# way3"
   ]
  },
  {
   "cell_type": "code",
   "execution_count": 3,
   "id": "e9dd14a8",
   "metadata": {},
   "outputs": [
    {
     "name": "stdout",
     "output_type": "stream",
     "text": [
      "ON\n"
     ]
    }
   ],
   "source": [
    "brightness, threshold = input().split()\n",
    "\n",
    "if float(brightness) >= float(threshold):\n",
    "    print(\"ON\")\n",
    "else:\n",
    "     print(\"OFF\")\n"
   ]
  }
 ],
 "metadata": {
  "kernelspec": {
   "display_name": "Python 3",
   "language": "python",
   "name": "python3"
  },
  "language_info": {
   "codemirror_mode": {
    "name": "ipython",
    "version": 3
   },
   "file_extension": ".py",
   "mimetype": "text/x-python",
   "name": "python",
   "nbconvert_exporter": "python",
   "pygments_lexer": "ipython3",
   "version": "3.13.7"
  }
 },
 "nbformat": 4,
 "nbformat_minor": 5
}
