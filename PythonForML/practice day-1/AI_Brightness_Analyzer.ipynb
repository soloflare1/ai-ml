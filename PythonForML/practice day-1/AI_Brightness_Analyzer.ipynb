{
 "cells": [
  {
   "cell_type": "code",
   "execution_count": null,
   "id": "331fa572",
   "metadata": {},
   "outputs": [],
   "source": [
    "# AI systems often analyze images by looking at the brightness of pixels. Each pixel has a brightness value, usually between 0 (dark) and 255 (bright). Let's simulate this concept!\n",
    "\n",
    "# You are given a list of integers representing pixel brightness values. Your task is to find the average brightness and decide whether the image is Dark, Normal, or Bright.\n",
    "\n",
    "# If the average brightness < 85 → print Dark Image\n",
    "# If 85 ≤ average brightness ≤ 170 → print Normal Image\n",
    "# If average brightness > 170 → print Bright Image"
   ]
  },
  {
   "cell_type": "code",
   "execution_count": null,
   "id": "38c13383",
   "metadata": {},
   "outputs": [],
   "source": [
    "lst = input().split()\n",
    "\n",
    "n = len(lst)\n",
    "\n",
    "sum = 0\n",
    "for i in range(n):\n",
    "    sum += int(lst[i])\n",
    "    \n",
    "average = (sum)/n\n",
    "\n",
    "\n",
    "if average  < 85:\n",
    "    print (\"Dark Image\")\n",
    "elif 85 <= average and  average <= 170:\n",
    "    print (\"Normal Image\")\n",
    "elif average > 170:\n",
    "    print (\"Bright Image\")"
   ]
  },
  {
   "cell_type": "code",
   "execution_count": null,
   "id": "4bd21284",
   "metadata": {},
   "outputs": [],
   "source": []
  }
 ],
 "metadata": {
  "language_info": {
   "name": "python"
  }
 },
 "nbformat": 4,
 "nbformat_minor": 5
}
