{
 "cells": [
  {
   "cell_type": "code",
   "execution_count": null,
   "id": "e6f9ccab",
   "metadata": {},
   "outputs": [],
   "source": [
    "# You’re calibrating a tiny sensor before training a model. Given x, min_v, and max_v, compute:\n",
    "\n",
    "# norm = (x - min_v) / (max_v - min_v)\n",
    "# Then print norm with 2 decimal places.\n",
    "\n",
    "# New concept — Feature scaling\n",
    "\n",
    "# Models learn better when inputs share similar scales; min–max transform values into [0, 1] using a equation"
   ]
  },
  {
   "cell_type": "code",
   "execution_count": 7,
   "id": "36cecfcd",
   "metadata": {},
   "outputs": [
    {
     "name": "stdout",
     "output_type": "stream",
     "text": [
      "0.00\n"
     ]
    }
   ],
   "source": [
    "x, min_v, max_v = map(float, input().split())   # real number, so float\n",
    "\n",
    "norm = (x - min_v) / (max_v - min_v)\n",
    "\n",
    "\n",
    "# f\"\" tells Python it's a formatted string.\n",
    "# {norm:.2f} formats the number to 2 decimal places as a float.\n",
    "# Use .2f instead of .2 — the 'f' means fixed-point notation (i.e., exactly 2 digits after the decimal point):\n",
    "\n",
    "# print(f\"{norm:.2}\")\n",
    "print(f\"{norm:.2f}\")\n",
    "\n"
   ]
  },
  {
   "cell_type": "code",
   "execution_count": 6,
   "id": "a3723562",
   "metadata": {},
   "outputs": [
    {
     "name": "stdout",
     "output_type": "stream",
     "text": [
      "0.00\n"
     ]
    }
   ],
   "source": [
    "x, min_v, max_v = input().split()  # real number, so float\n",
    "\n",
    "x = float(x)\n",
    "min_v = float(min_v)\n",
    "max_v = float(max_v)\n",
    "\n",
    "norm = (x - min_v) / (max_v - min_v)\n",
    "\n",
    "print(f\"{norm:.2f}\")\n",
    "\n"
   ]
  }
 ],
 "metadata": {
  "kernelspec": {
   "display_name": "Python 3",
   "language": "python",
   "name": "python3"
  },
  "language_info": {
   "codemirror_mode": {
    "name": "ipython",
    "version": 3
   },
   "file_extension": ".py",
   "mimetype": "text/x-python",
   "name": "python",
   "nbconvert_exporter": "python",
   "pygments_lexer": "ipython3",
   "version": "3.13.7"
  }
 },
 "nbformat": 4,
 "nbformat_minor": 5
}
