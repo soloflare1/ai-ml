{
 "cells": [
  {
   "cell_type": "code",
   "execution_count": null,
   "id": "045c7673",
   "metadata": {},
   "outputs": [],
   "source": [
    "# You’re simulating an ensemble of mini-models that each vote YES or NO on admitting a user. Read how many votes there are, then read each vote. If the number of YES votes is greater than or equal to the number of NO votes, print ACCEPT; otherwise print REJECT.\n",
    "\n",
    "# New concept — Ensemble majority voting\n",
    "\n",
    "# Several weak opinions can combine into one stronger decision."
   ]
  },
  {
   "cell_type": "code",
   "execution_count": null,
   "id": "be66302c",
   "metadata": {},
   "outputs": [],
   "source": [
    "n = int(input())\n",
    "\n",
    "YES_count = 0\n",
    "NO_count = 0\n",
    "\n",
    "while(n):\n",
    "    opinion = input()\n",
    "    \n",
    "    if(opinion == 'YES'):\n",
    "        YES_count += 1\n",
    "    else:\n",
    "        NO_count += 1\n",
    "   \n",
    "    n -= 1\n",
    "    \n",
    "    \n",
    "if(YES_count >= NO_count):\n",
    "    print(\"ACCEPT\")\n",
    "else:\n",
    "    print(\"REJECT\")"
   ]
  }
 ],
 "metadata": {
  "language_info": {
   "name": "python"
  }
 },
 "nbformat": 4,
 "nbformat_minor": 5
}
