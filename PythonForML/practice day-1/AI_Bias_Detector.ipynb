{
 "cells": [
  {
   "cell_type": "code",
   "execution_count": null,
   "id": "f3b92157",
   "metadata": {},
   "outputs": [],
   "source": [
    "# In AI, bias means the model might favor one category more than others. Let’s simulate this idea with lists and conditional logic!\n",
    "\n",
    "# You are given a list of predictions made by an AI model. Each prediction is either 'A' or 'B'.\n",
    "\n",
    "# Your task is to check whether the model is biased or fair:\n",
    "\n",
    "# If the count of 'A' or 'B' is more than 70% of all predictions, print Biased Model.\n",
    "# Otherwise, print Fair Model."
   ]
  },
  {
   "cell_type": "code",
   "execution_count": null,
   "id": "ba4e2931",
   "metadata": {},
   "outputs": [],
   "source": [
    "string = input()\n",
    "char = string.split()\n",
    "# char = input().split()\n",
    "\n",
    "total = len(char)\n",
    "\n",
    "countA = 0\n",
    "countB = 0\n",
    "\n",
    "for c in char:\n",
    "    if c == 'A':\n",
    "        countA += 1\n",
    "    elif c == 'B':\n",
    "        countB += 1\n",
    "\n",
    "if countA > (70/100) * total or countB > (70/100) * total:\n",
    "# if countA > 0.7 * total or countB > 0.7 * total:\n",
    "    print(\"Biased Model\")\n",
    "else:\n",
    "    print(\"Fair Model\")\n",
    "    "
   ]
  }
 ],
 "metadata": {
  "language_info": {
   "name": "python"
  }
 },
 "nbformat": 4,
 "nbformat_minor": 5
}
