{
 "cells": [
  {
   "cell_type": "code",
   "execution_count": null,
   "id": "4a14ba10",
   "metadata": {},
   "outputs": [],
   "source": [
    "# AI systems often scan user messages to find keywords and understand intent. Let’s build a simple version of that!\n",
    "\n",
    "# You are given a user's message and a list of AI-related keywords. Your task is to count how many of those keywords appear in the message.\n",
    "\n",
    "# The keywords to look for are:\n",
    "\n",
    "# ai, data, model, learn, train, neural\n",
    "\n",
    "# If 2 or more keywords are found, print AI Detected. Otherwise, print Not AI Related.\n",
    "# user_message = input()\n",
    "# words = user_message.split()\n",
    "\n",
    "count = 0\n",
    "for w in words:\n",
    "    if w == \"ai\" or w == \"data\" or w == \"model\" or w == \"learn\" or w == \"train\" or w == \"neural\":\n",
    "        count += 1\n",
    "        \n",
    "if count >= 2:\n",
    "    print (\"AI Detected\")\n",
    "else:\n",
    "    print (\"Not AI Related\")\n",
    "    \n"
   ]
  }
 ],
 "metadata": {
  "language_info": {
   "name": "python"
  }
 },
 "nbformat": 4,
 "nbformat_minor": 5
}
