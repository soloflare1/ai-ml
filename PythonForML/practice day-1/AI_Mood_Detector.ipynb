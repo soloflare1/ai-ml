{
 "cells": [
  {
   "cell_type": "code",
   "execution_count": null,
   "id": "d7036056",
   "metadata": {},
   "outputs": [],
   "source": [
    "# In real AI systems, mood detection uses natural language processing (NLP) to understand emotions from text. For now, let's simulate a mini version of that!\n",
    "\n",
    "# You are given a sentence that represents a user's message. Your job is to guess if the mood is happy, sad, or neutral using simple logic:\n",
    "\n",
    "# If the message contains words like happy, joy, or smile, print Happy Mood.\n",
    "# If it contains words like sad, cry, or angry, print Sad Mood.\n",
    "# Otherwise, print Neutral Mood."
   ]
  },
  {
   "cell_type": "code",
   "execution_count": null,
   "id": "10d3d647",
   "metadata": {},
   "outputs": [],
   "source": [
    "message = input()\n",
    "words = message.split()\n",
    "\n",
    "# words_count = len(words)\n",
    "find = False\n",
    "\n",
    "for i in words:\n",
    "    if i == 'happy' or i == 'joy' or i == 'smile':\n",
    "        mood = \"Happy Mood\"\n",
    "        find = True\n",
    "        break\n",
    "    elif i == 'sad' or i == 'cry' or i == 'angry':\n",
    "        mood = \"Sad Mood\"\n",
    "        find = True\n",
    "        break\n",
    "        \n",
    "if find == True:\n",
    "    print(mood)\n",
    "else:\n",
    "    print(\"Neutral Mood\")\n",
    "    \n"
   ]
  },
  {
   "cell_type": "code",
   "execution_count": null,
   "id": "ad415975",
   "metadata": {},
   "outputs": [],
   "source": []
  }
 ],
 "metadata": {
  "language_info": {
   "name": "python"
  }
 },
 "nbformat": 4,
 "nbformat_minor": 5
}
