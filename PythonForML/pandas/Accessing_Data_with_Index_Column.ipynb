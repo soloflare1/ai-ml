{
 "cells": [
  {
   "cell_type": "code",
   "execution_count": 2,
   "id": "6e738610",
   "metadata": {},
   "outputs": [],
   "source": [
    "import pandas as pd\n",
    "\n",
    "df = pd.read_csv('student_data.csv')"
   ]
  },
  {
   "cell_type": "markdown",
   "id": "f6971d8a",
   "metadata": {},
   "source": [
    "Accessing column (series)"
   ]
  },
  {
   "cell_type": "code",
   "execution_count": 4,
   "id": "55dbd2ba",
   "metadata": {},
   "outputs": [
    {
     "data": {
      "text/plain": [
       "0          Alif Rahman\n",
       "1        Fatima Akhter\n",
       "2        Imran Hossain\n",
       "3     Jannatul Ferdous\n",
       "4          Kamal Uddin\n",
       "5          Laila Begum\n",
       "6       Mahmudul Hasan\n",
       "7          Nadia Islam\n",
       "8           Omar Faruq\n",
       "9         Priya Sharma\n",
       "10        Rahim Sheikh\n",
       "11     Sadia Chowdhury\n",
       "12        Tanvir Ahmed\n",
       "13          Urmi Akter\n",
       "14        Wahiduzzaman\n",
       "15        Ziaur Rahman\n",
       "16         Afsana Mimi\n",
       "17         Babul Ahmed\n",
       "18        Faria Rahman\n",
       "19          Nasir Khan\n",
       "Name: FullName, dtype: object"
      ]
     },
     "execution_count": 4,
     "metadata": {},
     "output_type": "execute_result"
    }
   ],
   "source": [
    "df['FullName']"
   ]
  },
  {
   "cell_type": "markdown",
   "id": "7c34d139",
   "metadata": {},
   "source": [
    "loc(), "
   ]
  },
  {
   "cell_type": "code",
   "execution_count": null,
   "id": "cd8c7742",
   "metadata": {},
   "outputs": [
    {
     "data": {
      "text/plain": [
       "StudentID                    PH1001\n",
       "FullName                Alif Rahman\n",
       "Data Structure Marks           85.0\n",
       "Algorithm Marks                85.0\n",
       "Python Marks                   88.0\n",
       "CompletionStatus          Completed\n",
       "EnrollmentDate           2024-01-15\n",
       "Instructor                Mr. Karim\n",
       "Location                      Dhaka\n",
       "Name: 0, dtype: object"
      ]
     },
     "execution_count": 5,
     "metadata": {},
     "output_type": "execute_result"
    }
   ],
   "source": [
    "# loc[ row( index ), column(features) ]\n",
    "# df.loc[start:end, col_start, col_end]\n",
    "\n",
    "#  single row(series)\n",
    "df.loc[0]"
   ]
  },
  {
   "cell_type": "markdown",
   "id": "ce7c9227",
   "metadata": {},
   "source": [
    "multiple row (normal list)"
   ]
  },
  {
   "cell_type": "code",
   "execution_count": 6,
   "id": "598d9d58",
   "metadata": {},
   "outputs": [
    {
     "data": {
      "text/html": [
       "<div>\n",
       "<style scoped>\n",
       "    .dataframe tbody tr th:only-of-type {\n",
       "        vertical-align: middle;\n",
       "    }\n",
       "\n",
       "    .dataframe tbody tr th {\n",
       "        vertical-align: top;\n",
       "    }\n",
       "\n",
       "    .dataframe thead th {\n",
       "        text-align: right;\n",
       "    }\n",
       "</style>\n",
       "<table border=\"1\" class=\"dataframe\">\n",
       "  <thead>\n",
       "    <tr style=\"text-align: right;\">\n",
       "      <th></th>\n",
       "      <th>StudentID</th>\n",
       "      <th>FullName</th>\n",
       "      <th>Data Structure Marks</th>\n",
       "      <th>Algorithm Marks</th>\n",
       "      <th>Python Marks</th>\n",
       "      <th>CompletionStatus</th>\n",
       "      <th>EnrollmentDate</th>\n",
       "      <th>Instructor</th>\n",
       "      <th>Location</th>\n",
       "    </tr>\n",
       "  </thead>\n",
       "  <tbody>\n",
       "    <tr>\n",
       "      <th>2</th>\n",
       "      <td>PH1003</td>\n",
       "      <td>Imran Hossain</td>\n",
       "      <td>88.0</td>\n",
       "      <td>88.0</td>\n",
       "      <td>85.0</td>\n",
       "      <td>Completed</td>\n",
       "      <td>2024-02-10</td>\n",
       "      <td>Mr. Karim</td>\n",
       "      <td>Dhaka</td>\n",
       "    </tr>\n",
       "    <tr>\n",
       "      <th>3</th>\n",
       "      <td>PH1004</td>\n",
       "      <td>Jannatul Ferdous</td>\n",
       "      <td>78.0</td>\n",
       "      <td>78.0</td>\n",
       "      <td>82.0</td>\n",
       "      <td>Completed</td>\n",
       "      <td>2024-02-12</td>\n",
       "      <td>Ms. Salma</td>\n",
       "      <td>Sylhet</td>\n",
       "    </tr>\n",
       "    <tr>\n",
       "      <th>19</th>\n",
       "      <td>PH1020</td>\n",
       "      <td>Nasir Khan</td>\n",
       "      <td>86.0</td>\n",
       "      <td>86.0</td>\n",
       "      <td>89.0</td>\n",
       "      <td>Completed</td>\n",
       "      <td>2025-10-02</td>\n",
       "      <td>Ms. Salma</td>\n",
       "      <td>Dhaka</td>\n",
       "    </tr>\n",
       "  </tbody>\n",
       "</table>\n",
       "</div>"
      ],
      "text/plain": [
       "   StudentID          FullName  Data Structure Marks  Algorithm Marks  \\\n",
       "2     PH1003     Imran Hossain                  88.0             88.0   \n",
       "3     PH1004  Jannatul Ferdous                  78.0             78.0   \n",
       "19    PH1020        Nasir Khan                  86.0             86.0   \n",
       "\n",
       "    Python Marks CompletionStatus EnrollmentDate Instructor Location  \n",
       "2           85.0        Completed     2024-02-10  Mr. Karim    Dhaka  \n",
       "3           82.0        Completed     2024-02-12  Ms. Salma   Sylhet  \n",
       "19          89.0        Completed     2025-10-02  Ms. Salma    Dhaka  "
      ]
     },
     "execution_count": 6,
     "metadata": {},
     "output_type": "execute_result"
    }
   ],
   "source": [
    "df.loc[[2,3,19]]"
   ]
  },
  {
   "cell_type": "markdown",
   "id": "91bec2ea",
   "metadata": {},
   "source": [
    "multiple row (range)"
   ]
  },
  {
   "cell_type": "code",
   "execution_count": 7,
   "id": "9c77c0ee",
   "metadata": {},
   "outputs": [
    {
     "data": {
      "text/html": [
       "<div>\n",
       "<style scoped>\n",
       "    .dataframe tbody tr th:only-of-type {\n",
       "        vertical-align: middle;\n",
       "    }\n",
       "\n",
       "    .dataframe tbody tr th {\n",
       "        vertical-align: top;\n",
       "    }\n",
       "\n",
       "    .dataframe thead th {\n",
       "        text-align: right;\n",
       "    }\n",
       "</style>\n",
       "<table border=\"1\" class=\"dataframe\">\n",
       "  <thead>\n",
       "    <tr style=\"text-align: right;\">\n",
       "      <th></th>\n",
       "      <th>StudentID</th>\n",
       "      <th>FullName</th>\n",
       "      <th>Data Structure Marks</th>\n",
       "      <th>Algorithm Marks</th>\n",
       "      <th>Python Marks</th>\n",
       "      <th>CompletionStatus</th>\n",
       "      <th>EnrollmentDate</th>\n",
       "      <th>Instructor</th>\n",
       "      <th>Location</th>\n",
       "    </tr>\n",
       "  </thead>\n",
       "  <tbody>\n",
       "    <tr>\n",
       "      <th>3</th>\n",
       "      <td>PH1004</td>\n",
       "      <td>Jannatul Ferdous</td>\n",
       "      <td>78.0</td>\n",
       "      <td>78.0</td>\n",
       "      <td>82.0</td>\n",
       "      <td>Completed</td>\n",
       "      <td>2024-02-12</td>\n",
       "      <td>Ms. Salma</td>\n",
       "      <td>Sylhet</td>\n",
       "    </tr>\n",
       "    <tr>\n",
       "      <th>4</th>\n",
       "      <td>PH1005</td>\n",
       "      <td>Kamal Uddin</td>\n",
       "      <td>NaN</td>\n",
       "      <td>NaN</td>\n",
       "      <td>95.0</td>\n",
       "      <td>In Progress</td>\n",
       "      <td>2024-03-05</td>\n",
       "      <td>Mr. Karim</td>\n",
       "      <td>Chattogram</td>\n",
       "    </tr>\n",
       "    <tr>\n",
       "      <th>5</th>\n",
       "      <td>PH1006</td>\n",
       "      <td>Laila Begum</td>\n",
       "      <td>75.0</td>\n",
       "      <td>75.0</td>\n",
       "      <td>78.0</td>\n",
       "      <td>Completed</td>\n",
       "      <td>2024-03-08</td>\n",
       "      <td>Ms. Salma</td>\n",
       "      <td>Rajshahi</td>\n",
       "    </tr>\n",
       "    <tr>\n",
       "      <th>6</th>\n",
       "      <td>PH1007</td>\n",
       "      <td>Mahmudul Hasan</td>\n",
       "      <td>80.0</td>\n",
       "      <td>80.0</td>\n",
       "      <td>NaN</td>\n",
       "      <td>In Progress</td>\n",
       "      <td>2024-04-01</td>\n",
       "      <td>Mr. Karim</td>\n",
       "      <td>Dhaka</td>\n",
       "    </tr>\n",
       "    <tr>\n",
       "      <th>7</th>\n",
       "      <td>PH1008</td>\n",
       "      <td>Nadia Islam</td>\n",
       "      <td>81.0</td>\n",
       "      <td>81.0</td>\n",
       "      <td>85.0</td>\n",
       "      <td>Completed</td>\n",
       "      <td>2024-04-22</td>\n",
       "      <td>Ms. Salma</td>\n",
       "      <td>Chattogram</td>\n",
       "    </tr>\n",
       "  </tbody>\n",
       "</table>\n",
       "</div>"
      ],
      "text/plain": [
       "  StudentID          FullName  Data Structure Marks  Algorithm Marks  \\\n",
       "3    PH1004  Jannatul Ferdous                  78.0             78.0   \n",
       "4    PH1005       Kamal Uddin                   NaN              NaN   \n",
       "5    PH1006       Laila Begum                  75.0             75.0   \n",
       "6    PH1007    Mahmudul Hasan                  80.0             80.0   \n",
       "7    PH1008       Nadia Islam                  81.0             81.0   \n",
       "\n",
       "   Python Marks CompletionStatus EnrollmentDate Instructor    Location  \n",
       "3          82.0        Completed     2024-02-12  Ms. Salma      Sylhet  \n",
       "4          95.0      In Progress     2024-03-05  Mr. Karim  Chattogram  \n",
       "5          78.0        Completed     2024-03-08  Ms. Salma    Rajshahi  \n",
       "6           NaN      In Progress     2024-04-01  Mr. Karim       Dhaka  \n",
       "7          85.0        Completed     2024-04-22  Ms. Salma  Chattogram  "
      ]
     },
     "execution_count": 7,
     "metadata": {},
     "output_type": "execute_result"
    }
   ],
   "source": [
    "df.loc[3:7]"
   ]
  },
  {
   "cell_type": "markdown",
   "id": "0cb80bc2",
   "metadata": {},
   "source": [
    "# single column"
   ]
  },
  {
   "cell_type": "code",
   "execution_count": 8,
   "id": "6e03e725",
   "metadata": {},
   "outputs": [
    {
     "data": {
      "text/plain": [
       "0     88.0\n",
       "1      NaN\n",
       "2     85.0\n",
       "3     82.0\n",
       "4     95.0\n",
       "5     78.0\n",
       "6      NaN\n",
       "7     85.0\n",
       "8     76.0\n",
       "9     88.0\n",
       "10    91.0\n",
       "11    87.0\n",
       "12    79.0\n",
       "13     NaN\n",
       "14    84.0\n",
       "15     NaN\n",
       "16    93.0\n",
       "17    85.0\n",
       "18     NaN\n",
       "19    89.0\n",
       "Name: Python Marks, dtype: float64"
      ]
     },
     "execution_count": 8,
     "metadata": {},
     "output_type": "execute_result"
    }
   ],
   "source": [
    "df.loc[:, 'Python Marks']"
   ]
  },
  {
   "cell_type": "markdown",
   "id": "2577b1a9",
   "metadata": {},
   "source": [
    "# multiple column"
   ]
  },
  {
   "cell_type": "code",
   "execution_count": 12,
   "id": "d1d05c1e",
   "metadata": {},
   "outputs": [
    {
     "data": {
      "text/html": [
       "<div>\n",
       "<style scoped>\n",
       "    .dataframe tbody tr th:only-of-type {\n",
       "        vertical-align: middle;\n",
       "    }\n",
       "\n",
       "    .dataframe tbody tr th {\n",
       "        vertical-align: top;\n",
       "    }\n",
       "\n",
       "    .dataframe thead th {\n",
       "        text-align: right;\n",
       "    }\n",
       "</style>\n",
       "<table border=\"1\" class=\"dataframe\">\n",
       "  <thead>\n",
       "    <tr style=\"text-align: right;\">\n",
       "      <th></th>\n",
       "      <th>Python Marks</th>\n",
       "      <th>Algorithm Marks</th>\n",
       "    </tr>\n",
       "  </thead>\n",
       "  <tbody>\n",
       "    <tr>\n",
       "      <th>0</th>\n",
       "      <td>88.0</td>\n",
       "      <td>85.0</td>\n",
       "    </tr>\n",
       "    <tr>\n",
       "      <th>1</th>\n",
       "      <td>NaN</td>\n",
       "      <td>92.0</td>\n",
       "    </tr>\n",
       "    <tr>\n",
       "      <th>2</th>\n",
       "      <td>85.0</td>\n",
       "      <td>88.0</td>\n",
       "    </tr>\n",
       "    <tr>\n",
       "      <th>3</th>\n",
       "      <td>82.0</td>\n",
       "      <td>78.0</td>\n",
       "    </tr>\n",
       "    <tr>\n",
       "      <th>4</th>\n",
       "      <td>95.0</td>\n",
       "      <td>NaN</td>\n",
       "    </tr>\n",
       "    <tr>\n",
       "      <th>5</th>\n",
       "      <td>78.0</td>\n",
       "      <td>75.0</td>\n",
       "    </tr>\n",
       "    <tr>\n",
       "      <th>6</th>\n",
       "      <td>NaN</td>\n",
       "      <td>80.0</td>\n",
       "    </tr>\n",
       "    <tr>\n",
       "      <th>7</th>\n",
       "      <td>85.0</td>\n",
       "      <td>81.0</td>\n",
       "    </tr>\n",
       "    <tr>\n",
       "      <th>8</th>\n",
       "      <td>76.0</td>\n",
       "      <td>72.0</td>\n",
       "    </tr>\n",
       "    <tr>\n",
       "      <th>9</th>\n",
       "      <td>88.0</td>\n",
       "      <td>89.0</td>\n",
       "    </tr>\n",
       "    <tr>\n",
       "      <th>10</th>\n",
       "      <td>91.0</td>\n",
       "      <td>NaN</td>\n",
       "    </tr>\n",
       "    <tr>\n",
       "      <th>11</th>\n",
       "      <td>87.0</td>\n",
       "      <td>85.0</td>\n",
       "    </tr>\n",
       "    <tr>\n",
       "      <th>12</th>\n",
       "      <td>79.0</td>\n",
       "      <td>75.0</td>\n",
       "    </tr>\n",
       "    <tr>\n",
       "      <th>13</th>\n",
       "      <td>NaN</td>\n",
       "      <td>NaN</td>\n",
       "    </tr>\n",
       "    <tr>\n",
       "      <th>14</th>\n",
       "      <td>84.0</td>\n",
       "      <td>86.0</td>\n",
       "    </tr>\n",
       "    <tr>\n",
       "      <th>15</th>\n",
       "      <td>NaN</td>\n",
       "      <td>94.0</td>\n",
       "    </tr>\n",
       "    <tr>\n",
       "      <th>16</th>\n",
       "      <td>93.0</td>\n",
       "      <td>90.0</td>\n",
       "    </tr>\n",
       "    <tr>\n",
       "      <th>17</th>\n",
       "      <td>85.0</td>\n",
       "      <td>88.0</td>\n",
       "    </tr>\n",
       "    <tr>\n",
       "      <th>18</th>\n",
       "      <td>NaN</td>\n",
       "      <td>NaN</td>\n",
       "    </tr>\n",
       "    <tr>\n",
       "      <th>19</th>\n",
       "      <td>89.0</td>\n",
       "      <td>86.0</td>\n",
       "    </tr>\n",
       "  </tbody>\n",
       "</table>\n",
       "</div>"
      ],
      "text/plain": [
       "    Python Marks  Algorithm Marks\n",
       "0           88.0             85.0\n",
       "1            NaN             92.0\n",
       "2           85.0             88.0\n",
       "3           82.0             78.0\n",
       "4           95.0              NaN\n",
       "5           78.0             75.0\n",
       "6            NaN             80.0\n",
       "7           85.0             81.0\n",
       "8           76.0             72.0\n",
       "9           88.0             89.0\n",
       "10          91.0              NaN\n",
       "11          87.0             85.0\n",
       "12          79.0             75.0\n",
       "13           NaN              NaN\n",
       "14          84.0             86.0\n",
       "15           NaN             94.0\n",
       "16          93.0             90.0\n",
       "17          85.0             88.0\n",
       "18           NaN              NaN\n",
       "19          89.0             86.0"
      ]
     },
     "execution_count": 12,
     "metadata": {},
     "output_type": "execute_result"
    }
   ],
   "source": [
    "df.loc[:, ['Python Marks', 'Algorithm Marks']]\n",
    "\n",
    "# : means “select all rows”.\n",
    "# ['Python Marks', 'Algorithm Marks'] means “only these columns”.\n",
    "# This gives you a DataFrame showing just those two columns."
   ]
  },
  {
   "cell_type": "markdown",
   "id": "b1c5a89f",
   "metadata": {},
   "source": [
    "# row with column"
   ]
  },
  {
   "cell_type": "code",
   "execution_count": 10,
   "id": "0ed6bead",
   "metadata": {},
   "outputs": [
    {
     "data": {
      "text/plain": [
       "3      Completed\n",
       "4    In Progress\n",
       "5      Completed\n",
       "6    In Progress\n",
       "7      Completed\n",
       "Name: CompletionStatus, dtype: object"
      ]
     },
     "execution_count": 10,
     "metadata": {},
     "output_type": "execute_result"
    }
   ],
   "source": [
    "df.loc[3:7, 'CompletionStatus']"
   ]
  },
  {
   "cell_type": "code",
   "execution_count": null,
   "id": "81e7386a",
   "metadata": {},
   "outputs": [],
   "source": [
    " "
   ]
  }
 ],
 "metadata": {
  "kernelspec": {
   "display_name": "base",
   "language": "python",
   "name": "python3"
  },
  "language_info": {
   "codemirror_mode": {
    "name": "ipython",
    "version": 3
   },
   "file_extension": ".py",
   "mimetype": "text/x-python",
   "name": "python",
   "nbconvert_exporter": "python",
   "pygments_lexer": "ipython3",
   "version": "3.13.5"
  }
 },
 "nbformat": 4,
 "nbformat_minor": 5
}
