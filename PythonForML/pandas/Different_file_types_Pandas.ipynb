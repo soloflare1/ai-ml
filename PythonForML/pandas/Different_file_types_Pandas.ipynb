{
 "cells": [
  {
   "cell_type": "code",
   "execution_count": null,
   "id": "03926f5e",
   "metadata": {},
   "outputs": [],
   "source": [
    "# Different file types Pandas\n",
    "\n",
    "# real world data store : \n",
    "    \n",
    "#     txt \n",
    "#     csv (comma-separated values)\n",
    "#     excel (.xlsx)\n",
    "#     json (javascript object location file)\n",
    "#     Parquet file (like csv but faster)\n",
    "    \n",
    "    \n",
    "# the most common data format for ML is CSV"
   ]
  },
  {
   "cell_type": "code",
   "execution_count": 1,
   "id": "f8a82988",
   "metadata": {},
   "outputs": [],
   "source": [
    "import pandas as pd"
   ]
  },
  {
   "cell_type": "markdown",
   "id": "70cb8b4d",
   "metadata": {},
   "source": [
    "### different file loading in Pandas"
   ]
  },
  {
   "cell_type": "markdown",
   "id": "af5c259a",
   "metadata": {},
   "source": [
    "### CSV file"
   ]
  },
  {
   "cell_type": "code",
   "execution_count": null,
   "id": "8ff6206a",
   "metadata": {},
   "outputs": [
    {
     "name": "stdout",
     "output_type": "stream",
     "text": [
      "   StudentID          FullName  Data Structure Marks  Algorithm Marks  \\\n",
      "0     PH1001       Alif Rahman                  85.0             85.0   \n",
      "1     PH1002     Fatima Akhter                  92.0             92.0   \n",
      "2     PH1003     Imran Hossain                  88.0             88.0   \n",
      "3     PH1004  Jannatul Ferdous                  78.0             78.0   \n",
      "4     PH1005       Kamal Uddin                   NaN              NaN   \n",
      "5     PH1006       Laila Begum                  75.0             75.0   \n",
      "6     PH1007    Mahmudul Hasan                  80.0             80.0   \n",
      "7     PH1008       Nadia Islam                  81.0             81.0   \n",
      "8     PH1009        Omar Faruq                  72.0             72.0   \n",
      "9     PH1010      Priya Sharma                  89.0             89.0   \n",
      "10    PH1011      Rahim Sheikh                   NaN              NaN   \n",
      "11    PH1012   Sadia Chowdhury                  85.0             85.0   \n",
      "12    PH1013      Tanvir Ahmed                  75.0             75.0   \n",
      "13    PH1014        Urmi Akter                   NaN              NaN   \n",
      "14    PH1015      Wahiduzzaman                  86.0             86.0   \n",
      "15    PH1016      Ziaur Rahman                  94.0             94.0   \n",
      "16    PH1017       Afsana Mimi                  90.0             90.0   \n",
      "17    PH1018       Babul Ahmed                  88.0             88.0   \n",
      "18    PH1019      Faria Rahman                   NaN              NaN   \n",
      "19    PH1020        Nasir Khan                  86.0             86.0   \n",
      "\n",
      "    Python Marks CompletionStatus EnrollmentDate Instructor    Location  \n",
      "0           88.0        Completed     2024-01-15  Mr. Karim       Dhaka  \n",
      "1            NaN      In Progress     2024-01-20  Ms. Salma  Chattogram  \n",
      "2           85.0        Completed     2024-02-10  Mr. Karim       Dhaka  \n",
      "3           82.0        Completed     2024-02-12  Ms. Salma      Sylhet  \n",
      "4           95.0      In Progress     2024-03-05  Mr. Karim  Chattogram  \n",
      "5           78.0        Completed     2024-03-08  Ms. Salma    Rajshahi  \n",
      "6            NaN      In Progress     2024-04-01  Mr. Karim       Dhaka  \n",
      "7           85.0        Completed     2024-04-22  Ms. Salma  Chattogram  \n",
      "8           76.0        Completed     2024-05-16  Mr. David       Dhaka  \n",
      "9           88.0        Completed     2024-05-20  Ms. Salma      Sylhet  \n",
      "10          91.0      In Progress     2024-06-11  Mr. Karim      Khulna  \n",
      "11          87.0        Completed     2024-06-14  Ms. Salma  Chattogram  \n",
      "12          79.0        Completed     2024-07-02  Mr. David       Dhaka  \n",
      "13           NaN      Not Started     2024-07-09  Ms. Salma    Rajshahi  \n",
      "14          84.0        Completed     2024-08-18  Mr. Karim       Dhaka  \n",
      "15           NaN      In Progress     2024-08-21  Ms. Salma  Chattogram  \n",
      "16          93.0        Completed     2025-09-01  Mr. Karim       Dhaka  \n",
      "17          85.0        Completed     2025-09-05  Ms. Salma      Sylhet  \n",
      "18           NaN      Not Started     2025-09-15  Mr. David  Chattogram  \n",
      "19          89.0        Completed     2025-10-02  Ms. Salma       Dhaka  \n"
     ]
    }
   ],
   "source": [
    "\n",
    "csv_data = pd.read_csv('student_data.csv')\n",
    "print(csv_data)"
   ]
  },
  {
   "cell_type": "markdown",
   "id": "b244985e",
   "metadata": {},
   "source": [
    "### excel file"
   ]
  },
  {
   "cell_type": "code",
   "execution_count": 3,
   "id": "3b050e17",
   "metadata": {},
   "outputs": [
    {
     "name": "stdout",
     "output_type": "stream",
     "text": [
      "   StudentID          FullName  Data Structure Marks  Algorithm Marks  \\\n",
      "0     PH1001       Alif Rahman                  85.0             85.0   \n",
      "1     PH1002     Fatima Akhter                  92.0             92.0   \n",
      "2     PH1003     Imran Hossain                  88.0             88.0   \n",
      "3     PH1004  Jannatul Ferdous                  78.0             78.0   \n",
      "4     PH1005       Kamal Uddin                   NaN              NaN   \n",
      "5     PH1006       Laila Begum                  75.0             75.0   \n",
      "6     PH1007    Mahmudul Hasan                  80.0             80.0   \n",
      "7     PH1008       Nadia Islam                  81.0             81.0   \n",
      "8     PH1009        Omar Faruq                  72.0             72.0   \n",
      "9     PH1010      Priya Sharma                  89.0             89.0   \n",
      "10    PH1011      Rahim Sheikh                   NaN              NaN   \n",
      "11    PH1012   Sadia Chowdhury                  85.0             85.0   \n",
      "12    PH1013      Tanvir Ahmed                  75.0             75.0   \n",
      "13    PH1014        Urmi Akter                   NaN              NaN   \n",
      "14    PH1015      Wahiduzzaman                  86.0             86.0   \n",
      "15    PH1016      Ziaur Rahman                  94.0             94.0   \n",
      "16    PH1017       Afsana Mimi                  90.0             90.0   \n",
      "17    PH1018       Babul Ahmed                  88.0             88.0   \n",
      "18    PH1019      Faria Rahman                   NaN              NaN   \n",
      "19    PH1020        Nasir Khan                  86.0             86.0   \n",
      "\n",
      "    Python Marks CompletionStatus EnrollmentDate Instructor    Location  \n",
      "0           88.0        Completed     2024-01-15  Mr. Karim       Dhaka  \n",
      "1            NaN      In Progress     2024-01-20  Ms. Salma  Chattogram  \n",
      "2           85.0        Completed     2024-02-10  Mr. Karim       Dhaka  \n",
      "3           82.0        Completed     2024-02-12  Ms. Salma      Sylhet  \n",
      "4           95.0      In Progress     2024-03-05  Mr. Karim  Chattogram  \n",
      "5           78.0        Completed     2024-03-08  Ms. Salma    Rajshahi  \n",
      "6            NaN      In Progress     2024-04-01  Mr. Karim       Dhaka  \n",
      "7           85.0        Completed     2024-04-22  Ms. Salma  Chattogram  \n",
      "8           76.0        Completed     2024-05-16  Mr. David       Dhaka  \n",
      "9           88.0        Completed     2024-05-20  Ms. Salma      Sylhet  \n",
      "10          91.0      In Progress     2024-06-11  Mr. Karim      Khulna  \n",
      "11          87.0        Completed     2024-06-14  Ms. Salma  Chattogram  \n",
      "12          79.0        Completed     2024-07-02  Mr. David       Dhaka  \n",
      "13           NaN      Not Started     2024-07-09  Ms. Salma    Rajshahi  \n",
      "14          84.0        Completed     2024-08-18  Mr. Karim       Dhaka  \n",
      "15           NaN      In Progress     2024-08-21  Ms. Salma  Chattogram  \n",
      "16          93.0        Completed     2025-09-01  Mr. Karim       Dhaka  \n",
      "17          85.0        Completed     2025-09-05  Ms. Salma      Sylhet  \n",
      "18           NaN      Not Started     2025-09-15  Mr. David  Chattogram  \n",
      "19          89.0        Completed     2025-10-02  Ms. Salma       Dhaka  \n"
     ]
    }
   ],
   "source": [
    "excel_data = pd.read_excel('phitron_student_marks.xlsx')\n",
    "\n",
    "print(excel_data)\n",
    "\n",
    "\n"
   ]
  },
  {
   "cell_type": "markdown",
   "id": "7ca73a1a",
   "metadata": {},
   "source": [
    "### parquet file"
   ]
  },
  {
   "cell_type": "code",
   "execution_count": 4,
   "id": "12b01ade",
   "metadata": {},
   "outputs": [
    {
     "name": "stdout",
     "output_type": "stream",
     "text": [
      "   StudentID          FullName  Data Structure Marks  Algorithm Marks  \\\n",
      "0     PH1001       Alif Rahman                  85.0             85.0   \n",
      "1     PH1002     Fatima Akhter                  92.0             92.0   \n",
      "2     PH1003     Imran Hossain                  88.0             88.0   \n",
      "3     PH1004  Jannatul Ferdous                  78.0             78.0   \n",
      "4     PH1005       Kamal Uddin                   NaN              NaN   \n",
      "5     PH1006       Laila Begum                  75.0             75.0   \n",
      "6     PH1007    Mahmudul Hasan                  80.0             80.0   \n",
      "7     PH1008       Nadia Islam                  81.0             81.0   \n",
      "8     PH1009        Omar Faruq                  72.0             72.0   \n",
      "9     PH1010      Priya Sharma                  89.0             89.0   \n",
      "10    PH1011      Rahim Sheikh                   NaN              NaN   \n",
      "11    PH1012   Sadia Chowdhury                  85.0             85.0   \n",
      "12    PH1013      Tanvir Ahmed                  75.0             75.0   \n",
      "13    PH1014        Urmi Akter                   NaN              NaN   \n",
      "14    PH1015      Wahiduzzaman                  86.0             86.0   \n",
      "15    PH1016      Ziaur Rahman                  94.0             94.0   \n",
      "16    PH1017       Afsana Mimi                  90.0             90.0   \n",
      "17    PH1018       Babul Ahmed                  88.0             88.0   \n",
      "18    PH1019      Faria Rahman                   NaN              NaN   \n",
      "19    PH1020        Nasir Khan                  86.0             86.0   \n",
      "\n",
      "    Python Marks CompletionStatus EnrollmentDate Instructor    Location  \n",
      "0           88.0        Completed     2024-01-15  Mr. Karim       Dhaka  \n",
      "1            NaN      In Progress     2024-01-20  Ms. Salma  Chattogram  \n",
      "2           85.0        Completed     2024-02-10  Mr. Karim       Dhaka  \n",
      "3           82.0        Completed     2024-02-12  Ms. Salma      Sylhet  \n",
      "4           95.0      In Progress     2024-03-05  Mr. Karim  Chattogram  \n",
      "5           78.0        Completed     2024-03-08  Ms. Salma    Rajshahi  \n",
      "6            NaN      In Progress     2024-04-01  Mr. Karim       Dhaka  \n",
      "7           85.0        Completed     2024-04-22  Ms. Salma  Chattogram  \n",
      "8           76.0        Completed     2024-05-16  Mr. David       Dhaka  \n",
      "9           88.0        Completed     2024-05-20  Ms. Salma      Sylhet  \n",
      "10          91.0      In Progress     2024-06-11  Mr. Karim      Khulna  \n",
      "11          87.0        Completed     2024-06-14  Ms. Salma  Chattogram  \n",
      "12          79.0        Completed     2024-07-02  Mr. David       Dhaka  \n",
      "13           NaN      Not Started     2024-07-09  Ms. Salma    Rajshahi  \n",
      "14          84.0        Completed     2024-08-18  Mr. Karim       Dhaka  \n",
      "15           NaN      In Progress     2024-08-21  Ms. Salma  Chattogram  \n",
      "16          93.0        Completed     2025-09-01  Mr. Karim       Dhaka  \n",
      "17          85.0        Completed     2025-09-05  Ms. Salma      Sylhet  \n",
      "18           NaN      Not Started     2025-09-15  Mr. David  Chattogram  \n",
      "19          89.0        Completed     2025-10-02  Ms. Salma       Dhaka  \n"
     ]
    }
   ],
   "source": [
    "parquet_file = pd.read_parquet('students.parquet')\n",
    "print(parquet_file)"
   ]
  },
  {
   "cell_type": "markdown",
   "id": "8eb735ca",
   "metadata": {},
   "source": [
    "### json file"
   ]
  },
  {
   "cell_type": "code",
   "execution_count": 5,
   "id": "db5e5f54",
   "metadata": {},
   "outputs": [
    {
     "name": "stdout",
     "output_type": "stream",
     "text": [
      "  StudentID          FullName  Data Structure Marks  Algorithm Marks  \\\n",
      "0    PH1001       Alif Rahman                    85               85   \n",
      "1    PH1002     Fatima Akhter                    92               92   \n",
      "2    PH1004  Jannatul Ferdous                    78               78   \n",
      "\n",
      "   Python Marks  \n",
      "0            88  \n",
      "1            90  \n",
      "2            82  \n"
     ]
    }
   ],
   "source": [
    "jsont_file = pd.read_json('data.json')\n",
    "print(jsont_file)"
   ]
  }
 ],
 "metadata": {
  "kernelspec": {
   "display_name": "base",
   "language": "python",
   "name": "python3"
  },
  "language_info": {
   "codemirror_mode": {
    "name": "ipython",
    "version": 3
   },
   "file_extension": ".py",
   "mimetype": "text/x-python",
   "name": "python",
   "nbconvert_exporter": "python",
   "pygments_lexer": "ipython3",
   "version": "3.13.5"
  }
 },
 "nbformat": 4,
 "nbformat_minor": 5
}
